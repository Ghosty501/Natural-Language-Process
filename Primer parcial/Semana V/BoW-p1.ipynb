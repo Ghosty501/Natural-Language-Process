{
 "cells": [
  {
   "cell_type": "code",
   "execution_count": 1,
   "metadata": {},
   "outputs": [],
   "source": [
    "import nltk"
   ]
  },
  {
   "cell_type": "code",
   "execution_count": 2,
   "metadata": {},
   "outputs": [],
   "source": [
    "oracion =  \"\"\"El perro marrón corre por el parque todos los días. \n",
    "El perro juega con otros perros y siempre encuentra algo interesante en el parque. \n",
    "A veces, el perro se sienta bajo un árbol y observa a las personas que pasan por el parque.\"\"\""
   ]
  },
  {
   "cell_type": "markdown",
   "metadata": {},
   "source": [
    "Limpiar el texto (Normalizar)"
   ]
  },
  {
   "cell_type": "code",
   "execution_count": 3,
   "metadata": {},
   "outputs": [],
   "source": [
    "oracion = oracion.lower()"
   ]
  },
  {
   "cell_type": "code",
   "execution_count": 4,
   "metadata": {},
   "outputs": [
    {
     "data": {
      "text/plain": [
       "'el perro marrón corre por el parque todos los días. \\nel perro juega con otros perros y siempre encuentra algo interesante en el parque. \\na veces, el perro se sienta bajo un árbol y observa a las personas que pasan por el parque.'"
      ]
     },
     "execution_count": 4,
     "metadata": {},
     "output_type": "execute_result"
    }
   ],
   "source": [
    "oracion"
   ]
  },
  {
   "cell_type": "code",
   "execution_count": 6,
   "metadata": {},
   "outputs": [],
   "source": [
    "import re #Regular expressions"
   ]
  },
  {
   "cell_type": "code",
   "execution_count": 8,
   "metadata": {},
   "outputs": [
    {
     "data": {
      "text/plain": [
       "<re.Match object; span=(0, 5), match='áéíóú'>"
      ]
     },
     "execution_count": 8,
     "metadata": {},
     "output_type": "execute_result"
    }
   ],
   "source": [
    "re.match(r\"\\w*\",\"áéíóú\")\n",
    "\n",
    "# [a-z] busca letras de la A a la Z\n",
    "# * Asterístico quiero decir 0 o más repeticione\n"
   ]
  },
  {
   "cell_type": "code",
   "execution_count": 9,
   "metadata": {},
   "outputs": [
    {
     "data": {
      "text/plain": [
       "<re.Match object; span=(0, 5), match='.,;: '>"
      ]
     },
     "execution_count": 9,
     "metadata": {},
     "output_type": "execute_result"
    }
   ],
   "source": [
    "re.match(r\"\\W*\",\".,;: áéíóú hola\")\n",
    "\n",
    "#La W mayúscula hace match tanto con los signos de puntuación como con los espacios"
   ]
  },
  {
   "cell_type": "code",
   "execution_count": 12,
   "metadata": {},
   "outputs": [
    {
     "data": {
      "text/plain": [
       "'@Hola@@cómo@estás@'"
      ]
     },
     "execution_count": 12,
     "metadata": {},
     "output_type": "execute_result"
    }
   ],
   "source": [
    "re.sub(r\"\\W\", \"@\", \"¿Hola, cómo estás?\")\n",
    "\n",
    "#Sub analiza todo el texto y por cada vez que se cumpla la aparición del patrón, se va a reemplazar con el signo."
   ]
  },
  {
   "cell_type": "code",
   "execution_count": 15,
   "metadata": {},
   "outputs": [],
   "source": [
    "oracion = re.sub(r\"\\W\", \" \" ,oracion)"
   ]
  },
  {
   "cell_type": "code",
   "execution_count": 16,
   "metadata": {},
   "outputs": [
    {
     "data": {
      "text/plain": [
       "'el perro marrón corre por el parque todos los días   el perro juega con otros perros y siempre encuentra algo interesante en el parque   a veces  el perro se sienta bajo un árbol y observa a las personas que pasan por el parque '"
      ]
     },
     "execution_count": 16,
     "metadata": {},
     "output_type": "execute_result"
    }
   ],
   "source": [
    "oracion"
   ]
  },
  {
   "cell_type": "code",
   "execution_count": 19,
   "metadata": {},
   "outputs": [],
   "source": [
    "oracion = re.sub(r\"\\s+\", \" \",oracion)"
   ]
  },
  {
   "cell_type": "code",
   "execution_count": 20,
   "metadata": {},
   "outputs": [],
   "source": [
    "palabras = nltk.word_tokenize(oracion)"
   ]
  },
  {
   "cell_type": "code",
   "execution_count": 21,
   "metadata": {},
   "outputs": [
    {
     "data": {
      "text/plain": [
       "['el',\n",
       " 'perro',\n",
       " 'marrón',\n",
       " 'corre',\n",
       " 'por',\n",
       " 'el',\n",
       " 'parque',\n",
       " 'todos',\n",
       " 'los',\n",
       " 'días',\n",
       " 'el',\n",
       " 'perro',\n",
       " 'juega',\n",
       " 'con',\n",
       " 'otros',\n",
       " 'perros',\n",
       " 'y',\n",
       " 'siempre',\n",
       " 'encuentra',\n",
       " 'algo',\n",
       " 'interesante',\n",
       " 'en',\n",
       " 'el',\n",
       " 'parque',\n",
       " 'a',\n",
       " 'veces',\n",
       " 'el',\n",
       " 'perro',\n",
       " 'se',\n",
       " 'sienta',\n",
       " 'bajo',\n",
       " 'un',\n",
       " 'árbol',\n",
       " 'y',\n",
       " 'observa',\n",
       " 'a',\n",
       " 'las',\n",
       " 'personas',\n",
       " 'que',\n",
       " 'pasan',\n",
       " 'por',\n",
       " 'el',\n",
       " 'parque']"
      ]
     },
     "execution_count": 21,
     "metadata": {},
     "output_type": "execute_result"
    }
   ],
   "source": [
    "palabras"
   ]
  },
  {
   "cell_type": "code",
   "execution_count": 22,
   "metadata": {},
   "outputs": [],
   "source": [
    "from nltk.corpus import stopwords"
   ]
  },
  {
   "cell_type": "code",
   "execution_count": 23,
   "metadata": {},
   "outputs": [],
   "source": [
    "p_v = stopwords.words(\"spanish\")"
   ]
  },
  {
   "cell_type": "code",
   "execution_count": 26,
   "metadata": {},
   "outputs": [],
   "source": [
    "palabras = [w for w in palabras if w not in p_v]"
   ]
  },
  {
   "cell_type": "code",
   "execution_count": 27,
   "metadata": {},
   "outputs": [
    {
     "data": {
      "text/plain": [
       "21"
      ]
     },
     "execution_count": 27,
     "metadata": {},
     "output_type": "execute_result"
    }
   ],
   "source": [
    "len(palabras)"
   ]
  },
  {
   "cell_type": "code",
   "execution_count": 28,
   "metadata": {},
   "outputs": [],
   "source": [
    "vocabulario = set(palabras)"
   ]
  },
  {
   "cell_type": "code",
   "execution_count": 30,
   "metadata": {},
   "outputs": [
    {
     "data": {
      "text/plain": [
       "17"
      ]
     },
     "execution_count": 30,
     "metadata": {},
     "output_type": "execute_result"
    }
   ],
   "source": [
    "len(vocabulario)"
   ]
  },
  {
   "cell_type": "code",
   "execution_count": 29,
   "metadata": {},
   "outputs": [
    {
     "data": {
      "text/plain": [
       "{'bajo',\n",
       " 'corre',\n",
       " 'días',\n",
       " 'encuentra',\n",
       " 'interesante',\n",
       " 'juega',\n",
       " 'marrón',\n",
       " 'observa',\n",
       " 'parque',\n",
       " 'pasan',\n",
       " 'perro',\n",
       " 'perros',\n",
       " 'personas',\n",
       " 'siempre',\n",
       " 'sienta',\n",
       " 'veces',\n",
       " 'árbol'}"
      ]
     },
     "execution_count": 29,
     "metadata": {},
     "output_type": "execute_result"
    }
   ],
   "source": [
    "vocabulario"
   ]
  },
  {
   "cell_type": "code",
   "execution_count": 31,
   "metadata": {},
   "outputs": [],
   "source": [
    "frecs = {}"
   ]
  },
  {
   "cell_type": "code",
   "execution_count": 32,
   "metadata": {},
   "outputs": [],
   "source": [
    "for palabra in palabras: \n",
    "    if palabra not in frecs.keys():\n",
    "        frecs[palabra] = 1\n",
    "    else:\n",
    "        frecs[palabra] += 1"
   ]
  },
  {
   "cell_type": "code",
   "execution_count": 33,
   "metadata": {},
   "outputs": [
    {
     "data": {
      "text/plain": [
       "{'perro': 3,\n",
       " 'marrón': 1,\n",
       " 'corre': 1,\n",
       " 'parque': 3,\n",
       " 'días': 1,\n",
       " 'juega': 1,\n",
       " 'perros': 1,\n",
       " 'siempre': 1,\n",
       " 'encuentra': 1,\n",
       " 'interesante': 1,\n",
       " 'veces': 1,\n",
       " 'sienta': 1,\n",
       " 'bajo': 1,\n",
       " 'árbol': 1,\n",
       " 'observa': 1,\n",
       " 'personas': 1,\n",
       " 'pasan': 1}"
      ]
     },
     "execution_count": 33,
     "metadata": {},
     "output_type": "execute_result"
    }
   ],
   "source": [
    "frecs"
   ]
  },
  {
   "cell_type": "code",
   "execution_count": 34,
   "metadata": {},
   "outputs": [],
   "source": [
    "from collections import Counter"
   ]
  },
  {
   "cell_type": "code",
   "execution_count": 35,
   "metadata": {},
   "outputs": [
    {
     "data": {
      "text/plain": [
       "Counter({'perro': 3,\n",
       "         'parque': 3,\n",
       "         'marrón': 1,\n",
       "         'corre': 1,\n",
       "         'días': 1,\n",
       "         'juega': 1,\n",
       "         'perros': 1,\n",
       "         'siempre': 1,\n",
       "         'encuentra': 1,\n",
       "         'interesante': 1,\n",
       "         'veces': 1,\n",
       "         'sienta': 1,\n",
       "         'bajo': 1,\n",
       "         'árbol': 1,\n",
       "         'observa': 1,\n",
       "         'personas': 1,\n",
       "         'pasan': 1})"
      ]
     },
     "execution_count": 35,
     "metadata": {},
     "output_type": "execute_result"
    }
   ],
   "source": [
    "Counter(palabras)"
   ]
  },
  {
   "cell_type": "code",
   "execution_count": null,
   "metadata": {},
   "outputs": [],
   "source": []
  }
 ],
 "metadata": {
  "kernelspec": {
   "display_name": "Python 3",
   "language": "python",
   "name": "python3"
  },
  "language_info": {
   "codemirror_mode": {
    "name": "ipython",
    "version": 3
   },
   "file_extension": ".py",
   "mimetype": "text/x-python",
   "name": "python",
   "nbconvert_exporter": "python",
   "pygments_lexer": "ipython3",
   "version": "3.12.3"
  }
 },
 "nbformat": 4,
 "nbformat_minor": 2
}
