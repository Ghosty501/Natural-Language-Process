{
 "cells": [
  {
   "cell_type": "code",
   "execution_count": 2,
   "metadata": {},
   "outputs": [],
   "source": [
    "import nltk\n",
    "import pandas as pd"
   ]
  },
  {
   "cell_type": "code",
   "execution_count": 31,
   "metadata": {},
   "outputs": [],
   "source": [
    "oracion_original =  \"\"\"El perro marrón corre por el parque todos los días. \n",
    "El perro juega con otros perros y siempre encuentra algo interesante en el parque. \n",
    "A veces, el perro se sienta bajo un árbol y observa a las personas que pasan por el parque.\"\"\""
   ]
  },
  {
   "cell_type": "markdown",
   "metadata": {},
   "source": [
    "Limpiar el texto (Normalizar)"
   ]
  },
  {
   "cell_type": "code",
   "execution_count": 32,
   "metadata": {},
   "outputs": [],
   "source": [
    "oracion = oracion_original.lower()"
   ]
  },
  {
   "cell_type": "code",
   "execution_count": 33,
   "metadata": {},
   "outputs": [
    {
     "data": {
      "text/plain": [
       "'el perro marrón corre por el parque todos los días. \\nel perro juega con otros perros y siempre encuentra algo interesante en el parque. \\na veces, el perro se sienta bajo un árbol y observa a las personas que pasan por el parque.'"
      ]
     },
     "execution_count": 33,
     "metadata": {},
     "output_type": "execute_result"
    }
   ],
   "source": [
    "oracion"
   ]
  },
  {
   "cell_type": "code",
   "execution_count": 34,
   "metadata": {},
   "outputs": [],
   "source": [
    "import re #Regular expressions"
   ]
  },
  {
   "cell_type": "code",
   "execution_count": 35,
   "metadata": {},
   "outputs": [
    {
     "data": {
      "text/plain": [
       "<re.Match object; span=(0, 5), match='áéíóú'>"
      ]
     },
     "execution_count": 35,
     "metadata": {},
     "output_type": "execute_result"
    }
   ],
   "source": [
    "re.match(r\"\\w*\",\"áéíóú\")\n",
    "\n",
    "# [a-z] busca letras de la A a la Z\n",
    "# * Asterístico quiero decir 0 o más repeticione\n"
   ]
  },
  {
   "cell_type": "code",
   "execution_count": 36,
   "metadata": {},
   "outputs": [
    {
     "data": {
      "text/plain": [
       "<re.Match object; span=(0, 5), match='.,;: '>"
      ]
     },
     "execution_count": 36,
     "metadata": {},
     "output_type": "execute_result"
    }
   ],
   "source": [
    "re.match(r\"\\W*\",\".,;: áéíóú hola\")\n",
    "\n",
    "#La W mayúscula hace match tanto con los signos de puntuación como con los espacios"
   ]
  },
  {
   "cell_type": "code",
   "execution_count": 37,
   "metadata": {},
   "outputs": [
    {
     "data": {
      "text/plain": [
       "'@Hola@@cómo@estás@'"
      ]
     },
     "execution_count": 37,
     "metadata": {},
     "output_type": "execute_result"
    }
   ],
   "source": [
    "re.sub(r\"\\W\", \"@\", \"¿Hola, cómo estás?\")\n",
    "\n",
    "#Sub analiza todo el texto y por cada vez que se cumpla la aparición del patrón, se va a reemplazar con el signo."
   ]
  },
  {
   "cell_type": "code",
   "execution_count": 38,
   "metadata": {},
   "outputs": [],
   "source": [
    "oracion = re.sub(r\"\\W\", \" \" ,oracion)"
   ]
  },
  {
   "cell_type": "code",
   "execution_count": 39,
   "metadata": {},
   "outputs": [
    {
     "data": {
      "text/plain": [
       "'el perro marrón corre por el parque todos los días   el perro juega con otros perros y siempre encuentra algo interesante en el parque   a veces  el perro se sienta bajo un árbol y observa a las personas que pasan por el parque '"
      ]
     },
     "execution_count": 39,
     "metadata": {},
     "output_type": "execute_result"
    }
   ],
   "source": [
    "oracion"
   ]
  },
  {
   "cell_type": "code",
   "execution_count": 40,
   "metadata": {},
   "outputs": [],
   "source": [
    "oracion = re.sub(r\"\\s+\", \" \",oracion)"
   ]
  },
  {
   "cell_type": "code",
   "execution_count": 41,
   "metadata": {},
   "outputs": [],
   "source": [
    "palabras = nltk.word_tokenize(oracion)"
   ]
  },
  {
   "cell_type": "code",
   "execution_count": 42,
   "metadata": {},
   "outputs": [
    {
     "data": {
      "text/plain": [
       "['el',\n",
       " 'perro',\n",
       " 'marrón',\n",
       " 'corre',\n",
       " 'por',\n",
       " 'el',\n",
       " 'parque',\n",
       " 'todos',\n",
       " 'los',\n",
       " 'días',\n",
       " 'el',\n",
       " 'perro',\n",
       " 'juega',\n",
       " 'con',\n",
       " 'otros',\n",
       " 'perros',\n",
       " 'y',\n",
       " 'siempre',\n",
       " 'encuentra',\n",
       " 'algo',\n",
       " 'interesante',\n",
       " 'en',\n",
       " 'el',\n",
       " 'parque',\n",
       " 'a',\n",
       " 'veces',\n",
       " 'el',\n",
       " 'perro',\n",
       " 'se',\n",
       " 'sienta',\n",
       " 'bajo',\n",
       " 'un',\n",
       " 'árbol',\n",
       " 'y',\n",
       " 'observa',\n",
       " 'a',\n",
       " 'las',\n",
       " 'personas',\n",
       " 'que',\n",
       " 'pasan',\n",
       " 'por',\n",
       " 'el',\n",
       " 'parque']"
      ]
     },
     "execution_count": 42,
     "metadata": {},
     "output_type": "execute_result"
    }
   ],
   "source": [
    "palabras"
   ]
  },
  {
   "cell_type": "code",
   "execution_count": 43,
   "metadata": {},
   "outputs": [],
   "source": [
    "from nltk.corpus import stopwords"
   ]
  },
  {
   "cell_type": "code",
   "execution_count": 44,
   "metadata": {},
   "outputs": [],
   "source": [
    "p_v = stopwords.words(\"spanish\")"
   ]
  },
  {
   "cell_type": "code",
   "execution_count": 45,
   "metadata": {},
   "outputs": [],
   "source": [
    "palabras = [w for w in palabras if w not in p_v]"
   ]
  },
  {
   "cell_type": "code",
   "execution_count": 46,
   "metadata": {},
   "outputs": [
    {
     "data": {
      "text/plain": [
       "21"
      ]
     },
     "execution_count": 46,
     "metadata": {},
     "output_type": "execute_result"
    }
   ],
   "source": [
    "len(palabras)"
   ]
  },
  {
   "cell_type": "code",
   "execution_count": 47,
   "metadata": {},
   "outputs": [],
   "source": [
    "vocabulario = set(palabras)"
   ]
  },
  {
   "cell_type": "code",
   "execution_count": 48,
   "metadata": {},
   "outputs": [
    {
     "data": {
      "text/plain": [
       "17"
      ]
     },
     "execution_count": 48,
     "metadata": {},
     "output_type": "execute_result"
    }
   ],
   "source": [
    "len(vocabulario)"
   ]
  },
  {
   "cell_type": "code",
   "execution_count": 49,
   "metadata": {},
   "outputs": [
    {
     "data": {
      "text/plain": [
       "{'bajo',\n",
       " 'corre',\n",
       " 'días',\n",
       " 'encuentra',\n",
       " 'interesante',\n",
       " 'juega',\n",
       " 'marrón',\n",
       " 'observa',\n",
       " 'parque',\n",
       " 'pasan',\n",
       " 'perro',\n",
       " 'perros',\n",
       " 'personas',\n",
       " 'siempre',\n",
       " 'sienta',\n",
       " 'veces',\n",
       " 'árbol'}"
      ]
     },
     "execution_count": 49,
     "metadata": {},
     "output_type": "execute_result"
    }
   ],
   "source": [
    "vocabulario"
   ]
  },
  {
   "cell_type": "code",
   "execution_count": 50,
   "metadata": {},
   "outputs": [],
   "source": [
    "frecs = {}"
   ]
  },
  {
   "cell_type": "code",
   "execution_count": 51,
   "metadata": {},
   "outputs": [],
   "source": [
    "for palabra in palabras: \n",
    "    if palabra not in frecs.keys():\n",
    "        frecs[palabra] = 1\n",
    "    else:\n",
    "        frecs[palabra] += 1"
   ]
  },
  {
   "cell_type": "code",
   "execution_count": 52,
   "metadata": {},
   "outputs": [
    {
     "data": {
      "text/plain": [
       "{'perro': 3,\n",
       " 'marrón': 1,\n",
       " 'corre': 1,\n",
       " 'parque': 3,\n",
       " 'días': 1,\n",
       " 'juega': 1,\n",
       " 'perros': 1,\n",
       " 'siempre': 1,\n",
       " 'encuentra': 1,\n",
       " 'interesante': 1,\n",
       " 'veces': 1,\n",
       " 'sienta': 1,\n",
       " 'bajo': 1,\n",
       " 'árbol': 1,\n",
       " 'observa': 1,\n",
       " 'personas': 1,\n",
       " 'pasan': 1}"
      ]
     },
     "execution_count": 52,
     "metadata": {},
     "output_type": "execute_result"
    }
   ],
   "source": [
    "frecs"
   ]
  },
  {
   "cell_type": "code",
   "execution_count": 53,
   "metadata": {},
   "outputs": [],
   "source": [
    "from collections import Counter"
   ]
  },
  {
   "cell_type": "code",
   "execution_count": 54,
   "metadata": {},
   "outputs": [
    {
     "data": {
      "text/plain": [
       "Counter({'perro': 3,\n",
       "         'parque': 3,\n",
       "         'marrón': 1,\n",
       "         'corre': 1,\n",
       "         'días': 1,\n",
       "         'juega': 1,\n",
       "         'perros': 1,\n",
       "         'siempre': 1,\n",
       "         'encuentra': 1,\n",
       "         'interesante': 1,\n",
       "         'veces': 1,\n",
       "         'sienta': 1,\n",
       "         'bajo': 1,\n",
       "         'árbol': 1,\n",
       "         'observa': 1,\n",
       "         'personas': 1,\n",
       "         'pasan': 1})"
      ]
     },
     "execution_count": 54,
     "metadata": {},
     "output_type": "execute_result"
    }
   ],
   "source": [
    "Counter(palabras)"
   ]
  },
  {
   "cell_type": "code",
   "execution_count": 55,
   "metadata": {},
   "outputs": [],
   "source": [
    "frecs = dict(Counter(palabras))"
   ]
  },
  {
   "cell_type": "code",
   "execution_count": 56,
   "metadata": {},
   "outputs": [
    {
     "data": {
      "text/html": [
       "<div>\n",
       "<style scoped>\n",
       "    .dataframe tbody tr th:only-of-type {\n",
       "        vertical-align: middle;\n",
       "    }\n",
       "\n",
       "    .dataframe tbody tr th {\n",
       "        vertical-align: top;\n",
       "    }\n",
       "\n",
       "    .dataframe thead th {\n",
       "        text-align: right;\n",
       "    }\n",
       "</style>\n",
       "<table border=\"1\" class=\"dataframe\">\n",
       "  <thead>\n",
       "    <tr style=\"text-align: right;\">\n",
       "      <th></th>\n",
       "      <th>perro</th>\n",
       "      <th>marrón</th>\n",
       "      <th>corre</th>\n",
       "      <th>parque</th>\n",
       "      <th>días</th>\n",
       "      <th>juega</th>\n",
       "      <th>perros</th>\n",
       "      <th>siempre</th>\n",
       "      <th>encuentra</th>\n",
       "      <th>interesante</th>\n",
       "      <th>veces</th>\n",
       "      <th>sienta</th>\n",
       "      <th>bajo</th>\n",
       "      <th>árbol</th>\n",
       "      <th>observa</th>\n",
       "      <th>personas</th>\n",
       "      <th>pasan</th>\n",
       "    </tr>\n",
       "  </thead>\n",
       "  <tbody>\n",
       "    <tr>\n",
       "      <th>El perro marrón corre por el parque todos los días.</th>\n",
       "      <td>3</td>\n",
       "      <td>1</td>\n",
       "      <td>1</td>\n",
       "      <td>3</td>\n",
       "      <td>1</td>\n",
       "      <td>1</td>\n",
       "      <td>1</td>\n",
       "      <td>1</td>\n",
       "      <td>1</td>\n",
       "      <td>1</td>\n",
       "      <td>1</td>\n",
       "      <td>1</td>\n",
       "      <td>1</td>\n",
       "      <td>1</td>\n",
       "      <td>1</td>\n",
       "      <td>1</td>\n",
       "      <td>1</td>\n",
       "    </tr>\n",
       "  </tbody>\n",
       "</table>\n",
       "</div>"
      ],
      "text/plain": [
       "                                                    perro  marrón  corre  \\\n",
       "El perro marrón corre por el parque todos los d...      3       1      1   \n",
       "\n",
       "                                                    parque  días  juega  \\\n",
       "El perro marrón corre por el parque todos los d...       3     1      1   \n",
       "\n",
       "                                                    perros  siempre  \\\n",
       "El perro marrón corre por el parque todos los d...       1        1   \n",
       "\n",
       "                                                    encuentra  interesante  \\\n",
       "El perro marrón corre por el parque todos los d...          1            1   \n",
       "\n",
       "                                                    veces  sienta  bajo  \\\n",
       "El perro marrón corre por el parque todos los d...      1       1     1   \n",
       "\n",
       "                                                    árbol  observa  personas  \\\n",
       "El perro marrón corre por el parque todos los d...      1        1         1   \n",
       "\n",
       "                                                    pasan  \n",
       "El perro marrón corre por el parque todos los d...      1  "
      ]
     },
     "execution_count": 56,
     "metadata": {},
     "output_type": "execute_result"
    }
   ],
   "source": [
    "pd.DataFrame([frecs], index = [nltk.sent_tokenize(oracion_original)[0]])"
   ]
  },
  {
   "cell_type": "code",
   "execution_count": 57,
   "metadata": {},
   "outputs": [],
   "source": [
    "import math"
   ]
  },
  {
   "cell_type": "code",
   "execution_count": null,
   "metadata": {},
   "outputs": [],
   "source": [
    "math.log(0+1)"
   ]
  }
 ],
 "metadata": {
  "kernelspec": {
   "display_name": "Python 3",
   "language": "python",
   "name": "python3"
  },
  "language_info": {
   "codemirror_mode": {
    "name": "ipython",
    "version": 3
   },
   "file_extension": ".py",
   "mimetype": "text/x-python",
   "name": "python",
   "nbconvert_exporter": "python",
   "pygments_lexer": "ipython3",
   "version": "3.12.3"
  }
 },
 "nbformat": 4,
 "nbformat_minor": 2
}
