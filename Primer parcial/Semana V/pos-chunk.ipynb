{
 "cells": [
  {
   "cell_type": "code",
   "execution_count": 17,
   "metadata": {},
   "outputs": [],
   "source": [
    "import nltk"
   ]
  },
  {
   "cell_type": "code",
   "execution_count": 18,
   "metadata": {},
   "outputs": [],
   "source": [
    "text = \"John's big idea isn't all that bad.\""
   ]
  },
  {
   "cell_type": "code",
   "execution_count": 19,
   "metadata": {},
   "outputs": [],
   "source": [
    "words = nltk.word_tokenize(text)"
   ]
  },
  {
   "cell_type": "code",
   "execution_count": 20,
   "metadata": {},
   "outputs": [
    {
     "data": {
      "text/plain": [
       "['John', \"'s\", 'big', 'idea', 'is', \"n't\", 'all', 'that', 'bad', '.']"
      ]
     },
     "execution_count": 20,
     "metadata": {},
     "output_type": "execute_result"
    }
   ],
   "source": [
    "words"
   ]
  },
  {
   "cell_type": "code",
   "execution_count": 25,
   "metadata": {},
   "outputs": [],
   "source": [
    "tag = nltk.pos_tag(words)"
   ]
  },
  {
   "cell_type": "code",
   "execution_count": 22,
   "metadata": {},
   "outputs": [
    {
     "name": "stdout",
     "output_type": "stream",
     "text": [
      "('John', 'NNP')\n",
      "(\"'s\", 'POS')\n",
      "('big', 'JJ')\n",
      "('idea', 'NN')\n",
      "('is', 'VBZ')\n",
      "(\"n't\", 'RB')\n",
      "('all', 'PDT')\n",
      "('that', 'DT')\n",
      "('bad', 'JJ')\n",
      "('.', '.')\n"
     ]
    }
   ],
   "source": [
    "for i in tag:\n",
    "    print(i)"
   ]
  },
  {
   "cell_type": "code",
   "execution_count": 23,
   "metadata": {},
   "outputs": [
    {
     "name": "stdout",
     "output_type": "stream",
     "text": [
      "Palabra: John, etiqueta: NNP\n",
      "Palabra: 's, etiqueta: POS\n",
      "Palabra: big, etiqueta: JJ\n",
      "Palabra: idea, etiqueta: NN\n",
      "Palabra: is, etiqueta: VBZ\n",
      "Palabra: n't, etiqueta: RB\n",
      "Palabra: all, etiqueta: PDT\n",
      "Palabra: that, etiqueta: DT\n",
      "Palabra: bad, etiqueta: JJ\n",
      "Palabra: ., etiqueta: .\n"
     ]
    }
   ],
   "source": [
    "for word, tag in tag:\n",
    "    print(f\"Palabra: {word}, etiqueta: {tag}\")"
   ]
  },
  {
   "cell_type": "code",
   "execution_count": 30,
   "metadata": {},
   "outputs": [],
   "source": [
    "chunks = nltk.ne_chunk(tag)"
   ]
  },
  {
   "cell_type": "code",
   "execution_count": 31,
   "metadata": {},
   "outputs": [],
   "source": [
    "chunks.draw()"
   ]
  },
  {
   "cell_type": "code",
   "execution_count": 32,
   "metadata": {},
   "outputs": [
    {
     "name": "stdout",
     "output_type": "stream",
     "text": [
      "                               S                                       \n",
      "   ____________________________|__________________________________      \n",
      "  |      |       |      |      |       |       |      |     |   PERSON \n",
      "  |      |       |      |      |       |       |      |     |     |     \n",
      "'s/POS big/JJ idea/NN is/VBZ n't/RB all/PDT that/DT bad/JJ ./. John/NNP\n",
      "\n"
     ]
    }
   ],
   "source": [
    "chunks.pretty_print()"
   ]
  }
 ],
 "metadata": {
  "kernelspec": {
   "display_name": "Python 3",
   "language": "python",
   "name": "python3"
  },
  "language_info": {
   "codemirror_mode": {
    "name": "ipython",
    "version": 3
   },
   "file_extension": ".py",
   "mimetype": "text/x-python",
   "name": "python",
   "nbconvert_exporter": "python",
   "pygments_lexer": "ipython3",
   "version": "3.12.3"
  }
 },
 "nbformat": 4,
 "nbformat_minor": 2
}
