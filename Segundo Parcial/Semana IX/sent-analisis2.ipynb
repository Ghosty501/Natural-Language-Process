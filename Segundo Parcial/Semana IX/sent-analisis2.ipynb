{
 "cells": [
  {
   "cell_type": "code",
   "execution_count": 1,
   "metadata": {},
   "outputs": [],
   "source": [
    "import re\n",
    "import nltk\n",
    "import pandas as pd\n",
    "from nltk.corpus import stopwords\n",
    "from nltk.sentiment import SentimentIntensityAnalyzer\n",
    "from nltk import word_tokenize, FreqDist, pos_tag"
   ]
  },
  {
   "cell_type": "code",
   "execution_count": 2,
   "metadata": {},
   "outputs": [],
   "source": [
    "dataset = pd.read_csv('f:/Excel/CSV/dataset.csv')"
   ]
  },
  {
   "cell_type": "code",
   "execution_count": 3,
   "metadata": {},
   "outputs": [
    {
     "data": {
      "text/html": [
       "<div>\n",
       "<style scoped>\n",
       "    .dataframe tbody tr th:only-of-type {\n",
       "        vertical-align: middle;\n",
       "    }\n",
       "\n",
       "    .dataframe tbody tr th {\n",
       "        vertical-align: top;\n",
       "    }\n",
       "\n",
       "    .dataframe thead th {\n",
       "        text-align: right;\n",
       "    }\n",
       "</style>\n",
       "<table border=\"1\" class=\"dataframe\">\n",
       "  <thead>\n",
       "    <tr style=\"text-align: right;\">\n",
       "      <th></th>\n",
       "      <th>product_review</th>\n",
       "      <th>product_category</th>\n",
       "    </tr>\n",
       "  </thead>\n",
       "  <tbody>\n",
       "    <tr>\n",
       "      <th>0</th>\n",
       "      <td>I love, love, love this jumpsuit. it's fun, fl...</td>\n",
       "      <td>Bottoms</td>\n",
       "    </tr>\n",
       "    <tr>\n",
       "      <th>1</th>\n",
       "      <td>Beautifully made pants and on trend with the f...</td>\n",
       "      <td>Bottoms</td>\n",
       "    </tr>\n",
       "    <tr>\n",
       "      <th>2</th>\n",
       "      <td>I never would have given these pants a second ...</td>\n",
       "      <td>Bottoms</td>\n",
       "    </tr>\n",
       "    <tr>\n",
       "      <th>3</th>\n",
       "      <td>These pants are even better in person. the onl...</td>\n",
       "      <td>Bottoms</td>\n",
       "    </tr>\n",
       "    <tr>\n",
       "      <th>4</th>\n",
       "      <td>The silhouette and length of this skirt and le...</td>\n",
       "      <td>Bottoms</td>\n",
       "    </tr>\n",
       "  </tbody>\n",
       "</table>\n",
       "</div>"
      ],
      "text/plain": [
       "                                      product_review product_category\n",
       "0  I love, love, love this jumpsuit. it's fun, fl...          Bottoms\n",
       "1  Beautifully made pants and on trend with the f...          Bottoms\n",
       "2  I never would have given these pants a second ...          Bottoms\n",
       "3  These pants are even better in person. the onl...          Bottoms\n",
       "4  The silhouette and length of this skirt and le...          Bottoms"
      ]
     },
     "execution_count": 3,
     "metadata": {},
     "output_type": "execute_result"
    }
   ],
   "source": [
    "dataset.head()"
   ]
  },
  {
   "cell_type": "code",
   "execution_count": 4,
   "metadata": {},
   "outputs": [
    {
     "data": {
      "text/plain": [
       "(3376, 2)"
      ]
     },
     "execution_count": 4,
     "metadata": {},
     "output_type": "execute_result"
    }
   ],
   "source": [
    "dataset.shape"
   ]
  },
  {
   "cell_type": "code",
   "execution_count": 5,
   "metadata": {},
   "outputs": [
    {
     "data": {
      "text/plain": [
       "0       I love, love, love this jumpsuit. it's fun, fl...\n",
       "1       Beautifully made pants and on trend with the f...\n",
       "2       I never would have given these pants a second ...\n",
       "3       These pants are even better in person. the onl...\n",
       "4       The silhouette and length of this skirt and le...\n",
       "                              ...                        \n",
       "3371    This is a nice everyday jacket to wear with dr...\n",
       "3372    Almost perfect! this jacket doesn't have that ...\n",
       "3373    I really like the soft and very wearability of...\n",
       "3374    I need to remember that this brand runs small....\n",
       "3375    I had my eye on this coat for so long. when i ...\n",
       "Name: product_review, Length: 3376, dtype: object"
      ]
     },
     "execution_count": 5,
     "metadata": {},
     "output_type": "execute_result"
    }
   ],
   "source": [
    "dataset[\"product_review\"]"
   ]
  },
  {
   "cell_type": "code",
   "execution_count": 6,
   "metadata": {},
   "outputs": [
    {
     "data": {
      "text/plain": [
       "\"I love, love, love this jumpsuit. it's fun, flirty, and fabulous! every time i wear it, i get nothing but great compliments!\""
      ]
     },
     "execution_count": 6,
     "metadata": {},
     "output_type": "execute_result"
    }
   ],
   "source": [
    "dataset.product_review[0]"
   ]
  },
  {
   "cell_type": "code",
   "execution_count": 7,
   "metadata": {},
   "outputs": [
    {
     "data": {
      "text/plain": [
       "product_category\n",
       "Bottoms     685\n",
       "Dresses     681\n",
       "Tops        680\n",
       "Jackets     680\n",
       "Intimate    650\n",
       "Name: count, dtype: int64"
      ]
     },
     "execution_count": 7,
     "metadata": {},
     "output_type": "execute_result"
    }
   ],
   "source": [
    "dataset[\"product_category\"].value_counts()"
   ]
  },
  {
   "cell_type": "code",
   "execution_count": 8,
   "metadata": {},
   "outputs": [],
   "source": [
    "dataset[\"product_review\"] = dataset[\"product_review\"].str.lower()"
   ]
  },
  {
   "cell_type": "code",
   "execution_count": 9,
   "metadata": {},
   "outputs": [
    {
     "data": {
      "text/html": [
       "<div>\n",
       "<style scoped>\n",
       "    .dataframe tbody tr th:only-of-type {\n",
       "        vertical-align: middle;\n",
       "    }\n",
       "\n",
       "    .dataframe tbody tr th {\n",
       "        vertical-align: top;\n",
       "    }\n",
       "\n",
       "    .dataframe thead th {\n",
       "        text-align: right;\n",
       "    }\n",
       "</style>\n",
       "<table border=\"1\" class=\"dataframe\">\n",
       "  <thead>\n",
       "    <tr style=\"text-align: right;\">\n",
       "      <th></th>\n",
       "      <th>product_review</th>\n",
       "      <th>product_category</th>\n",
       "    </tr>\n",
       "  </thead>\n",
       "  <tbody>\n",
       "    <tr>\n",
       "      <th>0</th>\n",
       "      <td>i love, love, love this jumpsuit. it's fun, fl...</td>\n",
       "      <td>Bottoms</td>\n",
       "    </tr>\n",
       "    <tr>\n",
       "      <th>1</th>\n",
       "      <td>beautifully made pants and on trend with the f...</td>\n",
       "      <td>Bottoms</td>\n",
       "    </tr>\n",
       "    <tr>\n",
       "      <th>2</th>\n",
       "      <td>i never would have given these pants a second ...</td>\n",
       "      <td>Bottoms</td>\n",
       "    </tr>\n",
       "    <tr>\n",
       "      <th>3</th>\n",
       "      <td>these pants are even better in person. the onl...</td>\n",
       "      <td>Bottoms</td>\n",
       "    </tr>\n",
       "    <tr>\n",
       "      <th>4</th>\n",
       "      <td>the silhouette and length of this skirt and le...</td>\n",
       "      <td>Bottoms</td>\n",
       "    </tr>\n",
       "  </tbody>\n",
       "</table>\n",
       "</div>"
      ],
      "text/plain": [
       "                                      product_review product_category\n",
       "0  i love, love, love this jumpsuit. it's fun, fl...          Bottoms\n",
       "1  beautifully made pants and on trend with the f...          Bottoms\n",
       "2  i never would have given these pants a second ...          Bottoms\n",
       "3  these pants are even better in person. the onl...          Bottoms\n",
       "4  the silhouette and length of this skirt and le...          Bottoms"
      ]
     },
     "execution_count": 9,
     "metadata": {},
     "output_type": "execute_result"
    }
   ],
   "source": [
    "dataset.head()"
   ]
  },
  {
   "cell_type": "code",
   "execution_count": 10,
   "metadata": {},
   "outputs": [],
   "source": [
    "def remove_punct(s):\n",
    "    s = re.sub(r\"\\W\", \" \", s)\n",
    "    return re.sub(r\"\\s+\", \" \", s)"
   ]
  },
  {
   "cell_type": "code",
   "execution_count": 11,
   "metadata": {},
   "outputs": [],
   "source": [
    "dataset[\"product_review\"] = dataset[\"product_review\"].apply(remove_punct)"
   ]
  },
  {
   "cell_type": "code",
   "execution_count": 12,
   "metadata": {},
   "outputs": [
    {
     "data": {
      "text/html": [
       "<div>\n",
       "<style scoped>\n",
       "    .dataframe tbody tr th:only-of-type {\n",
       "        vertical-align: middle;\n",
       "    }\n",
       "\n",
       "    .dataframe tbody tr th {\n",
       "        vertical-align: top;\n",
       "    }\n",
       "\n",
       "    .dataframe thead th {\n",
       "        text-align: right;\n",
       "    }\n",
       "</style>\n",
       "<table border=\"1\" class=\"dataframe\">\n",
       "  <thead>\n",
       "    <tr style=\"text-align: right;\">\n",
       "      <th></th>\n",
       "      <th>product_review</th>\n",
       "      <th>product_category</th>\n",
       "    </tr>\n",
       "  </thead>\n",
       "  <tbody>\n",
       "    <tr>\n",
       "      <th>0</th>\n",
       "      <td>i love love love this jumpsuit it s fun flirty...</td>\n",
       "      <td>Bottoms</td>\n",
       "    </tr>\n",
       "    <tr>\n",
       "      <th>1</th>\n",
       "      <td>beautifully made pants and on trend with the f...</td>\n",
       "      <td>Bottoms</td>\n",
       "    </tr>\n",
       "    <tr>\n",
       "      <th>2</th>\n",
       "      <td>i never would have given these pants a second ...</td>\n",
       "      <td>Bottoms</td>\n",
       "    </tr>\n",
       "    <tr>\n",
       "      <th>3</th>\n",
       "      <td>these pants are even better in person the only...</td>\n",
       "      <td>Bottoms</td>\n",
       "    </tr>\n",
       "    <tr>\n",
       "      <th>4</th>\n",
       "      <td>the silhouette and length of this skirt and le...</td>\n",
       "      <td>Bottoms</td>\n",
       "    </tr>\n",
       "  </tbody>\n",
       "</table>\n",
       "</div>"
      ],
      "text/plain": [
       "                                      product_review product_category\n",
       "0  i love love love this jumpsuit it s fun flirty...          Bottoms\n",
       "1  beautifully made pants and on trend with the f...          Bottoms\n",
       "2  i never would have given these pants a second ...          Bottoms\n",
       "3  these pants are even better in person the only...          Bottoms\n",
       "4  the silhouette and length of this skirt and le...          Bottoms"
      ]
     },
     "execution_count": 12,
     "metadata": {},
     "output_type": "execute_result"
    }
   ],
   "source": [
    "dataset.head()"
   ]
  },
  {
   "cell_type": "code",
   "execution_count": 13,
   "metadata": {},
   "outputs": [],
   "source": [
    "dataset[\"product_review_tokens\"] = dataset[\"product_review\"].apply(word_tokenize)"
   ]
  },
  {
   "cell_type": "code",
   "execution_count": 14,
   "metadata": {},
   "outputs": [
    {
     "data": {
      "text/html": [
       "<div>\n",
       "<style scoped>\n",
       "    .dataframe tbody tr th:only-of-type {\n",
       "        vertical-align: middle;\n",
       "    }\n",
       "\n",
       "    .dataframe tbody tr th {\n",
       "        vertical-align: top;\n",
       "    }\n",
       "\n",
       "    .dataframe thead th {\n",
       "        text-align: right;\n",
       "    }\n",
       "</style>\n",
       "<table border=\"1\" class=\"dataframe\">\n",
       "  <thead>\n",
       "    <tr style=\"text-align: right;\">\n",
       "      <th></th>\n",
       "      <th>product_review</th>\n",
       "      <th>product_category</th>\n",
       "      <th>product_review_tokens</th>\n",
       "    </tr>\n",
       "  </thead>\n",
       "  <tbody>\n",
       "    <tr>\n",
       "      <th>0</th>\n",
       "      <td>i love love love this jumpsuit it s fun flirty...</td>\n",
       "      <td>Bottoms</td>\n",
       "      <td>[i, love, love, love, this, jumpsuit, it, s, f...</td>\n",
       "    </tr>\n",
       "    <tr>\n",
       "      <th>1</th>\n",
       "      <td>beautifully made pants and on trend with the f...</td>\n",
       "      <td>Bottoms</td>\n",
       "      <td>[beautifully, made, pants, and, on, trend, wit...</td>\n",
       "    </tr>\n",
       "    <tr>\n",
       "      <th>2</th>\n",
       "      <td>i never would have given these pants a second ...</td>\n",
       "      <td>Bottoms</td>\n",
       "      <td>[i, never, would, have, given, these, pants, a...</td>\n",
       "    </tr>\n",
       "    <tr>\n",
       "      <th>3</th>\n",
       "      <td>these pants are even better in person the only...</td>\n",
       "      <td>Bottoms</td>\n",
       "      <td>[these, pants, are, even, better, in, person, ...</td>\n",
       "    </tr>\n",
       "    <tr>\n",
       "      <th>4</th>\n",
       "      <td>the silhouette and length of this skirt and le...</td>\n",
       "      <td>Bottoms</td>\n",
       "      <td>[the, silhouette, and, length, of, this, skirt...</td>\n",
       "    </tr>\n",
       "  </tbody>\n",
       "</table>\n",
       "</div>"
      ],
      "text/plain": [
       "                                      product_review product_category  \\\n",
       "0  i love love love this jumpsuit it s fun flirty...          Bottoms   \n",
       "1  beautifully made pants and on trend with the f...          Bottoms   \n",
       "2  i never would have given these pants a second ...          Bottoms   \n",
       "3  these pants are even better in person the only...          Bottoms   \n",
       "4  the silhouette and length of this skirt and le...          Bottoms   \n",
       "\n",
       "                               product_review_tokens  \n",
       "0  [i, love, love, love, this, jumpsuit, it, s, f...  \n",
       "1  [beautifully, made, pants, and, on, trend, wit...  \n",
       "2  [i, never, would, have, given, these, pants, a...  \n",
       "3  [these, pants, are, even, better, in, person, ...  \n",
       "4  [the, silhouette, and, length, of, this, skirt...  "
      ]
     },
     "execution_count": 14,
     "metadata": {},
     "output_type": "execute_result"
    }
   ],
   "source": [
    "dataset.head()"
   ]
  },
  {
   "cell_type": "code",
   "execution_count": 15,
   "metadata": {},
   "outputs": [],
   "source": [
    "s_w = stopwords.words(\"english\")\n",
    "\n",
    "def remove_sw(tokens:list) -> list:\n",
    "    return [w for w in tokens if w not in s_w]"
   ]
  },
  {
   "cell_type": "code",
   "execution_count": 16,
   "metadata": {},
   "outputs": [],
   "source": [
    "dataset[\"product_review_tokens_cleaned\"] = dataset[\"product_review_tokens\"].apply(remove_sw)"
   ]
  },
  {
   "cell_type": "code",
   "execution_count": 17,
   "metadata": {},
   "outputs": [
    {
     "data": {
      "text/html": [
       "<div>\n",
       "<style scoped>\n",
       "    .dataframe tbody tr th:only-of-type {\n",
       "        vertical-align: middle;\n",
       "    }\n",
       "\n",
       "    .dataframe tbody tr th {\n",
       "        vertical-align: top;\n",
       "    }\n",
       "\n",
       "    .dataframe thead th {\n",
       "        text-align: right;\n",
       "    }\n",
       "</style>\n",
       "<table border=\"1\" class=\"dataframe\">\n",
       "  <thead>\n",
       "    <tr style=\"text-align: right;\">\n",
       "      <th></th>\n",
       "      <th>product_review</th>\n",
       "      <th>product_category</th>\n",
       "      <th>product_review_tokens</th>\n",
       "      <th>product_review_tokens_cleaned</th>\n",
       "    </tr>\n",
       "  </thead>\n",
       "  <tbody>\n",
       "    <tr>\n",
       "      <th>0</th>\n",
       "      <td>i love love love this jumpsuit it s fun flirty...</td>\n",
       "      <td>Bottoms</td>\n",
       "      <td>[i, love, love, love, this, jumpsuit, it, s, f...</td>\n",
       "      <td>[love, love, love, jumpsuit, fun, flirty, fabu...</td>\n",
       "    </tr>\n",
       "    <tr>\n",
       "      <th>1</th>\n",
       "      <td>beautifully made pants and on trend with the f...</td>\n",
       "      <td>Bottoms</td>\n",
       "      <td>[beautifully, made, pants, and, on, trend, wit...</td>\n",
       "      <td>[beautifully, made, pants, trend, flared, crop...</td>\n",
       "    </tr>\n",
       "    <tr>\n",
       "      <th>2</th>\n",
       "      <td>i never would have given these pants a second ...</td>\n",
       "      <td>Bottoms</td>\n",
       "      <td>[i, never, would, have, given, these, pants, a...</td>\n",
       "      <td>[never, would, given, pants, second, look, onl...</td>\n",
       "    </tr>\n",
       "    <tr>\n",
       "      <th>3</th>\n",
       "      <td>these pants are even better in person the only...</td>\n",
       "      <td>Bottoms</td>\n",
       "      <td>[these, pants, are, even, better, in, person, ...</td>\n",
       "      <td>[pants, even, better, person, downside, need, ...</td>\n",
       "    </tr>\n",
       "    <tr>\n",
       "      <th>4</th>\n",
       "      <td>the silhouette and length of this skirt and le...</td>\n",
       "      <td>Bottoms</td>\n",
       "      <td>[the, silhouette, and, length, of, this, skirt...</td>\n",
       "      <td>[silhouette, length, skirt, length, flattering...</td>\n",
       "    </tr>\n",
       "  </tbody>\n",
       "</table>\n",
       "</div>"
      ],
      "text/plain": [
       "                                      product_review product_category  \\\n",
       "0  i love love love this jumpsuit it s fun flirty...          Bottoms   \n",
       "1  beautifully made pants and on trend with the f...          Bottoms   \n",
       "2  i never would have given these pants a second ...          Bottoms   \n",
       "3  these pants are even better in person the only...          Bottoms   \n",
       "4  the silhouette and length of this skirt and le...          Bottoms   \n",
       "\n",
       "                               product_review_tokens  \\\n",
       "0  [i, love, love, love, this, jumpsuit, it, s, f...   \n",
       "1  [beautifully, made, pants, and, on, trend, wit...   \n",
       "2  [i, never, would, have, given, these, pants, a...   \n",
       "3  [these, pants, are, even, better, in, person, ...   \n",
       "4  [the, silhouette, and, length, of, this, skirt...   \n",
       "\n",
       "                       product_review_tokens_cleaned  \n",
       "0  [love, love, love, jumpsuit, fun, flirty, fabu...  \n",
       "1  [beautifully, made, pants, trend, flared, crop...  \n",
       "2  [never, would, given, pants, second, look, onl...  \n",
       "3  [pants, even, better, person, downside, need, ...  \n",
       "4  [silhouette, length, skirt, length, flattering...  "
      ]
     },
     "execution_count": 17,
     "metadata": {},
     "output_type": "execute_result"
    }
   ],
   "source": [
    "dataset.head()"
   ]
  },
  {
   "cell_type": "code",
   "execution_count": 18,
   "metadata": {},
   "outputs": [],
   "source": [
    "dataset[\"product_review_cleaned\"] = dataset[\"product_review_tokens_cleaned\"].apply(lambda x: \" \".join(x))"
   ]
  },
  {
   "cell_type": "code",
   "execution_count": 19,
   "metadata": {},
   "outputs": [
    {
     "data": {
      "text/html": [
       "<div>\n",
       "<style scoped>\n",
       "    .dataframe tbody tr th:only-of-type {\n",
       "        vertical-align: middle;\n",
       "    }\n",
       "\n",
       "    .dataframe tbody tr th {\n",
       "        vertical-align: top;\n",
       "    }\n",
       "\n",
       "    .dataframe thead th {\n",
       "        text-align: right;\n",
       "    }\n",
       "</style>\n",
       "<table border=\"1\" class=\"dataframe\">\n",
       "  <thead>\n",
       "    <tr style=\"text-align: right;\">\n",
       "      <th></th>\n",
       "      <th>product_review</th>\n",
       "      <th>product_category</th>\n",
       "      <th>product_review_tokens</th>\n",
       "      <th>product_review_tokens_cleaned</th>\n",
       "      <th>product_review_cleaned</th>\n",
       "    </tr>\n",
       "  </thead>\n",
       "  <tbody>\n",
       "    <tr>\n",
       "      <th>0</th>\n",
       "      <td>i love love love this jumpsuit it s fun flirty...</td>\n",
       "      <td>Bottoms</td>\n",
       "      <td>[i, love, love, love, this, jumpsuit, it, s, f...</td>\n",
       "      <td>[love, love, love, jumpsuit, fun, flirty, fabu...</td>\n",
       "      <td>love love love jumpsuit fun flirty fabulous ev...</td>\n",
       "    </tr>\n",
       "    <tr>\n",
       "      <th>1</th>\n",
       "      <td>beautifully made pants and on trend with the f...</td>\n",
       "      <td>Bottoms</td>\n",
       "      <td>[beautifully, made, pants, and, on, trend, wit...</td>\n",
       "      <td>[beautifully, made, pants, trend, flared, crop...</td>\n",
       "      <td>beautifully made pants trend flared crop much ...</td>\n",
       "    </tr>\n",
       "    <tr>\n",
       "      <th>2</th>\n",
       "      <td>i never would have given these pants a second ...</td>\n",
       "      <td>Bottoms</td>\n",
       "      <td>[i, never, would, have, given, these, pants, a...</td>\n",
       "      <td>[never, would, given, pants, second, look, onl...</td>\n",
       "      <td>never would given pants second look online per...</td>\n",
       "    </tr>\n",
       "    <tr>\n",
       "      <th>3</th>\n",
       "      <td>these pants are even better in person the only...</td>\n",
       "      <td>Bottoms</td>\n",
       "      <td>[these, pants, are, even, better, in, person, ...</td>\n",
       "      <td>[pants, even, better, person, downside, need, ...</td>\n",
       "      <td>pants even better person downside need dry cle...</td>\n",
       "    </tr>\n",
       "    <tr>\n",
       "      <th>4</th>\n",
       "      <td>the silhouette and length of this skirt and le...</td>\n",
       "      <td>Bottoms</td>\n",
       "      <td>[the, silhouette, and, length, of, this, skirt...</td>\n",
       "      <td>[silhouette, length, skirt, length, flattering...</td>\n",
       "      <td>silhouette length skirt length flattering clas...</td>\n",
       "    </tr>\n",
       "  </tbody>\n",
       "</table>\n",
       "</div>"
      ],
      "text/plain": [
       "                                      product_review product_category  \\\n",
       "0  i love love love this jumpsuit it s fun flirty...          Bottoms   \n",
       "1  beautifully made pants and on trend with the f...          Bottoms   \n",
       "2  i never would have given these pants a second ...          Bottoms   \n",
       "3  these pants are even better in person the only...          Bottoms   \n",
       "4  the silhouette and length of this skirt and le...          Bottoms   \n",
       "\n",
       "                               product_review_tokens  \\\n",
       "0  [i, love, love, love, this, jumpsuit, it, s, f...   \n",
       "1  [beautifully, made, pants, and, on, trend, wit...   \n",
       "2  [i, never, would, have, given, these, pants, a...   \n",
       "3  [these, pants, are, even, better, in, person, ...   \n",
       "4  [the, silhouette, and, length, of, this, skirt...   \n",
       "\n",
       "                       product_review_tokens_cleaned  \\\n",
       "0  [love, love, love, jumpsuit, fun, flirty, fabu...   \n",
       "1  [beautifully, made, pants, trend, flared, crop...   \n",
       "2  [never, would, given, pants, second, look, onl...   \n",
       "3  [pants, even, better, person, downside, need, ...   \n",
       "4  [silhouette, length, skirt, length, flattering...   \n",
       "\n",
       "                              product_review_cleaned  \n",
       "0  love love love jumpsuit fun flirty fabulous ev...  \n",
       "1  beautifully made pants trend flared crop much ...  \n",
       "2  never would given pants second look online per...  \n",
       "3  pants even better person downside need dry cle...  \n",
       "4  silhouette length skirt length flattering clas...  "
      ]
     },
     "execution_count": 19,
     "metadata": {},
     "output_type": "execute_result"
    }
   ],
   "source": [
    "dataset.head()"
   ]
  },
  {
   "cell_type": "code",
   "execution_count": 20,
   "metadata": {},
   "outputs": [
    {
     "data": {
      "text/plain": [
       "product_category\n",
       "Bottoms     685\n",
       "Dresses     681\n",
       "Tops        680\n",
       "Jackets     680\n",
       "Intimate    650\n",
       "Name: count, dtype: int64"
      ]
     },
     "execution_count": 20,
     "metadata": {},
     "output_type": "execute_result"
    }
   ],
   "source": [
    "dataset[\"product_category\"].value_counts()"
   ]
  },
  {
   "cell_type": "code",
   "execution_count": 21,
   "metadata": {},
   "outputs": [
    {
     "data": {
      "text/plain": [
       "2016    shirt flattering due adjustable front tie perf...\n",
       "2017    aded basket hte last mintue see would look lik...\n",
       "2018    took chance blouse glad crazy blouse photograp...\n",
       "2019    love shirt first saw sure shirt dress since se...\n",
       "2020    sweater comfy classic balances quirky hand kni...\n",
       "                              ...                        \n",
       "2691                  super cute buying another color tee\n",
       "2692    nice top worn alone underneath sweater dressed...\n",
       "2693    debated xs small ended small 100 cotton probab...\n",
       "2694    love top thinking going need x large busty tri...\n",
       "2695    shirt awesome absolutely love style shirt supe...\n",
       "Name: product_review_cleaned, Length: 680, dtype: object"
      ]
     },
     "execution_count": 21,
     "metadata": {},
     "output_type": "execute_result"
    }
   ],
   "source": [
    "dataset[dataset.product_category == \"Tops\"][\"product_review_cleaned\"]"
   ]
  },
  {
   "cell_type": "code",
   "execution_count": 22,
   "metadata": {},
   "outputs": [],
   "source": [
    "tokens_tops = []\n",
    "\n",
    "for i in dataset[dataset.product_category == \"Tops\"][\"product_review_tokens_cleaned\"]:\n",
    "    tokens_tops.append(i)"
   ]
  },
  {
   "cell_type": "code",
   "execution_count": 23,
   "metadata": {},
   "outputs": [
    {
     "data": {
      "text/plain": [
       "680"
      ]
     },
     "execution_count": 23,
     "metadata": {},
     "output_type": "execute_result"
    }
   ],
   "source": [
    "len(tokens_tops)"
   ]
  },
  {
   "cell_type": "code",
   "execution_count": 24,
   "metadata": {},
   "outputs": [],
   "source": [
    "tokens_tops = []\n",
    "\n",
    "for i in dataset[dataset.product_category == \"Tops\"][\"product_review_tokens_cleaned\"]:\n",
    "    tokens_tops.extend(i)"
   ]
  },
  {
   "cell_type": "code",
   "execution_count": 25,
   "metadata": {},
   "outputs": [
    {
     "data": {
      "text/plain": [
       "18382"
      ]
     },
     "execution_count": 25,
     "metadata": {},
     "output_type": "execute_result"
    }
   ],
   "source": [
    "len(tokens_tops)"
   ]
  },
  {
   "cell_type": "code",
   "execution_count": 26,
   "metadata": {},
   "outputs": [
    {
     "data": {
      "text/plain": [
       "['shirt',\n",
       " 'flattering',\n",
       " 'due',\n",
       " 'adjustable',\n",
       " 'front',\n",
       " 'tie',\n",
       " 'perfect',\n",
       " 'length',\n",
       " 'wear',\n",
       " 'leggings',\n",
       " 'sleeveless',\n",
       " 'pairs',\n",
       " 'well',\n",
       " 'cardigan',\n",
       " 'love',\n",
       " 'shirt',\n",
       " 'aded',\n",
       " 'basket',\n",
       " 'hte',\n",
       " 'last',\n",
       " 'mintue',\n",
       " 'see',\n",
       " 'would',\n",
       " 'look',\n",
       " 'like',\n",
       " 'person',\n",
       " 'store',\n",
       " 'pick',\n",
       " 'went',\n",
       " 'teh',\n",
       " 'darkler',\n",
       " 'color',\n",
       " 'pale',\n",
       " 'hte',\n",
       " 'color',\n",
       " 'really',\n",
       " 'gorgeous',\n",
       " 'turns',\n",
       " 'mathced',\n",
       " 'everythiing',\n",
       " 'trying',\n",
       " 'prefectly',\n",
       " 'little',\n",
       " 'baggy',\n",
       " 'hte',\n",
       " 'xs',\n",
       " 'hte',\n",
       " 'msallet',\n",
       " 'size',\n",
       " 'bummer',\n",
       " 'petite',\n",
       " 'decided',\n",
       " 'jkeep',\n",
       " 'though',\n",
       " 'said',\n",
       " 'matvehd',\n",
       " 'everything',\n",
       " 'ejans',\n",
       " 'pants',\n",
       " '3',\n",
       " 'skirts',\n",
       " 'waas',\n",
       " 'trying',\n",
       " 'kept',\n",
       " 'oops',\n",
       " 'took',\n",
       " 'chance',\n",
       " 'blouse',\n",
       " 'glad',\n",
       " 'crazy',\n",
       " 'blouse',\n",
       " 'photographed',\n",
       " 'model',\n",
       " 'paired',\n",
       " 'whit',\n",
       " 'white',\n",
       " 'pants',\n",
       " 'worked',\n",
       " 'perfectly',\n",
       " 'crisp',\n",
       " 'clean',\n",
       " 'would',\n",
       " 'describe',\n",
       " 'launders',\n",
       " 'well',\n",
       " 'fits',\n",
       " 'great',\n",
       " 'drape',\n",
       " 'perfect',\n",
       " 'wear',\n",
       " 'tucked',\n",
       " 'go',\n",
       " 'wrong',\n",
       " 'love',\n",
       " 'shirt',\n",
       " 'first',\n",
       " 'saw',\n",
       " 'sure',\n",
       " 'shirt',\n",
       " 'dress',\n",
       " 'since',\n",
       " 'see',\n",
       " 'wear',\n",
       " 'like',\n",
       " 'dress',\n",
       " 'need',\n",
       " 'slip',\n",
       " 'wear',\n",
       " 'leggings',\n",
       " 'bought',\n",
       " 'slip',\n",
       " 'wore',\n",
       " 'tie',\n",
       " 'back',\n",
       " 'rocked',\n",
       " 'white',\n",
       " 'wedges',\n",
       " 'could',\n",
       " 'also',\n",
       " 'wear',\n",
       " 'vest',\n",
       " 'careful',\n",
       " 'buttons',\n",
       " 'fall',\n",
       " 'yet',\n",
       " 'feel',\n",
       " 'like',\n",
       " 'overall',\n",
       " 'great',\n",
       " 'occasion',\n",
       " 'fun',\n",
       " 'wear',\n",
       " 'sweater',\n",
       " 'comfy',\n",
       " 'classic',\n",
       " 'balances',\n",
       " 'quirky',\n",
       " 'hand',\n",
       " 'knit',\n",
       " 'look',\n",
       " 'beautiful',\n",
       " 'color',\n",
       " 'practical',\n",
       " 'fit',\n",
       " 'bit',\n",
       " 'cropped',\n",
       " 'boxy',\n",
       " 'part',\n",
       " 'style',\n",
       " 'others',\n",
       " 'mentioned',\n",
       " 'gaps',\n",
       " 'knit',\n",
       " 'make',\n",
       " 'see',\n",
       " 'opinion',\n",
       " 'makes',\n",
       " 'perfect',\n",
       " 'layering',\n",
       " 'like',\n",
       " 'longer',\n",
       " 'camisole',\n",
       " 'showing',\n",
       " 'underneath',\n",
       " 'wearing',\n",
       " 'little',\n",
       " 'dress',\n",
       " 'warm',\n",
       " 'still',\n",
       " 'thin',\n",
       " 'enough',\n",
       " 'fit',\n",
       " 'jacket',\n",
       " 'coat',\n",
       " 'ordered',\n",
       " 'small',\n",
       " '5',\n",
       " '6',\n",
       " '135',\n",
       " 'size',\n",
       " '4',\n",
       " 'medium',\n",
       " 'mom',\n",
       " '5',\n",
       " '3',\n",
       " '130',\n",
       " 'size',\n",
       " '8',\n",
       " 'gorgeous',\n",
       " 'beautifully',\n",
       " 'draped',\n",
       " 'weight',\n",
       " 'warmth',\n",
       " 'need',\n",
       " 'houston',\n",
       " 'fall',\n",
       " 'winter',\n",
       " 'looks',\n",
       " 'polished',\n",
       " 'snapped',\n",
       " 'unsnapped',\n",
       " 'age',\n",
       " 'appropriate',\n",
       " 'mom',\n",
       " '60',\n",
       " '30',\n",
       " 'look',\n",
       " 'amazing',\n",
       " 'skinny',\n",
       " 'jeans',\n",
       " 'leggings',\n",
       " 'ordered',\n",
       " 'gray',\n",
       " 'true',\n",
       " 'photos',\n",
       " 'great',\n",
       " 'casual',\n",
       " 'top',\n",
       " 'flare',\n",
       " 'looks',\n",
       " 'cute',\n",
       " 'grey',\n",
       " 'pilcro',\n",
       " 'stet',\n",
       " 'jeans',\n",
       " 'flattering',\n",
       " 'peplum',\n",
       " 'back',\n",
       " 'nice',\n",
       " 'cut',\n",
       " 'shoulders',\n",
       " 'neckline',\n",
       " 'beautiful',\n",
       " 'top',\n",
       " 'unique',\n",
       " 'ordinary',\n",
       " 'bought',\n",
       " 'usual',\n",
       " 'medium',\n",
       " 'found',\n",
       " 'fits',\n",
       " 'tight',\n",
       " 'across',\n",
       " 'chest',\n",
       " 'although',\n",
       " 'baby',\n",
       " 'year',\n",
       " 'nursing',\n",
       " 'could',\n",
       " 'bought',\n",
       " 'would',\n",
       " 'size',\n",
       " 'poncho',\n",
       " 'cute',\n",
       " 'love',\n",
       " 'plaid',\n",
       " 'check',\n",
       " 'design',\n",
       " 'colors',\n",
       " 'look',\n",
       " 'like',\n",
       " 'sorbet',\n",
       " 'cream',\n",
       " 'pair',\n",
       " 'well',\n",
       " 'turtleneck',\n",
       " 'jeans',\n",
       " 'pencil',\n",
       " 'skirt',\n",
       " 'heels',\n",
       " 'love',\n",
       " 'look',\n",
       " 'fall',\n",
       " 'roll',\n",
       " 'right',\n",
       " 'spring',\n",
       " 'great',\n",
       " 'buy',\n",
       " 'tried',\n",
       " 'today',\n",
       " 'local',\n",
       " 'retailer',\n",
       " 'comfortable',\n",
       " 'flattering',\n",
       " 'bad',\n",
       " 'picture',\n",
       " 'online',\n",
       " 'model',\n",
       " 'tucking',\n",
       " 'skirt',\n",
       " 'see',\n",
       " 'ruching',\n",
       " 'across',\n",
       " 'front',\n",
       " 'little',\n",
       " 'dressier',\n",
       " 'alternative',\n",
       " 'plain',\n",
       " 'tee',\n",
       " 'reasonably',\n",
       " 'priced',\n",
       " 'retailer',\n",
       " '5',\n",
       " '8',\n",
       " 'generally',\n",
       " 'wear',\n",
       " '6',\n",
       " 'small',\n",
       " 'fit',\n",
       " 'well',\n",
       " 'probably',\n",
       " 'back',\n",
       " 'black',\n",
       " 'love',\n",
       " 'top',\n",
       " 'wear',\n",
       " 'time',\n",
       " 'problem',\n",
       " 'tell',\n",
       " 'wear',\n",
       " 'time',\n",
       " 'fabric',\n",
       " 'started',\n",
       " 'fade',\n",
       " 'still',\n",
       " 'recommend',\n",
       " 'comfortable',\n",
       " 'comfortable',\n",
       " 'material',\n",
       " 'good',\n",
       " 'cut',\n",
       " 'sleeves',\n",
       " 'flattering',\n",
       " 'sweater',\n",
       " 'perfect',\n",
       " 'fall',\n",
       " 'roomy',\n",
       " 'warm',\n",
       " 'super',\n",
       " 'comfy',\n",
       " 'color',\n",
       " 'really',\n",
       " 'pops',\n",
       " 'really',\n",
       " 'cute',\n",
       " 'top',\n",
       " 'embroidery',\n",
       " 'collar',\n",
       " 'bib',\n",
       " 'top',\n",
       " 'beautiful',\n",
       " 'unique',\n",
       " 'received',\n",
       " 'lots',\n",
       " 'compliments',\n",
       " 'questions',\n",
       " 'got',\n",
       " 'rather',\n",
       " 'busty',\n",
       " 'top',\n",
       " 'medium',\n",
       " 'fit',\n",
       " 'well',\n",
       " 'small',\n",
       " 'probably',\n",
       " 'would',\n",
       " 'fit',\n",
       " 'better',\n",
       " 'still',\n",
       " 'super',\n",
       " 'adorable',\n",
       " 'absolutely',\n",
       " 'love',\n",
       " 'bib',\n",
       " 'tee',\n",
       " 'probably',\n",
       " 'favorite',\n",
       " 'retailer',\n",
       " 'purchase',\n",
       " 'time',\n",
       " '5',\n",
       " '7',\n",
       " '140',\n",
       " 'pounds',\n",
       " 'small',\n",
       " 'perfect',\n",
       " 'fit',\n",
       " 'typically',\n",
       " 'wear',\n",
       " 'either',\n",
       " 'tops',\n",
       " 'soft',\n",
       " 'comfortable',\n",
       " 'shirt',\n",
       " 'unusual',\n",
       " 'asymmetrical',\n",
       " 'seam',\n",
       " 'appears',\n",
       " 'along',\n",
       " 'front',\n",
       " 'right',\n",
       " 'hand',\n",
       " 'side',\n",
       " 'garment',\n",
       " 'model',\n",
       " 'positioned',\n",
       " 'see',\n",
       " 'detail',\n",
       " 'picture',\n",
       " 'attached',\n",
       " 'picture',\n",
       " 'includes',\n",
       " 'front',\n",
       " 'seam',\n",
       " 'actually',\n",
       " 'like',\n",
       " 'seam',\n",
       " 'creates',\n",
       " 'visual',\n",
       " 'interest',\n",
       " 'adds',\n",
       " 'little',\n",
       " 'bit',\n",
       " 'ruching',\n",
       " 'helps',\n",
       " 'hide',\n",
       " 'belly',\n",
       " 'cowl',\n",
       " 'neck',\n",
       " 'well',\n",
       " 'done',\n",
       " 'two',\n",
       " 'layers',\n",
       " 'form',\n",
       " 'cowl',\n",
       " 'found',\n",
       " 'means',\n",
       " 'wardrobe',\n",
       " 'malfun',\n",
       " 'adorable',\n",
       " 'top',\n",
       " 'find',\n",
       " 'extremely',\n",
       " 'comfortable',\n",
       " 'usually',\n",
       " 'buy',\n",
       " 'prints',\n",
       " 'one',\n",
       " 'feminine',\n",
       " 'looks',\n",
       " 'great',\n",
       " 'dark',\n",
       " 'wash',\n",
       " 'jeans',\n",
       " '36d',\n",
       " 'medium',\n",
       " 'perfect',\n",
       " 'fit',\n",
       " 'recently',\n",
       " 'got',\n",
       " 'sale',\n",
       " 'looking',\n",
       " 'forever',\n",
       " 'wish',\n",
       " 'list',\n",
       " 'happy',\n",
       " 'comfortable',\n",
       " 'long',\n",
       " 'enough',\n",
       " 'torso',\n",
       " '5',\n",
       " '3',\n",
       " 'pattern',\n",
       " 'front',\n",
       " 'flattering',\n",
       " 'comfortable',\n",
       " 'shirt',\n",
       " 'light',\n",
       " 'weight',\n",
       " 'top',\n",
       " 'lovely',\n",
       " 'floral',\n",
       " 'colors',\n",
       " 'great',\n",
       " 'spring',\n",
       " 'summer',\n",
       " 'white',\n",
       " 'jeans',\n",
       " 'love',\n",
       " 'everything',\n",
       " 'one',\n",
       " 'september',\n",
       " 'makes',\n",
       " 'loved',\n",
       " 'top',\n",
       " 'really',\n",
       " 'happy',\n",
       " 'find',\n",
       " 'sale',\n",
       " 'love',\n",
       " 'top',\n",
       " 'kept',\n",
       " 'eyeing',\n",
       " 'online',\n",
       " 'wavering',\n",
       " 'size',\n",
       " 'since',\n",
       " 'post',\n",
       " 'baby',\n",
       " 'body',\n",
       " 'little',\n",
       " 'wonky',\n",
       " 'went',\n",
       " 'xsp',\n",
       " 'miraculously',\n",
       " 'works',\n",
       " 'perfectly',\n",
       " 'would',\n",
       " 'say',\n",
       " 'run',\n",
       " 'little',\n",
       " 'large',\n",
       " 'love',\n",
       " 'length',\n",
       " 'usually',\n",
       " 'go',\n",
       " 'petite',\n",
       " 'sizes',\n",
       " 'retailer',\n",
       " 'like',\n",
       " 'longer',\n",
       " 'lengths',\n",
       " 'regular',\n",
       " 'perfect',\n",
       " 'give',\n",
       " 'top',\n",
       " 'looks',\n",
       " 'lovely',\n",
       " 'soft',\n",
       " 'comfortable',\n",
       " 'go',\n",
       " 'top',\n",
       " 'season',\n",
       " 'short',\n",
       " 'torso',\n",
       " 'works',\n",
       " 'well',\n",
       " '34c',\n",
       " 'bought',\n",
       " '0',\n",
       " 'much',\n",
       " 'stretch',\n",
       " 'fabric',\n",
       " 'fitted',\n",
       " 'chest',\n",
       " 'uncomfortable',\n",
       " 'way',\n",
       " 'definitely',\n",
       " 'hang',\n",
       " 'extra',\n",
       " 'fabric',\n",
       " 'like',\n",
       " 'model',\n",
       " 'zipper',\n",
       " 'goes',\n",
       " 'almost',\n",
       " 'way',\n",
       " 'bottom',\n",
       " 'easier',\n",
       " 'get',\n",
       " 'makes',\n",
       " 'lack',\n",
       " 'stretch',\n",
       " 'n',\n",
       " 'fabric',\n",
       " 'unlike',\n",
       " 'another',\n",
       " 'reviewer',\n",
       " 'found',\n",
       " 'went',\n",
       " 'really',\n",
       " 'well',\n",
       " 'navy',\n",
       " 'pants',\n",
       " 'wore',\n",
       " 'business',\n",
       " 'meeting',\n",
       " 'blazer',\n",
       " 'wi',\n",
       " 'drawn',\n",
       " 'baby',\n",
       " 'doll',\n",
       " 'boxy',\n",
       " 'shirts',\n",
       " 'immediately',\n",
       " 'tried',\n",
       " 'store',\n",
       " 'petite',\n",
       " '5',\n",
       " '2',\n",
       " 'usually',\n",
       " 'shirts',\n",
       " 'lot',\n",
       " 'fabric',\n",
       " 'swallow',\n",
       " 'whole',\n",
       " 'one',\n",
       " 'still',\n",
       " 'cute',\n",
       " 'lot',\n",
       " 'fabric',\n",
       " 'picture',\n",
       " 'lets',\n",
       " 'think',\n",
       " 'still',\n",
       " 'super',\n",
       " 'cute',\n",
       " 'flattering',\n",
       " 'would',\n",
       " 'definitely',\n",
       " 'check',\n",
       " 'size',\n",
       " 'chart',\n",
       " 'read',\n",
       " 'comments',\n",
       " 'see',\n",
       " 'someone',\n",
       " 'size',\n",
       " 'description',\n",
       " 'recommended',\n",
       " 'specific',\n",
       " 'size',\n",
       " 'body',\n",
       " 'type',\n",
       " 'petite',\n",
       " 'weigh',\n",
       " '110',\n",
       " 'lbs',\n",
       " 'usually',\n",
       " 'size',\n",
       " 'brand',\n",
       " 'small',\n",
       " 'perfect',\n",
       " '135lbs',\n",
       " 'top',\n",
       " 'luxurious',\n",
       " 'casual',\n",
       " 'feel',\n",
       " 'beautiful',\n",
       " 'obsessed',\n",
       " 'want',\n",
       " 'wear',\n",
       " 'everyday',\n",
       " 'wears',\n",
       " 'little',\n",
       " 'long',\n",
       " 'drapey',\n",
       " 'little',\n",
       " 'tight',\n",
       " 'rolls',\n",
       " 'arms',\n",
       " 'loved',\n",
       " 'top',\n",
       " 'great',\n",
       " 'design',\n",
       " 'comfortable',\n",
       " 'unique',\n",
       " 'soft',\n",
       " 'material',\n",
       " 'purchased',\n",
       " 'top',\n",
       " 'antro',\n",
       " 'store',\n",
       " 'last',\n",
       " 'week',\n",
       " 'quality',\n",
       " 'wonderful',\n",
       " 'greenish',\n",
       " 'blue',\n",
       " 'color',\n",
       " 'unique',\n",
       " 'blouse',\n",
       " 'beautiful',\n",
       " 'stretchy',\n",
       " 'camsiole',\n",
       " 'attached',\n",
       " 'shoulders',\n",
       " 'removed',\n",
       " 'snaps',\n",
       " 'tooks',\n",
       " 'great',\n",
       " 'worn',\n",
       " 'two',\n",
       " 'different',\n",
       " 'ways',\n",
       " 'wore',\n",
       " 'campole',\n",
       " 'peeks',\n",
       " 'blouse',\n",
       " 'bottom',\n",
       " 'also',\n",
       " 'looks',\n",
       " 'great',\n",
       " 'camisole',\n",
       " 'worn',\n",
       " 'wish',\n",
       " 'would',\n",
       " 'come',\n",
       " 'petite',\n",
       " 'size',\n",
       " 'touch',\n",
       " 'big',\n",
       " 'shoulders',\n",
       " 'neckli',\n",
       " 'top',\n",
       " 'much',\n",
       " 'prettier',\n",
       " 'real',\n",
       " 'life',\n",
       " 'model',\n",
       " 'pattern',\n",
       " 'texture',\n",
       " 'lovely',\n",
       " 'peplum',\n",
       " 'surprisingly',\n",
       " 'flattering',\n",
       " 'definitely',\n",
       " 'short',\n",
       " 'side',\n",
       " 'think',\n",
       " 'gives',\n",
       " 'modern',\n",
       " 'look',\n",
       " 'fabric',\n",
       " 'stretch',\n",
       " 'still',\n",
       " 'think',\n",
       " 'fits',\n",
       " 'tts',\n",
       " 'large',\n",
       " 'chest',\n",
       " 'may',\n",
       " 'want',\n",
       " 'go',\n",
       " 'size',\n",
       " 'otherwise',\n",
       " 'would',\n",
       " 'order',\n",
       " 'normal',\n",
       " 'size',\n",
       " 'purchased',\n",
       " 'top',\n",
       " 'online',\n",
       " 'received',\n",
       " 'pleased',\n",
       " 'elegant',\n",
       " 'cut',\n",
       " 'yet',\n",
       " 'casual',\n",
       " 'fabric',\n",
       " 'love',\n",
       " 'sleeves',\n",
       " 'run',\n",
       " 'longer',\n",
       " 'ads',\n",
       " 'overall',\n",
       " 'look',\n",
       " 'also',\n",
       " 'loved',\n",
       " 'v',\n",
       " 'neckline',\n",
       " 'enhances',\n",
       " 'feel',\n",
       " 'overall',\n",
       " 'style',\n",
       " 'various',\n",
       " 'necklaces',\n",
       " 'top',\n",
       " 'limitless',\n",
       " 'options',\n",
       " 'color',\n",
       " 'states',\n",
       " 'moss',\n",
       " 'usually',\n",
       " 'think',\n",
       " 'greenish',\n",
       " 'brown',\n",
       " 'found',\n",
       " 'taupe',\n",
       " 'would',\n",
       " 'liked',\n",
       " 'green',\n",
       " 'tones',\n",
       " 'however',\n",
       " 'still',\n",
       " 'fantastic',\n",
       " 'f',\n",
       " 'top',\n",
       " 'absolutely',\n",
       " 'stunning',\n",
       " 'purchased',\n",
       " 'white',\n",
       " 'one',\n",
       " 'received',\n",
       " 'fits',\n",
       " 'nicely',\n",
       " 'little',\n",
       " 'big',\n",
       " 'side',\n",
       " 'believe',\n",
       " 'looks',\n",
       " 'better',\n",
       " 'way',\n",
       " 'look',\n",
       " 'great',\n",
       " 'everything',\n",
       " 'well',\n",
       " 'constructed',\n",
       " 'looks',\n",
       " 'unique',\n",
       " 'love',\n",
       " 'bought',\n",
       " 'lovely',\n",
       " 'silk',\n",
       " 'velvet',\n",
       " 'shirt',\n",
       " 'quot',\n",
       " 'sky',\n",
       " 'quot',\n",
       " 'color',\n",
       " 'teal',\n",
       " 'blue',\n",
       " 'side',\n",
       " 'sky',\n",
       " 'blue',\n",
       " 'disappointed',\n",
       " 'definitely',\n",
       " 'darker',\n",
       " 'appears',\n",
       " 'photo',\n",
       " 'still',\n",
       " 'luxurious',\n",
       " 'well',\n",
       " 'made',\n",
       " 'beauty',\n",
       " 'sassy',\n",
       " 'appeal',\n",
       " 'drapes',\n",
       " 'like',\n",
       " 'snake',\n",
       " 'slithering',\n",
       " 'body',\n",
       " 'comes',\n",
       " 'attitude',\n",
       " 'shirt',\n",
       " 'exactly',\n",
       " 'pictured',\n",
       " 'burnt',\n",
       " 'orange',\n",
       " 'color',\n",
       " 'love',\n",
       " 'received',\n",
       " 'numerous',\n",
       " 'compliments',\n",
       " 'paired',\n",
       " 'jeans',\n",
       " 'tucked',\n",
       " 'fun',\n",
       " 'skirt',\n",
       " 'fits',\n",
       " 'true',\n",
       " 'size',\n",
       " 'normally',\n",
       " 'wear',\n",
       " 'small',\n",
       " 'retailer',\n",
       " 'however',\n",
       " 'slightest',\n",
       " 'bit',\n",
       " 'tight',\n",
       " 'shoulders',\n",
       " 'would',\n",
       " 'give',\n",
       " 'top',\n",
       " '5',\n",
       " '5',\n",
       " 'read',\n",
       " 'first',\n",
       " 'review',\n",
       " 'ordered',\n",
       " 'small',\n",
       " 'medium',\n",
       " 'thought',\n",
       " 'would',\n",
       " 'run',\n",
       " 'small',\n",
       " 'totally',\n",
       " 'disagree',\n",
       " 'reviewer',\n",
       " 'find',\n",
       " 'top',\n",
       " 'runs',\n",
       " 'true',\n",
       " 'size',\n",
       " 'even',\n",
       " 'generous',\n",
       " 'sky',\n",
       " 'color',\n",
       " 'pretty',\n",
       " 'top',\n",
       " 'dressed',\n",
       " 'nice',\n",
       " 'heels',\n",
       " 'necklace',\n",
       " 'comfy',\n",
       " 'casual',\n",
       " 'usually',\n",
       " 'wear',\n",
       " 'small',\n",
       " 'hh',\n",
       " 'brand',\n",
       " 'one',\n",
       " 'true',\n",
       " 'fit',\n",
       " '5',\n",
       " '2',\n",
       " 'broad',\n",
       " 'shoulders',\n",
       " '120',\n",
       " 'lb',\n",
       " 'color',\n",
       " 'perfect',\n",
       " 'fall',\n",
       " 'winter',\n",
       " 'inside',\n",
       " 'collar',\n",
       " 'photo',\n",
       " 'shows',\n",
       " 'subtle',\n",
       " 'plaid',\n",
       " 'lining',\n",
       " 'lining',\n",
       " 'unexpected',\n",
       " 'bonus',\n",
       " 'adds',\n",
       " 'even',\n",
       " 'dimension',\n",
       " 'shirt',\n",
       " 'sleeves',\n",
       " 'turned',\n",
       " 'fit',\n",
       " 'true',\n",
       " 'size',\n",
       " 'stressed',\n",
       " 'velvet',\n",
       " 'fabric',\n",
       " 'current',\n",
       " 'season',\n",
       " 'going',\n",
       " 'enjoy',\n",
       " 'wearing',\n",
       " 'shirt',\n",
       " 'perfect',\n",
       " 'striped',\n",
       " 'shirt',\n",
       " 'cute',\n",
       " 'little',\n",
       " 'buttons',\n",
       " 'front',\n",
       " 'wonderful',\n",
       " 'accent',\n",
       " 'one',\n",
       " 'different',\n",
       " 'love',\n",
       " 'reading',\n",
       " 'previous',\n",
       " 'reviews',\n",
       " 'ordered',\n",
       " 'size',\n",
       " 'larger',\n",
       " 'glad',\n",
       " 'fits',\n",
       " 'perfectly',\n",
       " '5',\n",
       " '4',\n",
       " '115',\n",
       " '32dd',\n",
       " 'went',\n",
       " 'regular',\n",
       " 'beautiful',\n",
       " 'wait',\n",
       " 'wear',\n",
       " 'top',\n",
       " 'super',\n",
       " 'comfy',\n",
       " 'casual',\n",
       " 'slit',\n",
       " 'design',\n",
       " 'front',\n",
       " 'gives',\n",
       " ...]"
      ]
     },
     "execution_count": 26,
     "metadata": {},
     "output_type": "execute_result"
    }
   ],
   "source": [
    "tokens_tops"
   ]
  },
  {
   "cell_type": "code",
   "execution_count": 27,
   "metadata": {},
   "outputs": [],
   "source": [
    "frecs = FreqDist(tokens_tops)"
   ]
  },
  {
   "cell_type": "code",
   "execution_count": 28,
   "metadata": {},
   "outputs": [
    {
     "data": {
      "text/plain": [
       "[('love', 341),\n",
       " ('top', 337),\n",
       " ('wear', 234),\n",
       " ('great', 232),\n",
       " ('size', 215),\n",
       " ('shirt', 190),\n",
       " ('color', 186),\n",
       " ('fit', 169),\n",
       " ('perfect', 147),\n",
       " ('small', 145)]"
      ]
     },
     "execution_count": 28,
     "metadata": {},
     "output_type": "execute_result"
    }
   ],
   "source": [
    "frecs.most_common(10)"
   ]
  },
  {
   "cell_type": "code",
   "execution_count": 29,
   "metadata": {},
   "outputs": [
    {
     "data": {
      "text/plain": [
       "[('i', 'NN'),\n",
       " ('love', 'VBP'),\n",
       " ('love', 'NN'),\n",
       " ('love', 'NN'),\n",
       " ('this', 'DT'),\n",
       " ('jumpsuit', 'NN'),\n",
       " ('it', 'PRP'),\n",
       " ('s', 'VBZ'),\n",
       " ('fun', 'JJ'),\n",
       " ('flirty', 'NN'),\n",
       " ('and', 'CC'),\n",
       " ('fabulous', 'JJ'),\n",
       " ('every', 'DT'),\n",
       " ('time', 'NN'),\n",
       " ('i', 'NN'),\n",
       " ('wear', 'VBP'),\n",
       " ('it', 'PRP'),\n",
       " ('i', 'JJ'),\n",
       " ('get', 'VBP'),\n",
       " ('nothing', 'NN'),\n",
       " ('but', 'CC'),\n",
       " ('great', 'JJ'),\n",
       " ('compliments', 'NNS')]"
      ]
     },
     "execution_count": 29,
     "metadata": {},
     "output_type": "execute_result"
    }
   ],
   "source": [
    "\n",
    "pos_tag(dataset.product_review_tokens[0])"
   ]
  },
  {
   "cell_type": "code",
   "execution_count": 30,
   "metadata": {},
   "outputs": [
    {
     "name": "stdout",
     "output_type": "stream",
     "text": [
      "$: dollar\n",
      "    $ -$ --$ A$ C$ HK$ M$ NZ$ S$ U.S.$ US$\n",
      "'': closing quotation mark\n",
      "    ' ''\n",
      "(: opening parenthesis\n",
      "    ( [ {\n",
      "): closing parenthesis\n",
      "    ) ] }\n",
      ",: comma\n",
      "    ,\n",
      "--: dash\n",
      "    --\n",
      ".: sentence terminator\n",
      "    . ! ?\n",
      ":: colon or ellipsis\n",
      "    : ; ...\n",
      "CC: conjunction, coordinating\n",
      "    & 'n and both but either et for less minus neither nor or plus so\n",
      "    therefore times v. versus vs. whether yet\n",
      "CD: numeral, cardinal\n",
      "    mid-1890 nine-thirty forty-two one-tenth ten million 0.5 one forty-\n",
      "    seven 1987 twenty '79 zero two 78-degrees eighty-four IX '60s .025\n",
      "    fifteen 271,124 dozen quintillion DM2,000 ...\n",
      "DT: determiner\n",
      "    all an another any both del each either every half la many much nary\n",
      "    neither no some such that the them these this those\n",
      "EX: existential there\n",
      "    there\n",
      "FW: foreign word\n",
      "    gemeinschaft hund ich jeux habeas Haementeria Herr K'ang-si vous\n",
      "    lutihaw alai je jour objets salutaris fille quibusdam pas trop Monte\n",
      "    terram fiche oui corporis ...\n",
      "IN: preposition or conjunction, subordinating\n",
      "    astride among uppon whether out inside pro despite on by throughout\n",
      "    below within for towards near behind atop around if like until below\n",
      "    next into if beside ...\n",
      "JJ: adjective or numeral, ordinal\n",
      "    third ill-mannered pre-war regrettable oiled calamitous first separable\n",
      "    ectoplasmic battery-powered participatory fourth still-to-be-named\n",
      "    multilingual multi-disciplinary ...\n",
      "JJR: adjective, comparative\n",
      "    bleaker braver breezier briefer brighter brisker broader bumper busier\n",
      "    calmer cheaper choosier cleaner clearer closer colder commoner costlier\n",
      "    cozier creamier crunchier cuter ...\n",
      "JJS: adjective, superlative\n",
      "    calmest cheapest choicest classiest cleanest clearest closest commonest\n",
      "    corniest costliest crassest creepiest crudest cutest darkest deadliest\n",
      "    dearest deepest densest dinkiest ...\n",
      "LS: list item marker\n",
      "    A A. B B. C C. D E F First G H I J K One SP-44001 SP-44002 SP-44005\n",
      "    SP-44007 Second Third Three Two * a b c d first five four one six three\n",
      "    two\n",
      "MD: modal auxiliary\n",
      "    can cannot could couldn't dare may might must need ought shall should\n",
      "    shouldn't will would\n",
      "NN: noun, common, singular or mass\n",
      "    common-carrier cabbage knuckle-duster Casino afghan shed thermostat\n",
      "    investment slide humour falloff slick wind hyena override subhumanity\n",
      "    machinist ...\n",
      "NNP: noun, proper, singular\n",
      "    Motown Venneboerger Czestochwa Ranzer Conchita Trumplane Christos\n",
      "    Oceanside Escobar Kreisler Sawyer Cougar Yvette Ervin ODI Darryl CTCA\n",
      "    Shannon A.K.C. Meltex Liverpool ...\n",
      "NNPS: noun, proper, plural\n",
      "    Americans Americas Amharas Amityvilles Amusements Anarcho-Syndicalists\n",
      "    Andalusians Andes Andruses Angels Animals Anthony Antilles Antiques\n",
      "    Apache Apaches Apocrypha ...\n",
      "NNS: noun, common, plural\n",
      "    undergraduates scotches bric-a-brac products bodyguards facets coasts\n",
      "    divestitures storehouses designs clubs fragrances averages\n",
      "    subjectivists apprehensions muses factory-jobs ...\n",
      "PDT: pre-determiner\n",
      "    all both half many quite such sure this\n",
      "POS: genitive marker\n",
      "    ' 's\n",
      "PRP: pronoun, personal\n",
      "    hers herself him himself hisself it itself me myself one oneself ours\n",
      "    ourselves ownself self she thee theirs them themselves they thou thy us\n",
      "PRP$: pronoun, possessive\n",
      "    her his mine my our ours their thy your\n",
      "RB: adverb\n",
      "    occasionally unabatingly maddeningly adventurously professedly\n",
      "    stirringly prominently technologically magisterially predominately\n",
      "    swiftly fiscally pitilessly ...\n",
      "RBR: adverb, comparative\n",
      "    further gloomier grander graver greater grimmer harder harsher\n",
      "    healthier heavier higher however larger later leaner lengthier less-\n",
      "    perfectly lesser lonelier longer louder lower more ...\n",
      "RBS: adverb, superlative\n",
      "    best biggest bluntest earliest farthest first furthest hardest\n",
      "    heartiest highest largest least less most nearest second tightest worst\n",
      "RP: particle\n",
      "    aboard about across along apart around aside at away back before behind\n",
      "    by crop down ever fast for forth from go high i.e. in into just later\n",
      "    low more off on open out over per pie raising start teeth that through\n",
      "    under unto up up-pp upon whole with you\n",
      "SYM: symbol\n",
      "    % & ' '' ''. ) ). * + ,. < = > @ A[fj] U.S U.S.S.R * ** ***\n",
      "TO: \"to\" as preposition or infinitive marker\n",
      "    to\n",
      "UH: interjection\n",
      "    Goodbye Goody Gosh Wow Jeepers Jee-sus Hubba Hey Kee-reist Oops amen\n",
      "    huh howdy uh dammit whammo shucks heck anyways whodunnit honey golly\n",
      "    man baby diddle hush sonuvabitch ...\n",
      "VB: verb, base form\n",
      "    ask assemble assess assign assume atone attention avoid bake balkanize\n",
      "    bank begin behold believe bend benefit bevel beware bless boil bomb\n",
      "    boost brace break bring broil brush build ...\n",
      "VBD: verb, past tense\n",
      "    dipped pleaded swiped regummed soaked tidied convened halted registered\n",
      "    cushioned exacted snubbed strode aimed adopted belied figgered\n",
      "    speculated wore appreciated contemplated ...\n",
      "VBG: verb, present participle or gerund\n",
      "    telegraphing stirring focusing angering judging stalling lactating\n",
      "    hankerin' alleging veering capping approaching traveling besieging\n",
      "    encrypting interrupting erasing wincing ...\n",
      "VBN: verb, past participle\n",
      "    multihulled dilapidated aerosolized chaired languished panelized used\n",
      "    experimented flourished imitated reunifed factored condensed sheared\n",
      "    unsettled primed dubbed desired ...\n",
      "VBP: verb, present tense, not 3rd person singular\n",
      "    predominate wrap resort sue twist spill cure lengthen brush terminate\n",
      "    appear tend stray glisten obtain comprise detest tease attract\n",
      "    emphasize mold postpone sever return wag ...\n",
      "VBZ: verb, present tense, 3rd person singular\n",
      "    bases reconstructs marks mixes displeases seals carps weaves snatches\n",
      "    slumps stretches authorizes smolders pictures emerges stockpiles\n",
      "    seduces fizzes uses bolsters slaps speaks pleads ...\n",
      "WDT: WH-determiner\n",
      "    that what whatever which whichever\n",
      "WP: WH-pronoun\n",
      "    that what whatever whatsoever which who whom whosoever\n",
      "WP$: WH-pronoun, possessive\n",
      "    whose\n",
      "WRB: Wh-adverb\n",
      "    how however whence whenever where whereby whereever wherein whereof why\n",
      "``: opening quotation mark\n",
      "    ` ``\n"
     ]
    }
   ],
   "source": [
    "nltk.help.upenn_tagset()"
   ]
  },
  {
   "cell_type": "code",
   "execution_count": 31,
   "metadata": {},
   "outputs": [
    {
     "data": {
      "text/html": [
       "<div>\n",
       "<style scoped>\n",
       "    .dataframe tbody tr th:only-of-type {\n",
       "        vertical-align: middle;\n",
       "    }\n",
       "\n",
       "    .dataframe tbody tr th {\n",
       "        vertical-align: top;\n",
       "    }\n",
       "\n",
       "    .dataframe thead th {\n",
       "        text-align: right;\n",
       "    }\n",
       "</style>\n",
       "<table border=\"1\" class=\"dataframe\">\n",
       "  <thead>\n",
       "    <tr style=\"text-align: right;\">\n",
       "      <th></th>\n",
       "      <th>product_review</th>\n",
       "      <th>product_category</th>\n",
       "      <th>product_review_tokens</th>\n",
       "      <th>product_review_tokens_cleaned</th>\n",
       "      <th>product_review_cleaned</th>\n",
       "    </tr>\n",
       "  </thead>\n",
       "  <tbody>\n",
       "    <tr>\n",
       "      <th>0</th>\n",
       "      <td>i love love love this jumpsuit it s fun flirty...</td>\n",
       "      <td>Bottoms</td>\n",
       "      <td>[i, love, love, love, this, jumpsuit, it, s, f...</td>\n",
       "      <td>[love, love, love, jumpsuit, fun, flirty, fabu...</td>\n",
       "      <td>love love love jumpsuit fun flirty fabulous ev...</td>\n",
       "    </tr>\n",
       "    <tr>\n",
       "      <th>1</th>\n",
       "      <td>beautifully made pants and on trend with the f...</td>\n",
       "      <td>Bottoms</td>\n",
       "      <td>[beautifully, made, pants, and, on, trend, wit...</td>\n",
       "      <td>[beautifully, made, pants, trend, flared, crop...</td>\n",
       "      <td>beautifully made pants trend flared crop much ...</td>\n",
       "    </tr>\n",
       "    <tr>\n",
       "      <th>2</th>\n",
       "      <td>i never would have given these pants a second ...</td>\n",
       "      <td>Bottoms</td>\n",
       "      <td>[i, never, would, have, given, these, pants, a...</td>\n",
       "      <td>[never, would, given, pants, second, look, onl...</td>\n",
       "      <td>never would given pants second look online per...</td>\n",
       "    </tr>\n",
       "    <tr>\n",
       "      <th>3</th>\n",
       "      <td>these pants are even better in person the only...</td>\n",
       "      <td>Bottoms</td>\n",
       "      <td>[these, pants, are, even, better, in, person, ...</td>\n",
       "      <td>[pants, even, better, person, downside, need, ...</td>\n",
       "      <td>pants even better person downside need dry cle...</td>\n",
       "    </tr>\n",
       "    <tr>\n",
       "      <th>4</th>\n",
       "      <td>the silhouette and length of this skirt and le...</td>\n",
       "      <td>Bottoms</td>\n",
       "      <td>[the, silhouette, and, length, of, this, skirt...</td>\n",
       "      <td>[silhouette, length, skirt, length, flattering...</td>\n",
       "      <td>silhouette length skirt length flattering clas...</td>\n",
       "    </tr>\n",
       "  </tbody>\n",
       "</table>\n",
       "</div>"
      ],
      "text/plain": [
       "                                      product_review product_category  \\\n",
       "0  i love love love this jumpsuit it s fun flirty...          Bottoms   \n",
       "1  beautifully made pants and on trend with the f...          Bottoms   \n",
       "2  i never would have given these pants a second ...          Bottoms   \n",
       "3  these pants are even better in person the only...          Bottoms   \n",
       "4  the silhouette and length of this skirt and le...          Bottoms   \n",
       "\n",
       "                               product_review_tokens  \\\n",
       "0  [i, love, love, love, this, jumpsuit, it, s, f...   \n",
       "1  [beautifully, made, pants, and, on, trend, wit...   \n",
       "2  [i, never, would, have, given, these, pants, a...   \n",
       "3  [these, pants, are, even, better, in, person, ...   \n",
       "4  [the, silhouette, and, length, of, this, skirt...   \n",
       "\n",
       "                       product_review_tokens_cleaned  \\\n",
       "0  [love, love, love, jumpsuit, fun, flirty, fabu...   \n",
       "1  [beautifully, made, pants, trend, flared, crop...   \n",
       "2  [never, would, given, pants, second, look, onl...   \n",
       "3  [pants, even, better, person, downside, need, ...   \n",
       "4  [silhouette, length, skirt, length, flattering...   \n",
       "\n",
       "                              product_review_cleaned  \n",
       "0  love love love jumpsuit fun flirty fabulous ev...  \n",
       "1  beautifully made pants trend flared crop much ...  \n",
       "2  never would given pants second look online per...  \n",
       "3  pants even better person downside need dry cle...  \n",
       "4  silhouette length skirt length flattering clas...  "
      ]
     },
     "execution_count": 31,
     "metadata": {},
     "output_type": "execute_result"
    }
   ],
   "source": [
    "dataset.head()"
   ]
  },
  {
   "cell_type": "code",
   "execution_count": 32,
   "metadata": {},
   "outputs": [],
   "source": [
    "dataset[\"tokens_pos_tag\"] = dataset.product_review_tokens.apply(pos_tag)"
   ]
  },
  {
   "cell_type": "code",
   "execution_count": 33,
   "metadata": {},
   "outputs": [
    {
     "data": {
      "text/html": [
       "<div>\n",
       "<style scoped>\n",
       "    .dataframe tbody tr th:only-of-type {\n",
       "        vertical-align: middle;\n",
       "    }\n",
       "\n",
       "    .dataframe tbody tr th {\n",
       "        vertical-align: top;\n",
       "    }\n",
       "\n",
       "    .dataframe thead th {\n",
       "        text-align: right;\n",
       "    }\n",
       "</style>\n",
       "<table border=\"1\" class=\"dataframe\">\n",
       "  <thead>\n",
       "    <tr style=\"text-align: right;\">\n",
       "      <th></th>\n",
       "      <th>product_review</th>\n",
       "      <th>product_category</th>\n",
       "      <th>product_review_tokens</th>\n",
       "      <th>product_review_tokens_cleaned</th>\n",
       "      <th>product_review_cleaned</th>\n",
       "      <th>tokens_pos_tag</th>\n",
       "    </tr>\n",
       "  </thead>\n",
       "  <tbody>\n",
       "    <tr>\n",
       "      <th>0</th>\n",
       "      <td>i love love love this jumpsuit it s fun flirty...</td>\n",
       "      <td>Bottoms</td>\n",
       "      <td>[i, love, love, love, this, jumpsuit, it, s, f...</td>\n",
       "      <td>[love, love, love, jumpsuit, fun, flirty, fabu...</td>\n",
       "      <td>love love love jumpsuit fun flirty fabulous ev...</td>\n",
       "      <td>[(i, NN), (love, VBP), (love, NN), (love, NN),...</td>\n",
       "    </tr>\n",
       "    <tr>\n",
       "      <th>1</th>\n",
       "      <td>beautifully made pants and on trend with the f...</td>\n",
       "      <td>Bottoms</td>\n",
       "      <td>[beautifully, made, pants, and, on, trend, wit...</td>\n",
       "      <td>[beautifully, made, pants, trend, flared, crop...</td>\n",
       "      <td>beautifully made pants trend flared crop much ...</td>\n",
       "      <td>[(beautifully, RB), (made, VBN), (pants, NNS),...</td>\n",
       "    </tr>\n",
       "    <tr>\n",
       "      <th>2</th>\n",
       "      <td>i never would have given these pants a second ...</td>\n",
       "      <td>Bottoms</td>\n",
       "      <td>[i, never, would, have, given, these, pants, a...</td>\n",
       "      <td>[never, would, given, pants, second, look, onl...</td>\n",
       "      <td>never would given pants second look online per...</td>\n",
       "      <td>[(i, NN), (never, RB), (would, MD), (have, VB)...</td>\n",
       "    </tr>\n",
       "    <tr>\n",
       "      <th>3</th>\n",
       "      <td>these pants are even better in person the only...</td>\n",
       "      <td>Bottoms</td>\n",
       "      <td>[these, pants, are, even, better, in, person, ...</td>\n",
       "      <td>[pants, even, better, person, downside, need, ...</td>\n",
       "      <td>pants even better person downside need dry cle...</td>\n",
       "      <td>[(these, DT), (pants, NNS), (are, VBP), (even,...</td>\n",
       "    </tr>\n",
       "    <tr>\n",
       "      <th>4</th>\n",
       "      <td>the silhouette and length of this skirt and le...</td>\n",
       "      <td>Bottoms</td>\n",
       "      <td>[the, silhouette, and, length, of, this, skirt...</td>\n",
       "      <td>[silhouette, length, skirt, length, flattering...</td>\n",
       "      <td>silhouette length skirt length flattering clas...</td>\n",
       "      <td>[(the, DT), (silhouette, NN), (and, CC), (leng...</td>\n",
       "    </tr>\n",
       "  </tbody>\n",
       "</table>\n",
       "</div>"
      ],
      "text/plain": [
       "                                      product_review product_category  \\\n",
       "0  i love love love this jumpsuit it s fun flirty...          Bottoms   \n",
       "1  beautifully made pants and on trend with the f...          Bottoms   \n",
       "2  i never would have given these pants a second ...          Bottoms   \n",
       "3  these pants are even better in person the only...          Bottoms   \n",
       "4  the silhouette and length of this skirt and le...          Bottoms   \n",
       "\n",
       "                               product_review_tokens  \\\n",
       "0  [i, love, love, love, this, jumpsuit, it, s, f...   \n",
       "1  [beautifully, made, pants, and, on, trend, wit...   \n",
       "2  [i, never, would, have, given, these, pants, a...   \n",
       "3  [these, pants, are, even, better, in, person, ...   \n",
       "4  [the, silhouette, and, length, of, this, skirt...   \n",
       "\n",
       "                       product_review_tokens_cleaned  \\\n",
       "0  [love, love, love, jumpsuit, fun, flirty, fabu...   \n",
       "1  [beautifully, made, pants, trend, flared, crop...   \n",
       "2  [never, would, given, pants, second, look, onl...   \n",
       "3  [pants, even, better, person, downside, need, ...   \n",
       "4  [silhouette, length, skirt, length, flattering...   \n",
       "\n",
       "                              product_review_cleaned  \\\n",
       "0  love love love jumpsuit fun flirty fabulous ev...   \n",
       "1  beautifully made pants trend flared crop much ...   \n",
       "2  never would given pants second look online per...   \n",
       "3  pants even better person downside need dry cle...   \n",
       "4  silhouette length skirt length flattering clas...   \n",
       "\n",
       "                                      tokens_pos_tag  \n",
       "0  [(i, NN), (love, VBP), (love, NN), (love, NN),...  \n",
       "1  [(beautifully, RB), (made, VBN), (pants, NNS),...  \n",
       "2  [(i, NN), (never, RB), (would, MD), (have, VB)...  \n",
       "3  [(these, DT), (pants, NNS), (are, VBP), (even,...  \n",
       "4  [(the, DT), (silhouette, NN), (and, CC), (leng...  "
      ]
     },
     "execution_count": 33,
     "metadata": {},
     "output_type": "execute_result"
    }
   ],
   "source": [
    "dataset.head()"
   ]
  },
  {
   "cell_type": "code",
   "execution_count": 34,
   "metadata": {},
   "outputs": [],
   "source": [
    "def extract_adj(tokens:list) -> list:\n",
    "    adjs = []\n",
    "    for t in tokens:\n",
    "        if t[1] in [\"JJ\", \"JJR\", \"JJS\"]:\n",
    "            adjs.append(t[0])\n",
    "\n",
    "    return adjs\n",
    "        # print(f\"Token: {t[0]} | Etiqueta: {t[1]}\")"
   ]
  },
  {
   "cell_type": "code",
   "execution_count": 35,
   "metadata": {},
   "outputs": [],
   "source": [
    "dataset[\"adjectives\"] = dataset.tokens_pos_tag.apply(extract_adj)"
   ]
  },
  {
   "cell_type": "code",
   "execution_count": 36,
   "metadata": {},
   "outputs": [
    {
     "data": {
      "text/html": [
       "<div>\n",
       "<style scoped>\n",
       "    .dataframe tbody tr th:only-of-type {\n",
       "        vertical-align: middle;\n",
       "    }\n",
       "\n",
       "    .dataframe tbody tr th {\n",
       "        vertical-align: top;\n",
       "    }\n",
       "\n",
       "    .dataframe thead th {\n",
       "        text-align: right;\n",
       "    }\n",
       "</style>\n",
       "<table border=\"1\" class=\"dataframe\">\n",
       "  <thead>\n",
       "    <tr style=\"text-align: right;\">\n",
       "      <th></th>\n",
       "      <th>product_review</th>\n",
       "      <th>product_category</th>\n",
       "      <th>product_review_tokens</th>\n",
       "      <th>product_review_tokens_cleaned</th>\n",
       "      <th>product_review_cleaned</th>\n",
       "      <th>tokens_pos_tag</th>\n",
       "      <th>adjectives</th>\n",
       "    </tr>\n",
       "  </thead>\n",
       "  <tbody>\n",
       "    <tr>\n",
       "      <th>0</th>\n",
       "      <td>i love love love this jumpsuit it s fun flirty...</td>\n",
       "      <td>Bottoms</td>\n",
       "      <td>[i, love, love, love, this, jumpsuit, it, s, f...</td>\n",
       "      <td>[love, love, love, jumpsuit, fun, flirty, fabu...</td>\n",
       "      <td>love love love jumpsuit fun flirty fabulous ev...</td>\n",
       "      <td>[(i, NN), (love, VBP), (love, NN), (love, NN),...</td>\n",
       "      <td>[fun, fabulous, i, great]</td>\n",
       "    </tr>\n",
       "    <tr>\n",
       "      <th>1</th>\n",
       "      <td>beautifully made pants and on trend with the f...</td>\n",
       "      <td>Bottoms</td>\n",
       "      <td>[beautifully, made, pants, and, on, trend, wit...</td>\n",
       "      <td>[beautifully, made, pants, trend, flared, crop...</td>\n",
       "      <td>beautifully made pants trend flared crop much ...</td>\n",
       "      <td>[(beautifully, RB), (made, VBN), (pants, NNS),...</td>\n",
       "      <td>[flared, much]</td>\n",
       "    </tr>\n",
       "    <tr>\n",
       "      <th>2</th>\n",
       "      <td>i never would have given these pants a second ...</td>\n",
       "      <td>Bottoms</td>\n",
       "      <td>[i, never, would, have, given, these, pants, a...</td>\n",
       "      <td>[never, would, given, pants, second, look, onl...</td>\n",
       "      <td>never would given pants second look online per...</td>\n",
       "      <td>[(i, NN), (never, RB), (would, MD), (have, VB)...</td>\n",
       "      <td>[second, much, cuter, right, small, loose, navy]</td>\n",
       "    </tr>\n",
       "    <tr>\n",
       "      <th>3</th>\n",
       "      <td>these pants are even better in person the only...</td>\n",
       "      <td>Bottoms</td>\n",
       "      <td>[these, pants, are, even, better, in, person, ...</td>\n",
       "      <td>[pants, even, better, person, downside, need, ...</td>\n",
       "      <td>pants even better person downside need dry cle...</td>\n",
       "      <td>[(these, DT), (pants, NNS), (are, VBP), (even,...</td>\n",
       "      <td>[only, dry]</td>\n",
       "    </tr>\n",
       "    <tr>\n",
       "      <th>4</th>\n",
       "      <td>the silhouette and length of this skirt and le...</td>\n",
       "      <td>Bottoms</td>\n",
       "      <td>[the, silhouette, and, length, of, this, skirt...</td>\n",
       "      <td>[silhouette, length, skirt, length, flattering...</td>\n",
       "      <td>silhouette length skirt length flattering clas...</td>\n",
       "      <td>[(the, DT), (silhouette, NN), (and, CC), (leng...</td>\n",
       "      <td>[classic, comfortable, worn, favorite, differe...</td>\n",
       "    </tr>\n",
       "  </tbody>\n",
       "</table>\n",
       "</div>"
      ],
      "text/plain": [
       "                                      product_review product_category  \\\n",
       "0  i love love love this jumpsuit it s fun flirty...          Bottoms   \n",
       "1  beautifully made pants and on trend with the f...          Bottoms   \n",
       "2  i never would have given these pants a second ...          Bottoms   \n",
       "3  these pants are even better in person the only...          Bottoms   \n",
       "4  the silhouette and length of this skirt and le...          Bottoms   \n",
       "\n",
       "                               product_review_tokens  \\\n",
       "0  [i, love, love, love, this, jumpsuit, it, s, f...   \n",
       "1  [beautifully, made, pants, and, on, trend, wit...   \n",
       "2  [i, never, would, have, given, these, pants, a...   \n",
       "3  [these, pants, are, even, better, in, person, ...   \n",
       "4  [the, silhouette, and, length, of, this, skirt...   \n",
       "\n",
       "                       product_review_tokens_cleaned  \\\n",
       "0  [love, love, love, jumpsuit, fun, flirty, fabu...   \n",
       "1  [beautifully, made, pants, trend, flared, crop...   \n",
       "2  [never, would, given, pants, second, look, onl...   \n",
       "3  [pants, even, better, person, downside, need, ...   \n",
       "4  [silhouette, length, skirt, length, flattering...   \n",
       "\n",
       "                              product_review_cleaned  \\\n",
       "0  love love love jumpsuit fun flirty fabulous ev...   \n",
       "1  beautifully made pants trend flared crop much ...   \n",
       "2  never would given pants second look online per...   \n",
       "3  pants even better person downside need dry cle...   \n",
       "4  silhouette length skirt length flattering clas...   \n",
       "\n",
       "                                      tokens_pos_tag  \\\n",
       "0  [(i, NN), (love, VBP), (love, NN), (love, NN),...   \n",
       "1  [(beautifully, RB), (made, VBN), (pants, NNS),...   \n",
       "2  [(i, NN), (never, RB), (would, MD), (have, VB)...   \n",
       "3  [(these, DT), (pants, NNS), (are, VBP), (even,...   \n",
       "4  [(the, DT), (silhouette, NN), (and, CC), (leng...   \n",
       "\n",
       "                                          adjectives  \n",
       "0                          [fun, fabulous, i, great]  \n",
       "1                                     [flared, much]  \n",
       "2   [second, much, cuter, right, small, loose, navy]  \n",
       "3                                        [only, dry]  \n",
       "4  [classic, comfortable, worn, favorite, differe...  "
      ]
     },
     "execution_count": 36,
     "metadata": {},
     "output_type": "execute_result"
    }
   ],
   "source": [
    "dataset.head()"
   ]
  },
  {
   "cell_type": "code",
   "execution_count": 37,
   "metadata": {},
   "outputs": [
    {
     "data": {
      "text/plain": [
       "'flattering due adjustable perfect cardigan last i pale gorgeous little hte ejans i glad i white crisp clean i great perfect wear wrong t sure white careful i great comfy classic quirky beautiful practical cropped boxy perfect longer camisole little warm thin small gorgeous unsnapped skinny true great casual flare grey back nice beautiful unique ordinary usual tight chest i cute plaid great local comfortable bad little dressier small black top comfortable comfortable good perfect roomy warm cute collar beautiful unique top small fit better super adorable favorite i small perfect soft comfortable unusual asymmetrical right visual little adorable i comfortable i feminine great dark perfect wish happy comfortable flattering comfortable light top lovely floral great white top happy top online little i little large petite longer regular perfect give soft comfortable short much uncomfortable doesn easier navy boxy whole cute more fabric i super read same specific petite weigh small perfect luxurious casual everyday little long little tight top great comfortable unique soft last wonderful greenish unique beautiful i great worn different great only petite touch big much real short i modern large normal top pleased elegant casual overall overall various greenish more green fantastic stunning white little big i great unique lovely teal blue luxurious sassy i numerous true small slightest tight first small i small top true generous top nice comfy casual small hh true broad perfect inside unexpected more true stressed current perfect t cute little wonderful different previous larger glad i beautiful super casual slit more stylish average white long perfect many many s easy hot humid easy many casual reversible appropriate great much other scratchy sensitive perfect mild light fitted bottom other cute comfortable true small roomy narrow top t perfect different comfortable tunic curvy few extra perfect good negative gorgeous deeper true i large fitted top green super petite long little lost much second i different bare i hot right metallic little large t i current top feminine small swing fabric soft i more neutral white many white cute greatest fabulous i sure favorite other great nice ultra skinny i pregnant wrong feminine light cami great white perfect warmer casual big such t big flattering great gorgeous top nice soft i t full loose pretty straight soft other white flattering other several flattering easy dressy soft comfortable adorable cute navy ok much adorable big odd few new favorite top tunic other delicate open upper feminine light hot able appropriate most extraordinary least pretty nice big perfect subtle petite usual narrower ok athletic great wrong great usual smaller generous little beautiful i anxious smaller little longer little shorter tts little biggest nice comfortable casual i t super natural tunic little large top perfect small extra small forth i top regular small longer much low white unique skinny ankle stylish super soft t sure looser large top cute great many blue soft little shorter i prettier i athletic little small i t fitted great stylish comfortable top large great pretty top full shorter softer true i usual sleeve true favorite perfect first many comfy i sloppy many favorite other nice i t i larger tough i t much top great top much nice tight light several different pretty deep doesn much t top i true regular petite i short see nude perfect comfortable easy i similar flattering great blue happy short usual beautiful printed small perfect smaller popular due hot soft warm outside i favorite i extra small great awesome soft positive previous worth full little small perfect great sleeve right beautiful polka sweet pretty long unique thin beautiful small busted i smaller usual full full small much ample regular full better little shorter top interesting i top closer overall lightweight due soft great blue gorgeous interesting short happy thick thick flattering short special black i silky beautiful many enormous bottom white flattering much online chic stylish great chillier plain short long sleeved more elaborate many gorgeous sleeve unfinished frayed noticeable unique gold sticky sticky humid sticky sticky sure top glad print great denim loose top little short true small beautiful gold i top nice soft good basic many sure top enough top nice petite regular good busy same soft soft fleece soft small black cropped bottom quality small flowy short comfortable feminine beautiful fit favorite new red gorgeous large extra large ethereal pretty same composed hottest super soft black short petite heavy warm great outfit oversized small black many charlie flat great casual visual black white versatile great casual s curvy special navy stripe cute nautical boxy unimpressive i cute isn clingy comfortable little sure bad tall long flattering i fantastic flowy i t much romantic girly short right athletic rave true plush funky i i different great i able only petite top glad short super isn boxy other local itchy small long oversized i i right larger i same smaller petite other petite few great super sure i t wool cool skeptical first black white versatile interesting t bright similar regular fine i super short thick white cute i i vintage slinky comfy great white large small mid more fun nice such great unique beautiful appropriate normal small more little tunic mid great beautiful soft warm perfect new little soft light worn casual nice soft comfortable beautiful accurate perfect extra casual elegant same adorable loose soft bottom clingy soft i happy black closed lace little much open cami comfortable whole pictured little longer super awesome true normal small beautiful little higher sure i similar beautiful little extra i usual great great skirt tts flattering comfortable nice true nice good great red black nice flattering much i olive red black i enough black simple true fitted due t unflattering close most super immodest black fabric soft thick nice great super fat good black red good great super great i black first green great cheap least enough cute beautiful colorful t nice lightweight fine other wish i older more personal accurate lovely unique unique romantic sheer nude camisole small i normal special comfortable huge v crazy s fresh feminine flattering great denim happy soo cool good top embossed usual patterned nice vibrant nice i great little loose little elastic perfect top mixed top special curatorial top dramatic comfortable many i wonderful pretty new dark boho flattering top happy pretty different floral interesting unique comfortable due true fit great bohemian smaller larger only larger asymmetrical new second other small top i tad i figure perfect beautiful i t coral mixed little large flowy comfortable unique special favorite many beautiful soft bigger i black back great casual perfect little flattering black necessary larger usual great easy top sure great little long beautiful dressier skinny aesthetic gorgeous happy top soft cute super comfortable xs lovely pale complementary nice nice perfect adequate petite short flowy more swing cute due thin hard true top flattering nice i t nice darn soft top lower easy black creamy white top brownish yellow creamy white beautiful petite available beautiful unique t sure fabulous chic sophisticated special elegant great beautiful more multiple tight r top super long due happy sweet flowy great yellow floral front narrow bra nude plastic big unique nice great little transitional floral usual top quirky i crazy comfortable chilly wear western black cute soft top great great true small small comfortable great cardigan blazer super bright red perfect light little loose boxy bust overall flattering regular t short wear petite due other short regular happy comfortable top great skinny small tts slim length longer i red thicker other cashmere stick i much large shorter huge loose red i little flat sure i gorgeous i amazing unique light white beautiful red large perfect high fabulous top top comfortable true classy unique pretty many girlie fun shorter short long beautiful large large nice basic pale prettier i great denim olive green white comfy casual front different smaller white i different perfect little softer heavier pretty lightweight comfy stylish indigo blue nice fit different narrow fine true small other same many i slight straight rough casual last sure itchy great great short long standard huge perfect i flowy best shorter more little boxy petite best similar exact much i black super only slight negative i neckline t worth giant many perfect saturday great fit elastic soft great ish fit great washed more white i cute first many comfortable expensive adorable flattering white much ft little favorite much i white good different great favorite dark white able nude cute little pictured small same pictured fabric super grey top white brown pretty t big generous great feeling fashionable essential soft warm fashionable acrylic functional disagree other small short true itchy i basic neckline s soft comfortable white blue additional overall comfy nice neutral i overall small different wearable white opted i available waisted short i regular big flattering chest v classic great black nude black white pricey beautiful soft itchy important vibrant bright i small perfect shapeless mild better pic nice nice glad many perfect cool warm excellent top tall tunic shorter pattern soft fabric nice comfortable casual adorable effortless chic close nice endless comfortable cute top true great snug fine i little bust better i top nude inappropriate beautiful fashionable good viscose pretty feminine great great true local i top pretty i curvy true slight only beautiful tunic short worn soft flattering different similar exquisite longer prettier pretty unique special small medium i small much t large closer skinny top great i many many great such great little more black shirt little same top black skinny black lighter i i ok extra worn petite i i general perfect perfect casual skinny long black pale blue i basic great comfortable black little good usual great great skinny small short wide small little short great great lightweight skinny white first much light blue amazing long back comfortable loose cardigan pretty red black boxy spectacular raw nice casual white black comfortable flattering many like perfect nice beautiful i front usual small red cardigan cute larger front right perfect short boxy waist perfect roomy long nice great doesn perfect comfortable pictured i i short high low local instant usual small fit perfect winter red more rust soft belly nautical i denim black soft red soft unsure small wouldn great richer vibrant unique i small little small i looser flattering great interesting high true great soft i lucky full fabulous wear layer coral wonderful vibrant fit old professional great i dark gorgeous beautiful coral small tight able thick coral beautiful excellent lightweight great great new coral new perfect beautiful fit great i small extra small flattering i t green dark woodsy robin most soft casual outside most little worth fabulous i cozy delicious hot breathable green black friday wish beautiful great i ft beautiful comfy bulky boiled rich deep green great great warm northern short wool classy festive green normal due positive soft boiled green deep incredible black magical roomy tricky defined comfortable soft worth light good i full s favorite green much coral i large perfect wonderful gray black great animal online attractive attractive unbuttoned boiled light softer boiled light i able november i warm high cardigan blazer beloved last thin thick perfect perfect lovely green many perfect i petite small natural door several pleased roomy large boxy fluffy luxurious terrific classic fancy favorite new super soft comfortable little large cozy collar oversized lightweight fast black i main scarf cute full wonderful sp coral beautiful stylish green i weigh more heavier classic lightweight squishy soft deep simple practical nice local fabulous coral divine short small large heavier normal great great great green great i great structured smaller i large beautiful first boxy flattering face particular more unexpected big giant new puppy perfect late easy coral i xs green super rich perfect easy i super afraid favorite gray large more snug great glad beautiful soft sure top available blue beautiful soft only heavy great conspicuous feminine classic tunic black full flowy large pretty soft beautiful blue small first beautiful i green itchy comfortable coral such great top good i south lightweight long long great fit true purple petite soft unique regular overall same beautiful much straight several nice soft comfortable versatile blue top i unique great late pleated upper flattering top perfect heavy s great large pleased heavy substantial thread fine i worried heavy overall small other soft reasonable much coral flowy many top perfect huge other i able chinos i i true petite blue subtle great paired blue straight blue local linen heavy s large due heavy colored extra soooo super large smaller usual generous i top small i tall busty top leather short picky happy heavy fantastic local beautiful heftier s different gorgeous amazing perfect regular small tts i blousy top excellent i dark gray more rich exotic s perfect soft red beautiful tts top such great classy comfortable same pricey great light green long different i red rich vibrant i true soft comfortable right versatile many more i great dry romantic comfortable great high high sheer i t everyday cute true nice i beautiful s high nice older small little longer perfect busty ivory top true petite small regular small fit little short perfect shorter surprised soft top little bigger small available little perfect superb i usual perfect cool bright yellow yellow green real pretty other tts several much i soft comfortable gorgeous blue small larger glad easy wide sheer solid lovely heavy bright top snug noticeable uncomfortable aware blue wet top front cute right unusual armhole t available great lightweight friendly white small fine small beautiful tan thin sure enough i small cute tall recommend gorgeous green warm best flattering i fun tunic great beautiful soft easy current true regular pronounced much floral perfect sleeve perfect thin perfect easy breezy stylish busy beautiful i blue floral easy white full large i usual s xs tight perfect happy easy loose small i small regular xs top top tight yellow white navy good cold i usual i roomy much better happy top yellow more comfortable cute other yellow floral true comfortable floral same nice top large many top thin i small top small top flattering hippy great white black great black flip baggy super top white i cami xs wish top small top weigh lbs small i most normal black dark black least receive everytime great skinny great looser white blue great adorable only little big easy top great perfect comfortable big ok usual adorable great great sure top many large flowy i short little big green vibrant light beautiful true black local top vibrant gorgeous small extra small tad petite aaaaandidon nice extra true great top adorable great larger more available many next sad t swingy better top fun little hard thin more silky cool online fun edgy larger i other able mine cute unique usual soft casual such cute more s longer tunic top much large nice flowy slim top flattering soft much thick such adorable super i loose long large comfortable great top kimono great i better great poncho t more versatile detailed soft perfect deep flattering white great little gorgeous blue i many only i t harder t muscular super super soft less great top great dark perfect soft doesn big top gorgeous real beautiful great lightweight petite perfect belted happy lovely wear petite many right popular top beautiful unique blue white top billowy i top normal new curvy i large little large fabric comfortable more thin super soft thin hot humid neutral adorable jean big baggy beautiful cute unique blue washable major soft little different great loose fitting true beautiful feminine big lbs comfortable nice cute great impending fabulous casual pilcro yellow i happy own nice sun i cervical sunny same i cheaper true soft beautiful stuff starched stretchy top small i true perfect i diving cutsie easy little true need great little nice great largish t curvier more fitted great sturdy cheap i long certain more great fantastic unique rear i super soft removable other tunic great skinny open i i s top super soft thin light cool hot humid nice gentle large cool i form super hot local burgundy beautiful feminine other black available fine great soft comfortable blue online beautiful special i small i perfect rich perfect printed eclectic i i large true i nice heavier soft such great flattering true loose i classic timeless versatile light gorgeous more i happy awkward accidental top last olive green great quality comfortable top more professional i warm delicate i boxy soft nice comfortable stylish great great dark skinny turtle only double wish other top s fancy flip regular i i long i fine thin i t own warm cold i front little tired shorter t navy comfortable great i large weigh large i unique i great first open most open sutble girl next sexy soft subtle plus regular relaxed beautiful top gorgeous remiss i short s voluminous right perfect full i apt expensive much i bust chic lightweight last iso sure other boxy unflattering many top gray green gorgeous comfortable i navy great fabulous little vibrant black coral thin most i larger top good petite regular able i short long wide biggest short normal acrylic warm enough colder nice comfortable lazy cool black bright hesitant oversized small xs great i large dark received long perfect heavy outstanding exceptional stylist open large previous soft easy teal more best perfect great many other cute great perfect loose flattering many black cute small usual little short regular wish til first good awesome blue short fine small top black great loose nice contrary other low wear happy december hot soft cozy ready beautiful generous favorite luxurious i large long loose difficult top huge i i usual small unflattering happy top thankful top easy soft top nice nice perfect i lightweight perfect cold hot super soft nice great t terrible worth lightweight perfect gorgeous best fluffy flattering ideal light nice simple chic effortless big creamy i t available long t great unique beautiful substantial woven small small glad only i top small larger much short super voluminous good cute shorter nice overall good favorite great ti good sure fine short isn wide hwy large beautiful little crazy top comfortable soft nice small swingy beautiful beautiful great great little great white i busty short full usual back great special soft big length great skinny overall wonderful glad able more wide small big perfect comfortable interesting great other great top fantastic bigger i last beautiful prettier petite i d top beautiful flowy comfortable u neckline i black small i small perfect classic rounded unique heavier better perfect thin great top comfortable super soft clingy polished little wide didn t boxy i nice i glad soft comfy large boxy soooo soft short heavy large beautiful front boxy beautiful great breathable deep rich comfy top rust small pet perfect minor beautiful top i everyday few good dry least good great light multiple tad great comfortable previous cute black i white great skinny classic stylish rich soft wear perfect i top difficult comfortable sloppy perfect tiny big most true great busty vibrant online light i true neutral first black unbuttoned good small best little upper i t top deep coral comfy great t much much front saw local longer i other pilcro skinny i soft many helpful great first stiff soft cream beautiful hot small upper i slight i t longer top great cute upper unique small top i open flattering red black top slimming tummy muffin top best perfect feels nice tiny i i t flattering pear larger sheer nude little fancy versatile semi casual first natural second loose i little bigger i s fit great other hadn best classic i appropriate individual white large top waist trim adorable fun cutesy previous small broad usual small small didn hard related wide actual t adorable grey modern small i i great right i cropped higher glad negative black red favorite i fine i t small slim perfect comfortable appropriate ruffled surprised top expensive good flattering small top top top true tunic thin adorable subtle perfect neutral boxy i comfortable fine great skinny top other athletic m nice fit perfect upcoming light dark black great nice i flat little good new nice tight loose tight flattering nice soft great nice green large white white little more i other good basic full i same red blue great happy stretchy great more easy glad soft great typical versatile interesting multiple first soft i i sure dark green white perfect such flattering nice right snug conservative provocative great basic great deep more cardigan beautiful same dark springy lower first tighter other fine beautiful heavy same old gorgeous perfect small pear similar few i thankful realistic i small small t tight torso much small small shirt much extra small classy beautiful favorable dressy casual glad gorgeous top large t cute i beautiful navy easy interesting cozy comfortable stylish top simple great same large i skinny i top flattering olive dark soft jean cool casual comfy great top adorable i small i small roomy beautiful gorgeous linen white classic top beautiful true large comfortable longer i normal little amazing feminine good stunning true large white form tight large small i top looser baggy tasteful low sleeve black great large able top vibrant soft light great top more i t low high soft narrow i little i small flattering imagine other t soft flattering perfect bad hte good nice i comfortable red rich subtle typical nice low personal tank great abstract floral understated romantic red beautiful rich red super soft great i white waist i lightweight comfortable versatile casual dark dressy fun light red rich nervous top such excellent ridiculous able small other perfect much unique whole nice soft comfortable i amazing able incredible peplum little perfect perfect high soft tiny much u other local first soft lightweight loose wider bra little v little top conservative upright last comfortable i wearable basic cute contemporary favorite loose flattering red deep red loose mid open fluffy small regular closer true usual smaller fabric higher personal great christmas much cute deep red long large loose large typical pinkish beautiful better casual i sure perfect best wear versatile nice soft fabulous perfect external soft versatile great good comfortable great soft comfortable gorgeous burgundy wasn i gorgeous large x large i large didn full adorable cuter additional flowy comfortable black long black super small little great better special little low same great soft best other only top nice new mommy perfect comfortable i top fit great beautiful nice expensive i nice little boxy nice dark purple top perfect i comfortable cute cold warm don t same i black december small skinny skinny slimming soft soft comfortable great tall great i tight pregnant i great perfect other new favorite freaking soft back little added staple more perfect cute i true light excited next unique regular heavy good new favorite perfect heavy thin super skinny nice similar same super soft t more tall long long small i single extra druzy puppy black new soft comfortable sure true simple soft basic perfect i i cami soft right great soft skinny brown comfortable casual black white other little extra softer flattering other same more new black favorite cutest soft true great other excellent great long i longer decent tight black more great i don super soft i more super same extra i perfect i great sure super soft substantial comfortable i perfect much constant fabulous black white fun perfect casual cardigan sleeve i i usual perfect soft wrong perfect i more top only negative easy i same exclusive whimsical grey sleeve traditional modern cropped few many stray excellent heavier weight comfortable perfect i small nice higher more soft best basic long i lb perfect comfy worth top old i i comfortable i several sturdy i i top ornate surprised thick highlights enough much awkward long skinny great old i little extra everyday t scalloped beautiful fit boxy i i much great great i amazing such incredible total great skinny comfortable little long fabulous great weight sure top pleased first perfect different i full t i full much beautiful i heavy long small previous digan loose high thickness thick thin soft wear retailer quirkiness same versatile comfortable i small best fit overall perfect long top true little nice special top top great great top large most large other small worth cute own i nude i adorable lovely back dusky floral pretty tiered slimming casual right feminine yummiest i purple first multiple prior big i extra small usual small other small difficult i red great skinny wide good flattering soft skinny narrow beautiful green blue green more swing romantic feminine beautiful top quite transparent reversible soft black slate gray contemporary v professional dark blue great little short i great good black skinny top gorgeous top much high much more thrilled flattering beautiful only minor hidden black more dark similar top soft i camisole i great stripe special beautiful dressy casual spectacular new wish other fantastic beautiful artsy i regular petite short rich fabulous i wide fitted top favorite true white red great indra i green floral pattern unique i different mesh several superb true unique back white cheap beautiful gorgeous high i top large upper fine personal doesn most thin able i sure i happy such soft fitting structured casual i glad next easy open black long cute small t definite soft good soft green regular boxy nice thin soft classy casual dressy i great great great older stylish little extra subtle i beautiful worth sure i small xs anthto little extra cooler small petite cozy gorgeous soft beautiful unique beautiful large smaller beautiful better only pulled little disappointed top flattering dressy comfortable soft nice good long petite i regular petite tall low top simple top special light january stripe normal small smaller colorful great casual more more same large xs small generous boxy horizontal loose black tee small i nice versatile suitable dressier comfortable beautiful large small extra small small huge smaller i sure better special thin perfect lower blousy straight longer petite much i green white narrow big perfect good laden green teal better hard great lightweight gorgeous great usual small short i small i small i much short lighter s florida mild gorgeous bigger i i sure plastic much bigger nice overall right i little stiff stiff first fit navy cuter great cool professional perfect cute first tunic hesitant i beautiful previous high i t other m small beautiful dressing big i extra small sure unique many many best i beautiful extra top full much short boxy black pleased fabric heavy high high regular small i tts i happier special vintage major gorgeous regular little wide i short i elbow small less boxy beautiful metallic elegant gatsby attracted i high tunic avoided bad more happy beautiful own beautiful special nice soft metallic back wonderful i usual fitted top snug happy online gorgeous light feminine soft back beautiful velour other pleased true regular perfect i great skinny right long dressy gorgeous chic tunic super soft good thick heavy huge i hot wear hot i beautiful high stretchy i tts blue soft stunning happy gorgeous i nice flowy i i t cam white usual small s cute casual i other more straight i more flared high little special basic curvy perfect white little large broad cold fine light many shorter touch nice wider narrower additional perfect nice thin most white perfect impecable petite regular more pale coral more semi light great hot such cute big sloppy cute black skinny classic s soft thick nice straight small right problematic more chest back most top last slim other perfect high perfect soft right favorite nice subtle roomy white i such top i few i good wash dry top navy black colored perfect comfy adorable little special happy normal big i top soft perfect right slight i chest high showy top adorable favorite red skinny i true washable durable vibrant soft great cute romantic darker soft subtle right soft i large med many little short t i t top high afterward i much black white intact i aggressive late second sexiness flowy comfortable easy casual versatile little soft drapey i i beautiful comfortable unique heavy perfect south perfect great appropriate large large perfect perfect i boxy lovely navy black thin last super long soft right petite perfect black great soft warm white great top large bust distressed black real distressed asymmetric unusual short long great overall top larger adorable black local previous top large soft comfortable i asymmetrical bottom funky arty regular great much small black small great great normal other top pretty i t wide soft comfortable stretchy classic appropriate white little black beautiful hard right less new favorite comfy super white gray small other loose i t much edgy little loose small great beautiful nice modern artistic enough only little wool next nice i good usual first little big i tight short small small i slender much i second top billowy i true small white super more casual perfect little comfy baggy more i green white best high true large nice recommend many i such cute big loose such simple great stylish white i camisole more big crinkle great i x large large cute soft little excessive green little flattering simple interesting good classy stylish comfortable other great skinny casual terrific great vest thin thick nice soft great easy i polka sleeve great cooler great material stylish different classic flattering awesome super little big good mid much black black brownish black lbs many small good white sure other sweet simple strappy great rolled perfect uneven enough more black re pale lighter nice great good first white yellow soft great comfortable good sweet basic boxy nice short square asymmetrical great true higher subtle favorite i second coral light more down current other usual granite top i easy nice old romantic neutral vine black super hte waist fit top great little short boxy larger i boxy i didn great staple other white black super nice worn small small xs i little little more consistent fine top x large i busty large perfect comfortable white beautiful i t t awesome super breathable printed only basic '"
      ]
     },
     "execution_count": 37,
     "metadata": {},
     "output_type": "execute_result"
    }
   ],
   "source": [
    "adjs_tops = \"\"\n",
    "\n",
    "for i in dataset[dataset.product_category == \"Tops\"][\"adjectives\"]:\n",
    "    adjs_tops += \" \".join(i) + \" \"\n",
    "\n",
    "adjs_tops"
   ]
  },
  {
   "cell_type": "code",
   "execution_count": 38,
   "metadata": {},
   "outputs": [
    {
     "data": {
      "text/plain": [
       "FreqDist({' ': 5023, 'e': 3070, 't': 2554, 'l': 2016, 'r': 1989, 'a': 1968, 'i': 1915, 'o': 1602, 's': 1362, 'u': 1071, ...})"
      ]
     },
     "execution_count": 38,
     "metadata": {},
     "output_type": "execute_result"
    }
   ],
   "source": [
    "FreqDist(adjs_tops)"
   ]
  },
  {
   "cell_type": "code",
   "execution_count": 39,
   "metadata": {},
   "outputs": [],
   "source": [
    "from wordcloud import WordCloud"
   ]
  },
  {
   "cell_type": "code",
   "execution_count": 40,
   "metadata": {},
   "outputs": [],
   "source": [
    "wc = WordCloud(height=500, width=500, background_color=\"white\")"
   ]
  },
  {
   "cell_type": "code",
   "execution_count": 41,
   "metadata": {},
   "outputs": [
    {
     "data": {
      "text/plain": [
       "['__array__',\n",
       " '__class__',\n",
       " '__delattr__',\n",
       " '__dict__',\n",
       " '__dir__',\n",
       " '__doc__',\n",
       " '__eq__',\n",
       " '__format__',\n",
       " '__ge__',\n",
       " '__getattribute__',\n",
       " '__getstate__',\n",
       " '__gt__',\n",
       " '__hash__',\n",
       " '__init__',\n",
       " '__init_subclass__',\n",
       " '__le__',\n",
       " '__lt__',\n",
       " '__module__',\n",
       " '__ne__',\n",
       " '__new__',\n",
       " '__reduce__',\n",
       " '__reduce_ex__',\n",
       " '__repr__',\n",
       " '__setattr__',\n",
       " '__sizeof__',\n",
       " '__str__',\n",
       " '__subclasshook__',\n",
       " '__weakref__',\n",
       " '_check_generated',\n",
       " '_draw_contour',\n",
       " '_get_bolean_mask',\n",
       " 'background_color',\n",
       " 'collocation_threshold',\n",
       " 'collocations',\n",
       " 'color_func',\n",
       " 'colormap',\n",
       " 'contour_color',\n",
       " 'contour_width',\n",
       " 'fit_words',\n",
       " 'font_path',\n",
       " 'font_step',\n",
       " 'generate',\n",
       " 'generate_from_frequencies',\n",
       " 'generate_from_text',\n",
       " 'height',\n",
       " 'include_numbers',\n",
       " 'margin',\n",
       " 'mask',\n",
       " 'max_font_size',\n",
       " 'max_words',\n",
       " 'min_font_size',\n",
       " 'min_word_length',\n",
       " 'mode',\n",
       " 'normalize_plurals',\n",
       " 'prefer_horizontal',\n",
       " 'process_text',\n",
       " 'random_state',\n",
       " 'recolor',\n",
       " 'regexp',\n",
       " 'relative_scaling',\n",
       " 'repeat',\n",
       " 'scale',\n",
       " 'stopwords',\n",
       " 'to_array',\n",
       " 'to_file',\n",
       " 'to_image',\n",
       " 'to_svg',\n",
       " 'width']"
      ]
     },
     "execution_count": 41,
     "metadata": {},
     "output_type": "execute_result"
    }
   ],
   "source": [
    "dir(wc)"
   ]
  },
  {
   "cell_type": "code",
   "execution_count": 42,
   "metadata": {},
   "outputs": [
    {
     "data": {
      "text/plain": [
       "wordcloud.wordcloud.WordCloud"
      ]
     },
     "execution_count": 42,
     "metadata": {},
     "output_type": "execute_result"
    }
   ],
   "source": [
    "type(wc)"
   ]
  },
  {
   "cell_type": "code",
   "execution_count": 43,
   "metadata": {},
   "outputs": [],
   "source": [
    "from matplotlib import pyplot as plt"
   ]
  },
  {
   "cell_type": "code",
   "execution_count": 44,
   "metadata": {},
   "outputs": [
    {
     "data": {
      "image/png": "[encoded data removed]",
      "text/plain": [
       "<Figure size 640x480 with 1 Axes>"
      ]
     },
     "metadata": {},
     "output_type": "display_data"
    }
   ],
   "source": [
    "wc.generate(adjs_tops)\n",
    "plt.imshow(wc)\n",
    "plt.axis(\"off\")\n",
    "plt.show()"
   ]
  },
  {
   "cell_type": "code",
   "execution_count": 45,
   "metadata": {},
   "outputs": [],
   "source": [
    "def generate_wc (category: str):\n",
    "    adjs = \"\"\n",
    "    \n",
    "    for i in dataset[dataset.product_category == category][\"adjectives\"]:\n",
    "        adjs += \" \".join(i) + \" \"\n",
    "        \n",
    "    if len(adjs) > 0:\n",
    "        wc = WordCloud(background_color=\"white\")\n",
    "        wc.generate(adjs)\n",
    "        plt.imshow(wc)\n",
    "        plt.axis(\"off\")\n",
    "        plt.show()"
   ]
  },
  {
   "cell_type": "code",
   "execution_count": 46,
   "metadata": {},
   "outputs": [
    {
     "data": {
      "image/png": "[encoded data removed]",
      "text/plain": [
       "<Figure size 640x480 with 1 Axes>"
      ]
     },
     "metadata": {},
     "output_type": "display_data"
    }
   ],
   "source": [
    "generate_wc(\"Bottoms\")"
   ]
  },
  {
   "cell_type": "code",
   "execution_count": 47,
   "metadata": {},
   "outputs": [],
   "source": [
    "sia = SentimentIntensityAnalyzer()"
   ]
  },
  {
   "cell_type": "code",
   "execution_count": 48,
   "metadata": {},
   "outputs": [
    {
     "data": {
      "text/plain": [
       "{'neg': 0.591, 'neu': 0.409, 'pos': 0.0, 'compound': -0.6976}"
      ]
     },
     "execution_count": 48,
     "metadata": {},
     "output_type": "execute_result"
    }
   ],
   "source": [
    "sia.polarity_scores(\"This class was very boring :(\")"
   ]
  },
  {
   "cell_type": "code",
   "execution_count": 49,
   "metadata": {},
   "outputs": [],
   "source": [
    "def polarity_scores(review: str):\n",
    "    scores = sia.polarity_scores(review)\n",
    "    \n",
    "    compound = scores[\"compound\"]\n",
    "    \n",
    "    if compound > 0.5:\n",
    "        return \"Positive\"\n",
    "    elif compound < -.5:\n",
    "        return \"Negative\"\n",
    "    else:\n",
    "        return \"Neutral\""
   ]
  },
  {
   "cell_type": "code",
   "execution_count": 50,
   "metadata": {},
   "outputs": [],
   "source": [
    "dataset[\"sentiment\"] = dataset.product_review_cleaned.apply(polarity_scores)"
   ]
  },
  {
   "cell_type": "code",
   "execution_count": 51,
   "metadata": {},
   "outputs": [
    {
     "data": {
      "text/html": [
       "<div>\n",
       "<style scoped>\n",
       "    .dataframe tbody tr th:only-of-type {\n",
       "        vertical-align: middle;\n",
       "    }\n",
       "\n",
       "    .dataframe tbody tr th {\n",
       "        vertical-align: top;\n",
       "    }\n",
       "\n",
       "    .dataframe thead th {\n",
       "        text-align: right;\n",
       "    }\n",
       "</style>\n",
       "<table border=\"1\" class=\"dataframe\">\n",
       "  <thead>\n",
       "    <tr style=\"text-align: right;\">\n",
       "      <th></th>\n",
       "      <th>product_review</th>\n",
       "      <th>product_category</th>\n",
       "      <th>product_review_tokens</th>\n",
       "      <th>product_review_tokens_cleaned</th>\n",
       "      <th>product_review_cleaned</th>\n",
       "      <th>tokens_pos_tag</th>\n",
       "      <th>adjectives</th>\n",
       "      <th>sentiment</th>\n",
       "    </tr>\n",
       "  </thead>\n",
       "  <tbody>\n",
       "    <tr>\n",
       "      <th>0</th>\n",
       "      <td>i love love love this jumpsuit it s fun flirty...</td>\n",
       "      <td>Bottoms</td>\n",
       "      <td>[i, love, love, love, this, jumpsuit, it, s, f...</td>\n",
       "      <td>[love, love, love, jumpsuit, fun, flirty, fabu...</td>\n",
       "      <td>love love love jumpsuit fun flirty fabulous ev...</td>\n",
       "      <td>[(i, NN), (love, VBP), (love, NN), (love, NN),...</td>\n",
       "      <td>[fun, fabulous, i, great]</td>\n",
       "      <td>Positive</td>\n",
       "    </tr>\n",
       "    <tr>\n",
       "      <th>1</th>\n",
       "      <td>beautifully made pants and on trend with the f...</td>\n",
       "      <td>Bottoms</td>\n",
       "      <td>[beautifully, made, pants, and, on, trend, wit...</td>\n",
       "      <td>[beautifully, made, pants, trend, flared, crop...</td>\n",
       "      <td>beautifully made pants trend flared crop much ...</td>\n",
       "      <td>[(beautifully, RB), (made, VBN), (pants, NNS),...</td>\n",
       "      <td>[flared, much]</td>\n",
       "      <td>Positive</td>\n",
       "    </tr>\n",
       "    <tr>\n",
       "      <th>2</th>\n",
       "      <td>i never would have given these pants a second ...</td>\n",
       "      <td>Bottoms</td>\n",
       "      <td>[i, never, would, have, given, these, pants, a...</td>\n",
       "      <td>[never, would, given, pants, second, look, onl...</td>\n",
       "      <td>never would given pants second look online per...</td>\n",
       "      <td>[(i, NN), (never, RB), (would, MD), (have, VB)...</td>\n",
       "      <td>[second, much, cuter, right, small, loose, navy]</td>\n",
       "      <td>Positive</td>\n",
       "    </tr>\n",
       "    <tr>\n",
       "      <th>3</th>\n",
       "      <td>these pants are even better in person the only...</td>\n",
       "      <td>Bottoms</td>\n",
       "      <td>[these, pants, are, even, better, in, person, ...</td>\n",
       "      <td>[pants, even, better, person, downside, need, ...</td>\n",
       "      <td>pants even better person downside need dry cle...</td>\n",
       "      <td>[(these, DT), (pants, NNS), (are, VBP), (even,...</td>\n",
       "      <td>[only, dry]</td>\n",
       "      <td>Neutral</td>\n",
       "    </tr>\n",
       "    <tr>\n",
       "      <th>4</th>\n",
       "      <td>the silhouette and length of this skirt and le...</td>\n",
       "      <td>Bottoms</td>\n",
       "      <td>[the, silhouette, and, length, of, this, skirt...</td>\n",
       "      <td>[silhouette, length, skirt, length, flattering...</td>\n",
       "      <td>silhouette length skirt length flattering clas...</td>\n",
       "      <td>[(the, DT), (silhouette, NN), (and, CC), (leng...</td>\n",
       "      <td>[classic, comfortable, worn, favorite, differe...</td>\n",
       "      <td>Positive</td>\n",
       "    </tr>\n",
       "  </tbody>\n",
       "</table>\n",
       "</div>"
      ],
      "text/plain": [
       "                                      product_review product_category  \\\n",
       "0  i love love love this jumpsuit it s fun flirty...          Bottoms   \n",
       "1  beautifully made pants and on trend with the f...          Bottoms   \n",
       "2  i never would have given these pants a second ...          Bottoms   \n",
       "3  these pants are even better in person the only...          Bottoms   \n",
       "4  the silhouette and length of this skirt and le...          Bottoms   \n",
       "\n",
       "                               product_review_tokens  \\\n",
       "0  [i, love, love, love, this, jumpsuit, it, s, f...   \n",
       "1  [beautifully, made, pants, and, on, trend, wit...   \n",
       "2  [i, never, would, have, given, these, pants, a...   \n",
       "3  [these, pants, are, even, better, in, person, ...   \n",
       "4  [the, silhouette, and, length, of, this, skirt...   \n",
       "\n",
       "                       product_review_tokens_cleaned  \\\n",
       "0  [love, love, love, jumpsuit, fun, flirty, fabu...   \n",
       "1  [beautifully, made, pants, trend, flared, crop...   \n",
       "2  [never, would, given, pants, second, look, onl...   \n",
       "3  [pants, even, better, person, downside, need, ...   \n",
       "4  [silhouette, length, skirt, length, flattering...   \n",
       "\n",
       "                              product_review_cleaned  \\\n",
       "0  love love love jumpsuit fun flirty fabulous ev...   \n",
       "1  beautifully made pants trend flared crop much ...   \n",
       "2  never would given pants second look online per...   \n",
       "3  pants even better person downside need dry cle...   \n",
       "4  silhouette length skirt length flattering clas...   \n",
       "\n",
       "                                      tokens_pos_tag  \\\n",
       "0  [(i, NN), (love, VBP), (love, NN), (love, NN),...   \n",
       "1  [(beautifully, RB), (made, VBN), (pants, NNS),...   \n",
       "2  [(i, NN), (never, RB), (would, MD), (have, VB)...   \n",
       "3  [(these, DT), (pants, NNS), (are, VBP), (even,...   \n",
       "4  [(the, DT), (silhouette, NN), (and, CC), (leng...   \n",
       "\n",
       "                                          adjectives sentiment  \n",
       "0                          [fun, fabulous, i, great]  Positive  \n",
       "1                                     [flared, much]  Positive  \n",
       "2   [second, much, cuter, right, small, loose, navy]  Positive  \n",
       "3                                        [only, dry]   Neutral  \n",
       "4  [classic, comfortable, worn, favorite, differe...  Positive  "
      ]
     },
     "execution_count": 51,
     "metadata": {},
     "output_type": "execute_result"
    }
   ],
   "source": [
    "dataset.head()"
   ]
  },
  {
   "cell_type": "code",
   "execution_count": 52,
   "metadata": {},
   "outputs": [
    {
     "data": {
      "text/plain": [
       "sentiment\n",
       "Positive    2994\n",
       "Neutral      347\n",
       "Negative      35\n",
       "Name: count, dtype: int64"
      ]
     },
     "execution_count": 52,
     "metadata": {},
     "output_type": "execute_result"
    }
   ],
   "source": [
    "dataset.sentiment.value_counts()"
   ]
  },
  {
   "cell_type": "code",
   "execution_count": 53,
   "metadata": {},
   "outputs": [
    {
     "data": {
      "text/html": [
       "<div>\n",
       "<style scoped>\n",
       "    .dataframe tbody tr th:only-of-type {\n",
       "        vertical-align: middle;\n",
       "    }\n",
       "\n",
       "    .dataframe tbody tr th {\n",
       "        vertical-align: top;\n",
       "    }\n",
       "\n",
       "    .dataframe thead th {\n",
       "        text-align: right;\n",
       "    }\n",
       "</style>\n",
       "<table border=\"1\" class=\"dataframe\">\n",
       "  <thead>\n",
       "    <tr style=\"text-align: right;\">\n",
       "      <th></th>\n",
       "      <th>product_category</th>\n",
       "      <th>sentiment</th>\n",
       "      <th>counts</th>\n",
       "    </tr>\n",
       "  </thead>\n",
       "  <tbody>\n",
       "    <tr>\n",
       "      <th>0</th>\n",
       "      <td>Bottoms</td>\n",
       "      <td>Neutral</td>\n",
       "      <td>28</td>\n",
       "    </tr>\n",
       "    <tr>\n",
       "      <th>1</th>\n",
       "      <td>Bottoms</td>\n",
       "      <td>Positive</td>\n",
       "      <td>657</td>\n",
       "    </tr>\n",
       "    <tr>\n",
       "      <th>2</th>\n",
       "      <td>Dresses</td>\n",
       "      <td>Negative</td>\n",
       "      <td>33</td>\n",
       "    </tr>\n",
       "    <tr>\n",
       "      <th>3</th>\n",
       "      <td>Dresses</td>\n",
       "      <td>Neutral</td>\n",
       "      <td>194</td>\n",
       "    </tr>\n",
       "    <tr>\n",
       "      <th>4</th>\n",
       "      <td>Dresses</td>\n",
       "      <td>Positive</td>\n",
       "      <td>454</td>\n",
       "    </tr>\n",
       "    <tr>\n",
       "      <th>5</th>\n",
       "      <td>Intimate</td>\n",
       "      <td>Negative</td>\n",
       "      <td>1</td>\n",
       "    </tr>\n",
       "    <tr>\n",
       "      <th>6</th>\n",
       "      <td>Intimate</td>\n",
       "      <td>Neutral</td>\n",
       "      <td>71</td>\n",
       "    </tr>\n",
       "    <tr>\n",
       "      <th>7</th>\n",
       "      <td>Intimate</td>\n",
       "      <td>Positive</td>\n",
       "      <td>578</td>\n",
       "    </tr>\n",
       "    <tr>\n",
       "      <th>8</th>\n",
       "      <td>Jackets</td>\n",
       "      <td>Neutral</td>\n",
       "      <td>31</td>\n",
       "    </tr>\n",
       "    <tr>\n",
       "      <th>9</th>\n",
       "      <td>Jackets</td>\n",
       "      <td>Positive</td>\n",
       "      <td>649</td>\n",
       "    </tr>\n",
       "    <tr>\n",
       "      <th>10</th>\n",
       "      <td>Tops</td>\n",
       "      <td>Negative</td>\n",
       "      <td>1</td>\n",
       "    </tr>\n",
       "    <tr>\n",
       "      <th>11</th>\n",
       "      <td>Tops</td>\n",
       "      <td>Neutral</td>\n",
       "      <td>23</td>\n",
       "    </tr>\n",
       "    <tr>\n",
       "      <th>12</th>\n",
       "      <td>Tops</td>\n",
       "      <td>Positive</td>\n",
       "      <td>656</td>\n",
       "    </tr>\n",
       "  </tbody>\n",
       "</table>\n",
       "</div>"
      ],
      "text/plain": [
       "   product_category sentiment  counts\n",
       "0           Bottoms   Neutral      28\n",
       "1           Bottoms  Positive     657\n",
       "2           Dresses  Negative      33\n",
       "3           Dresses   Neutral     194\n",
       "4           Dresses  Positive     454\n",
       "5          Intimate  Negative       1\n",
       "6          Intimate   Neutral      71\n",
       "7          Intimate  Positive     578\n",
       "8           Jackets   Neutral      31\n",
       "9           Jackets  Positive     649\n",
       "10             Tops  Negative       1\n",
       "11             Tops   Neutral      23\n",
       "12             Tops  Positive     656"
      ]
     },
     "execution_count": 53,
     "metadata": {},
     "output_type": "execute_result"
    }
   ],
   "source": [
    "df = dataset.groupby([\"product_category\",\"sentiment\"]).size().reset_index(name = \"counts\")\n",
    "df"
   ]
  },
  {
   "cell_type": "code",
   "execution_count": 54,
   "metadata": {},
   "outputs": [
    {
     "data": {
      "image/png": "[encoded data removed]",
      "text/plain": [
       "<Figure size 640x480 with 1 Axes>"
      ]
     },
     "metadata": {},
     "output_type": "display_data"
    }
   ],
   "source": [
    "plt.plot(df.product_category, df.counts, \"r^\")\n",
    "plt.show()"
   ]
  },
  {
   "cell_type": "code",
   "execution_count": 55,
   "metadata": {},
   "outputs": [],
   "source": [
    "import plotly.express as px"
   ]
  },
  {
   "cell_type": "code",
   "execution_count": 58,
   "metadata": {},
   "outputs": [
    {
     "ename": "ValueError",
     "evalue": "Mime type rendering requires nbformat>=4.2.0 but it is not installed",
     "output_type": "error",
     "traceback": [
      "\u001b[1;31m---------------------------------------------------------------------------\u001b[0m",
      "\u001b[1;31mValueError\u001b[0m                                Traceback (most recent call last)",
      "File \u001b[1;32m~\\AppData\\Roaming\\Python\\Python312\\site-packages\\IPython\\core\\formatters.py:925\u001b[0m, in \u001b[0;36mIPythonDisplayFormatter.__call__\u001b[1;34m(self, obj)\u001b[0m\n\u001b[0;32m    923\u001b[0m method \u001b[38;5;241m=\u001b[39m get_real_method(obj, \u001b[38;5;28mself\u001b[39m\u001b[38;5;241m.\u001b[39mprint_method)\n\u001b[0;32m    924\u001b[0m \u001b[38;5;28;01mif\u001b[39;00m method \u001b[38;5;129;01mis\u001b[39;00m \u001b[38;5;129;01mnot\u001b[39;00m \u001b[38;5;28;01mNone\u001b[39;00m:\n\u001b[1;32m--> 925\u001b[0m     \u001b[43mmethod\u001b[49m\u001b[43m(\u001b[49m\u001b[43m)\u001b[49m\n\u001b[0;32m    926\u001b[0m     \u001b[38;5;28;01mreturn\u001b[39;00m \u001b[38;5;28;01mTrue\u001b[39;00m\n",
      "File \u001b[1;32mc:\\Python312\\Lib\\site-packages\\plotly\\basedatatypes.py:832\u001b[0m, in \u001b[0;36mBaseFigure._ipython_display_\u001b[1;34m(self)\u001b[0m\n\u001b[0;32m    829\u001b[0m \u001b[38;5;28;01mimport\u001b[39;00m \u001b[38;5;21;01mplotly\u001b[39;00m\u001b[38;5;21;01m.\u001b[39;00m\u001b[38;5;21;01mio\u001b[39;00m \u001b[38;5;28;01mas\u001b[39;00m \u001b[38;5;21;01mpio\u001b[39;00m\n\u001b[0;32m    831\u001b[0m \u001b[38;5;28;01mif\u001b[39;00m pio\u001b[38;5;241m.\u001b[39mrenderers\u001b[38;5;241m.\u001b[39mrender_on_display \u001b[38;5;129;01mand\u001b[39;00m pio\u001b[38;5;241m.\u001b[39mrenderers\u001b[38;5;241m.\u001b[39mdefault:\n\u001b[1;32m--> 832\u001b[0m     \u001b[43mpio\u001b[49m\u001b[38;5;241;43m.\u001b[39;49m\u001b[43mshow\u001b[49m\u001b[43m(\u001b[49m\u001b[38;5;28;43mself\u001b[39;49m\u001b[43m)\u001b[49m\n\u001b[0;32m    833\u001b[0m \u001b[38;5;28;01melse\u001b[39;00m:\n\u001b[0;32m    834\u001b[0m     \u001b[38;5;28mprint\u001b[39m(\u001b[38;5;28mrepr\u001b[39m(\u001b[38;5;28mself\u001b[39m))\n",
      "File \u001b[1;32mc:\\Python312\\Lib\\site-packages\\plotly\\io\\_renderers.py:394\u001b[0m, in \u001b[0;36mshow\u001b[1;34m(fig, renderer, validate, **kwargs)\u001b[0m\n\u001b[0;32m    389\u001b[0m         \u001b[38;5;28;01mraise\u001b[39;00m \u001b[38;5;167;01mValueError\u001b[39;00m(\n\u001b[0;32m    390\u001b[0m             \u001b[38;5;124m\"\u001b[39m\u001b[38;5;124mMime type rendering requires ipython but it is not installed\u001b[39m\u001b[38;5;124m\"\u001b[39m\n\u001b[0;32m    391\u001b[0m         )\n\u001b[0;32m    393\u001b[0m     \u001b[38;5;28;01mif\u001b[39;00m \u001b[38;5;129;01mnot\u001b[39;00m nbformat \u001b[38;5;129;01mor\u001b[39;00m Version(nbformat\u001b[38;5;241m.\u001b[39m__version__) \u001b[38;5;241m<\u001b[39m Version(\u001b[38;5;124m\"\u001b[39m\u001b[38;5;124m4.2.0\u001b[39m\u001b[38;5;124m\"\u001b[39m):\n\u001b[1;32m--> 394\u001b[0m         \u001b[38;5;28;01mraise\u001b[39;00m \u001b[38;5;167;01mValueError\u001b[39;00m(\n\u001b[0;32m    395\u001b[0m             \u001b[38;5;124m\"\u001b[39m\u001b[38;5;124mMime type rendering requires nbformat>=4.2.0 but it is not installed\u001b[39m\u001b[38;5;124m\"\u001b[39m\n\u001b[0;32m    396\u001b[0m         )\n\u001b[0;32m    398\u001b[0m     ipython_display\u001b[38;5;241m.\u001b[39mdisplay(bundle, raw\u001b[38;5;241m=\u001b[39m\u001b[38;5;28;01mTrue\u001b[39;00m)\n\u001b[0;32m    400\u001b[0m \u001b[38;5;66;03m# external renderers\u001b[39;00m\n",
      "\u001b[1;31mValueError\u001b[0m: Mime type rendering requires nbformat>=4.2.0 but it is not installed"
     ]
    },
    {
     "data": {
      "application/vnd.plotly.v1+json": {
       "config": {
        "plotlyServerURL": "https://plot.ly"
       },
       "data": [
        {
         "alignmentgroup": "True",
         "hovertemplate": "sentiment=Neutral<br>product_category=%{x}<br>counts=%{y}<extra></extra>",
         "legendgroup": "Neutral",
         "marker": {
          "color": "#636efa",
          "pattern": {
           "shape": ""
          }
         },
         "name": "Neutral",
         "offsetgroup": "Neutral",
         "orientation": "v",
         "showlegend": true,
         "textposition": "auto",
         "type": "bar",
         "x": [
          "Bottoms",
          "Dresses",
          "Intimate",
          "Jackets",
          "Tops"
         ],
         "xaxis": "x",
         "y": [
          28,
          194,
          71,
          31,
          23
         ],
         "yaxis": "y"
        },
        {
         "alignmentgroup": "True",
         "hovertemplate": "sentiment=Positive<br>product_category=%{x}<br>counts=%{y}<extra></extra>",
         "legendgroup": "Positive",
         "marker": {
          "color": "#EF553B",
          "pattern": {
           "shape": ""
          }
         },
         "name": "Positive",
         "offsetgroup": "Positive",
         "orientation": "v",
         "showlegend": true,
         "textposition": "auto",
         "type": "bar",
         "x": [
          "Bottoms",
          "Dresses",
          "Intimate",
          "Jackets",
          "Tops"
         ],
         "xaxis": "x",
         "y": [
          657,
          454,
          578,
          649,
          656
         ],
         "yaxis": "y"
        },
        {
         "alignmentgroup": "True",
         "hovertemplate": "sentiment=Negative<br>product_category=%{x}<br>counts=%{y}<extra></extra>",
         "legendgroup": "Negative",
         "marker": {
          "color": "#00cc96",
          "pattern": {
           "shape": ""
          }
         },
         "name": "Negative",
         "offsetgroup": "Negative",
         "orientation": "v",
         "showlegend": true,
         "textposition": "auto",
         "type": "bar",
         "x": [
          "Dresses",
          "Intimate",
          "Tops"
         ],
         "xaxis": "x",
         "y": [
          33,
          1,
          1
         ],
         "yaxis": "y"
        }
       ],
       "layout": {
        "barmode": "group",
        "legend": {
         "title": {
          "text": "sentiment"
         },
         "tracegroupgap": 0
        },
        "margin": {
         "t": 60
        },
        "template": {
         "data": {
          "bar": [
           {
            "error_x": {
             "color": "#2a3f5f"
            },
            "error_y": {
             "color": "#2a3f5f"
            },
            "marker": {
             "line": {
              "color": "#E5ECF6",
              "width": 0.5
             },
             "pattern": {
              "fillmode": "overlay",
              "size": 10,
              "solidity": 0.2
             }
            },
            "type": "bar"
           }
          ],
          "barpolar": [
           {
            "marker": {
             "line": {
              "color": "#E5ECF6",
              "width": 0.5
             },
             "pattern": {
              "fillmode": "overlay",
              "size": 10,
              "solidity": 0.2
             }
            },
            "type": "barpolar"
           }
          ],
          "carpet": [
           {
            "aaxis": {
             "endlinecolor": "#2a3f5f",
             "gridcolor": "white",
             "linecolor": "white",
             "minorgridcolor": "white",
             "startlinecolor": "#2a3f5f"
            },
            "baxis": {
             "endlinecolor": "#2a3f5f",
             "gridcolor": "white",
             "linecolor": "white",
             "minorgridcolor": "white",
             "startlinecolor": "#2a3f5f"
            },
            "type": "carpet"
           }
          ],
          "choropleth": [
           {
            "colorbar": {
             "outlinewidth": 0,
             "ticks": ""
            },
            "type": "choropleth"
           }
          ],
          "contour": [
           {
            "colorbar": {
             "outlinewidth": 0,
             "ticks": ""
            },
            "colorscale": [
             [
              0,
              "#0d0887"
             ],
             [
              0.1111111111111111,
              "#46039f"
             ],
             [
              0.2222222222222222,
              "#7201a8"
             ],
             [
              0.3333333333333333,
              "#9c179e"
             ],
             [
              0.4444444444444444,
              "#bd3786"
             ],
             [
              0.5555555555555556,
              "#d8576b"
             ],
             [
              0.6666666666666666,
              "#ed7953"
             ],
             [
              0.7777777777777778,
              "#fb9f3a"
             ],
             [
              0.8888888888888888,
              "#fdca26"
             ],
             [
              1,
              "#f0f921"
             ]
            ],
            "type": "contour"
           }
          ],
          "contourcarpet": [
           {
            "colorbar": {
             "outlinewidth": 0,
             "ticks": ""
            },
            "type": "contourcarpet"
           }
          ],
          "heatmap": [
           {
            "colorbar": {
             "outlinewidth": 0,
             "ticks": ""
            },
            "colorscale": [
             [
              0,
              "#0d0887"
             ],
             [
              0.1111111111111111,
              "#46039f"
             ],
             [
              0.2222222222222222,
              "#7201a8"
             ],
             [
              0.3333333333333333,
              "#9c179e"
             ],
             [
              0.4444444444444444,
              "#bd3786"
             ],
             [
              0.5555555555555556,
              "#d8576b"
             ],
             [
              0.6666666666666666,
              "#ed7953"
             ],
             [
              0.7777777777777778,
              "#fb9f3a"
             ],
             [
              0.8888888888888888,
              "#fdca26"
             ],
             [
              1,
              "#f0f921"
             ]
            ],
            "type": "heatmap"
           }
          ],
          "heatmapgl": [
           {
            "colorbar": {
             "outlinewidth": 0,
             "ticks": ""
            },
            "colorscale": [
             [
              0,
              "#0d0887"
             ],
             [
              0.1111111111111111,
              "#46039f"
             ],
             [
              0.2222222222222222,
              "#7201a8"
             ],
             [
              0.3333333333333333,
              "#9c179e"
             ],
             [
              0.4444444444444444,
              "#bd3786"
             ],
             [
              0.5555555555555556,
              "#d8576b"
             ],
             [
              0.6666666666666666,
              "#ed7953"
             ],
             [
              0.7777777777777778,
              "#fb9f3a"
             ],
             [
              0.8888888888888888,
              "#fdca26"
             ],
             [
              1,
              "#f0f921"
             ]
            ],
            "type": "heatmapgl"
           }
          ],
          "histogram": [
           {
            "marker": {
             "pattern": {
              "fillmode": "overlay",
              "size": 10,
              "solidity": 0.2
             }
            },
            "type": "histogram"
           }
          ],
          "histogram2d": [
           {
            "colorbar": {
             "outlinewidth": 0,
             "ticks": ""
            },
            "colorscale": [
             [
              0,
              "#0d0887"
             ],
             [
              0.1111111111111111,
              "#46039f"
             ],
             [
              0.2222222222222222,
              "#7201a8"
             ],
             [
              0.3333333333333333,
              "#9c179e"
             ],
             [
              0.4444444444444444,
              "#bd3786"
             ],
             [
              0.5555555555555556,
              "#d8576b"
             ],
             [
              0.6666666666666666,
              "#ed7953"
             ],
             [
              0.7777777777777778,
              "#fb9f3a"
             ],
             [
              0.8888888888888888,
              "#fdca26"
             ],
             [
              1,
              "#f0f921"
             ]
            ],
            "type": "histogram2d"
           }
          ],
          "histogram2dcontour": [
           {
            "colorbar": {
             "outlinewidth": 0,
             "ticks": ""
            },
            "colorscale": [
             [
              0,
              "#0d0887"
             ],
             [
              0.1111111111111111,
              "#46039f"
             ],
             [
              0.2222222222222222,
              "#7201a8"
             ],
             [
              0.3333333333333333,
              "#9c179e"
             ],
             [
              0.4444444444444444,
              "#bd3786"
             ],
             [
              0.5555555555555556,
              "#d8576b"
             ],
             [
              0.6666666666666666,
              "#ed7953"
             ],
             [
              0.7777777777777778,
              "#fb9f3a"
             ],
             [
              0.8888888888888888,
              "#fdca26"
             ],
             [
              1,
              "#f0f921"
             ]
            ],
            "type": "histogram2dcontour"
           }
          ],
          "mesh3d": [
           {
            "colorbar": {
             "outlinewidth": 0,
             "ticks": ""
            },
            "type": "mesh3d"
           }
          ],
          "parcoords": [
           {
            "line": {
             "colorbar": {
              "outlinewidth": 0,
              "ticks": ""
             }
            },
            "type": "parcoords"
           }
          ],
          "pie": [
           {
            "automargin": true,
            "type": "pie"
           }
          ],
          "scatter": [
           {
            "fillpattern": {
             "fillmode": "overlay",
             "size": 10,
             "solidity": 0.2
            },
            "type": "scatter"
           }
          ],
          "scatter3d": [
           {
            "line": {
             "colorbar": {
              "outlinewidth": 0,
              "ticks": ""
             }
            },
            "marker": {
             "colorbar": {
              "outlinewidth": 0,
              "ticks": ""
             }
            },
            "type": "scatter3d"
           }
          ],
          "scattercarpet": [
           {
            "marker": {
             "colorbar": {
              "outlinewidth": 0,
              "ticks": ""
             }
            },
            "type": "scattercarpet"
           }
          ],
          "scattergeo": [
           {
            "marker": {
             "colorbar": {
              "outlinewidth": 0,
              "ticks": ""
             }
            },
            "type": "scattergeo"
           }
          ],
          "scattergl": [
           {
            "marker": {
             "colorbar": {
              "outlinewidth": 0,
              "ticks": ""
             }
            },
            "type": "scattergl"
           }
          ],
          "scattermapbox": [
           {
            "marker": {
             "colorbar": {
              "outlinewidth": 0,
              "ticks": ""
             }
            },
            "type": "scattermapbox"
           }
          ],
          "scatterpolar": [
           {
            "marker": {
             "colorbar": {
              "outlinewidth": 0,
              "ticks": ""
             }
            },
            "type": "scatterpolar"
           }
          ],
          "scatterpolargl": [
           {
            "marker": {
             "colorbar": {
              "outlinewidth": 0,
              "ticks": ""
             }
            },
            "type": "scatterpolargl"
           }
          ],
          "scatterternary": [
           {
            "marker": {
             "colorbar": {
              "outlinewidth": 0,
              "ticks": ""
             }
            },
            "type": "scatterternary"
           }
          ],
          "surface": [
           {
            "colorbar": {
             "outlinewidth": 0,
             "ticks": ""
            },
            "colorscale": [
             [
              0,
              "#0d0887"
             ],
             [
              0.1111111111111111,
              "#46039f"
             ],
             [
              0.2222222222222222,
              "#7201a8"
             ],
             [
              0.3333333333333333,
              "#9c179e"
             ],
             [
              0.4444444444444444,
              "#bd3786"
             ],
             [
              0.5555555555555556,
              "#d8576b"
             ],
             [
              0.6666666666666666,
              "#ed7953"
             ],
             [
              0.7777777777777778,
              "#fb9f3a"
             ],
             [
              0.8888888888888888,
              "#fdca26"
             ],
             [
              1,
              "#f0f921"
             ]
            ],
            "type": "surface"
           }
          ],
          "table": [
           {
            "cells": {
             "fill": {
              "color": "#EBF0F8"
             },
             "line": {
              "color": "white"
             }
            },
            "header": {
             "fill": {
              "color": "#C8D4E3"
             },
             "line": {
              "color": "white"
             }
            },
            "type": "table"
           }
          ]
         },
         "layout": {
          "annotationdefaults": {
           "arrowcolor": "#2a3f5f",
           "arrowhead": 0,
           "arrowwidth": 1
          },
          "autotypenumbers": "strict",
          "coloraxis": {
           "colorbar": {
            "outlinewidth": 0,
            "ticks": ""
           }
          },
          "colorscale": {
           "diverging": [
            [
             0,
             "#8e0152"
            ],
            [
             0.1,
             "#c51b7d"
            ],
            [
             0.2,
             "#de77ae"
            ],
            [
             0.3,
             "#f1b6da"
            ],
            [
             0.4,
             "#fde0ef"
            ],
            [
             0.5,
             "#f7f7f7"
            ],
            [
             0.6,
             "#e6f5d0"
            ],
            [
             0.7,
             "#b8e186"
            ],
            [
             0.8,
             "#7fbc41"
            ],
            [
             0.9,
             "#4d9221"
            ],
            [
             1,
             "#276419"
            ]
           ],
           "sequential": [
            [
             0,
             "#0d0887"
            ],
            [
             0.1111111111111111,
             "#46039f"
            ],
            [
             0.2222222222222222,
             "#7201a8"
            ],
            [
             0.3333333333333333,
             "#9c179e"
            ],
            [
             0.4444444444444444,
             "#bd3786"
            ],
            [
             0.5555555555555556,
             "#d8576b"
            ],
            [
             0.6666666666666666,
             "#ed7953"
            ],
            [
             0.7777777777777778,
             "#fb9f3a"
            ],
            [
             0.8888888888888888,
             "#fdca26"
            ],
            [
             1,
             "#f0f921"
            ]
           ],
           "sequentialminus": [
            [
             0,
             "#0d0887"
            ],
            [
             0.1111111111111111,
             "#46039f"
            ],
            [
             0.2222222222222222,
             "#7201a8"
            ],
            [
             0.3333333333333333,
             "#9c179e"
            ],
            [
             0.4444444444444444,
             "#bd3786"
            ],
            [
             0.5555555555555556,
             "#d8576b"
            ],
            [
             0.6666666666666666,
             "#ed7953"
            ],
            [
             0.7777777777777778,
             "#fb9f3a"
            ],
            [
             0.8888888888888888,
             "#fdca26"
            ],
            [
             1,
             "#f0f921"
            ]
           ]
          },
          "colorway": [
           "#636efa",
           "#EF553B",
           "#00cc96",
           "#ab63fa",
           "#FFA15A",
           "#19d3f3",
           "#FF6692",
           "#B6E880",
           "#FF97FF",
           "#FECB52"
          ],
          "font": {
           "color": "#2a3f5f"
          },
          "geo": {
           "bgcolor": "white",
           "lakecolor": "white",
           "landcolor": "#E5ECF6",
           "showlakes": true,
           "showland": true,
           "subunitcolor": "white"
          },
          "hoverlabel": {
           "align": "left"
          },
          "hovermode": "closest",
          "mapbox": {
           "style": "light"
          },
          "paper_bgcolor": "white",
          "plot_bgcolor": "#E5ECF6",
          "polar": {
           "angularaxis": {
            "gridcolor": "white",
            "linecolor": "white",
            "ticks": ""
           },
           "bgcolor": "#E5ECF6",
           "radialaxis": {
            "gridcolor": "white",
            "linecolor": "white",
            "ticks": ""
           }
          },
          "scene": {
           "xaxis": {
            "backgroundcolor": "#E5ECF6",
            "gridcolor": "white",
            "gridwidth": 2,
            "linecolor": "white",
            "showbackground": true,
            "ticks": "",
            "zerolinecolor": "white"
           },
           "yaxis": {
            "backgroundcolor": "#E5ECF6",
            "gridcolor": "white",
            "gridwidth": 2,
            "linecolor": "white",
            "showbackground": true,
            "ticks": "",
            "zerolinecolor": "white"
           },
           "zaxis": {
            "backgroundcolor": "#E5ECF6",
            "gridcolor": "white",
            "gridwidth": 2,
            "linecolor": "white",
            "showbackground": true,
            "ticks": "",
            "zerolinecolor": "white"
           }
          },
          "shapedefaults": {
           "line": {
            "color": "#2a3f5f"
           }
          },
          "ternary": {
           "aaxis": {
            "gridcolor": "white",
            "linecolor": "white",
            "ticks": ""
           },
           "baxis": {
            "gridcolor": "white",
            "linecolor": "white",
            "ticks": ""
           },
           "bgcolor": "#E5ECF6",
           "caxis": {
            "gridcolor": "white",
            "linecolor": "white",
            "ticks": ""
           }
          },
          "title": {
           "x": 0.05
          },
          "xaxis": {
           "automargin": true,
           "gridcolor": "white",
           "linecolor": "white",
           "ticks": "",
           "title": {
            "standoff": 15
           },
           "zerolinecolor": "white",
           "zerolinewidth": 2
          },
          "yaxis": {
           "automargin": true,
           "gridcolor": "white",
           "linecolor": "white",
           "ticks": "",
           "title": {
            "standoff": 15
           },
           "zerolinecolor": "white",
           "zerolinewidth": 2
          }
         }
        },
        "xaxis": {
         "anchor": "y",
         "domain": [
          0,
          1
         ],
         "title": {
          "text": "product_category"
         }
        },
        "yaxis": {
         "anchor": "x",
         "domain": [
          0,
          1
         ],
         "title": {
          "text": "counts"
         }
        }
       }
      },
      "text/html": [
       "<div>                        <script type=\"text/javascript\">window.PlotlyConfig = {MathJaxConfig: 'local'};</script>\n",
       "        <script charset=\"utf-8\" src=\"https://cdn.plot.ly/plotly-2.35.2.min.js\"></script>                <div id=\"3a95cdcb-be6b-4958-a158-935f61486cc0\" class=\"plotly-graph-div\" style=\"height:100%; width:100%;\"></div>            <script type=\"text/javascript\">                                    window.PLOTLYENV=window.PLOTLYENV || {};                                    if (document.getElementById(\"3a95cdcb-be6b-4958-a158-935f61486cc0\")) {                    Plotly.newPlot(                        \"3a95cdcb-be6b-4958-a158-935f61486cc0\",                        [{\"alignmentgroup\":\"True\",\"hovertemplate\":\"sentiment=Neutral\\u003cbr\\u003eproduct_category=%{x}\\u003cbr\\u003ecounts=%{y}\\u003cextra\\u003e\\u003c\\u002fextra\\u003e\",\"legendgroup\":\"Neutral\",\"marker\":{\"color\":\"#636efa\",\"pattern\":{\"shape\":\"\"}},\"name\":\"Neutral\",\"offsetgroup\":\"Neutral\",\"orientation\":\"v\",\"showlegend\":true,\"textposition\":\"auto\",\"x\":[\"Bottoms\",\"Dresses\",\"Intimate\",\"Jackets\",\"Tops\"],\"xaxis\":\"x\",\"y\":[28,194,71,31,23],\"yaxis\":\"y\",\"type\":\"bar\"},{\"alignmentgroup\":\"True\",\"hovertemplate\":\"sentiment=Positive\\u003cbr\\u003eproduct_category=%{x}\\u003cbr\\u003ecounts=%{y}\\u003cextra\\u003e\\u003c\\u002fextra\\u003e\",\"legendgroup\":\"Positive\",\"marker\":{\"color\":\"#EF553B\",\"pattern\":{\"shape\":\"\"}},\"name\":\"Positive\",\"offsetgroup\":\"Positive\",\"orientation\":\"v\",\"showlegend\":true,\"textposition\":\"auto\",\"x\":[\"Bottoms\",\"Dresses\",\"Intimate\",\"Jackets\",\"Tops\"],\"xaxis\":\"x\",\"y\":[657,454,578,649,656],\"yaxis\":\"y\",\"type\":\"bar\"},{\"alignmentgroup\":\"True\",\"hovertemplate\":\"sentiment=Negative\\u003cbr\\u003eproduct_category=%{x}\\u003cbr\\u003ecounts=%{y}\\u003cextra\\u003e\\u003c\\u002fextra\\u003e\",\"legendgroup\":\"Negative\",\"marker\":{\"color\":\"#00cc96\",\"pattern\":{\"shape\":\"\"}},\"name\":\"Negative\",\"offsetgroup\":\"Negative\",\"orientation\":\"v\",\"showlegend\":true,\"textposition\":\"auto\",\"x\":[\"Dresses\",\"Intimate\",\"Tops\"],\"xaxis\":\"x\",\"y\":[33,1,1],\"yaxis\":\"y\",\"type\":\"bar\"}],                        {\"template\":{\"data\":{\"histogram2dcontour\":[{\"type\":\"histogram2dcontour\",\"colorbar\":{\"outlinewidth\":0,\"ticks\":\"\"},\"colorscale\":[[0.0,\"#0d0887\"],[0.1111111111111111,\"#46039f\"],[0.2222222222222222,\"#7201a8\"],[0.3333333333333333,\"#9c179e\"],[0.4444444444444444,\"#bd3786\"],[0.5555555555555556,\"#d8576b\"],[0.6666666666666666,\"#ed7953\"],[0.7777777777777778,\"#fb9f3a\"],[0.8888888888888888,\"#fdca26\"],[1.0,\"#f0f921\"]]}],\"choropleth\":[{\"type\":\"choropleth\",\"colorbar\":{\"outlinewidth\":0,\"ticks\":\"\"}}],\"histogram2d\":[{\"type\":\"histogram2d\",\"colorbar\":{\"outlinewidth\":0,\"ticks\":\"\"},\"colorscale\":[[0.0,\"#0d0887\"],[0.1111111111111111,\"#46039f\"],[0.2222222222222222,\"#7201a8\"],[0.3333333333333333,\"#9c179e\"],[0.4444444444444444,\"#bd3786\"],[0.5555555555555556,\"#d8576b\"],[0.6666666666666666,\"#ed7953\"],[0.7777777777777778,\"#fb9f3a\"],[0.8888888888888888,\"#fdca26\"],[1.0,\"#f0f921\"]]}],\"heatmap\":[{\"type\":\"heatmap\",\"colorbar\":{\"outlinewidth\":0,\"ticks\":\"\"},\"colorscale\":[[0.0,\"#0d0887\"],[0.1111111111111111,\"#46039f\"],[0.2222222222222222,\"#7201a8\"],[0.3333333333333333,\"#9c179e\"],[0.4444444444444444,\"#bd3786\"],[0.5555555555555556,\"#d8576b\"],[0.6666666666666666,\"#ed7953\"],[0.7777777777777778,\"#fb9f3a\"],[0.8888888888888888,\"#fdca26\"],[1.0,\"#f0f921\"]]}],\"heatmapgl\":[{\"type\":\"heatmapgl\",\"colorbar\":{\"outlinewidth\":0,\"ticks\":\"\"},\"colorscale\":[[0.0,\"#0d0887\"],[0.1111111111111111,\"#46039f\"],[0.2222222222222222,\"#7201a8\"],[0.3333333333333333,\"#9c179e\"],[0.4444444444444444,\"#bd3786\"],[0.5555555555555556,\"#d8576b\"],[0.6666666666666666,\"#ed7953\"],[0.7777777777777778,\"#fb9f3a\"],[0.8888888888888888,\"#fdca26\"],[1.0,\"#f0f921\"]]}],\"contourcarpet\":[{\"type\":\"contourcarpet\",\"colorbar\":{\"outlinewidth\":0,\"ticks\":\"\"}}],\"contour\":[{\"type\":\"contour\",\"colorbar\":{\"outlinewidth\":0,\"ticks\":\"\"},\"colorscale\":[[0.0,\"#0d0887\"],[0.1111111111111111,\"#46039f\"],[0.2222222222222222,\"#7201a8\"],[0.3333333333333333,\"#9c179e\"],[0.4444444444444444,\"#bd3786\"],[0.5555555555555556,\"#d8576b\"],[0.6666666666666666,\"#ed7953\"],[0.7777777777777778,\"#fb9f3a\"],[0.8888888888888888,\"#fdca26\"],[1.0,\"#f0f921\"]]}],\"surface\":[{\"type\":\"surface\",\"colorbar\":{\"outlinewidth\":0,\"ticks\":\"\"},\"colorscale\":[[0.0,\"#0d0887\"],[0.1111111111111111,\"#46039f\"],[0.2222222222222222,\"#7201a8\"],[0.3333333333333333,\"#9c179e\"],[0.4444444444444444,\"#bd3786\"],[0.5555555555555556,\"#d8576b\"],[0.6666666666666666,\"#ed7953\"],[0.7777777777777778,\"#fb9f3a\"],[0.8888888888888888,\"#fdca26\"],[1.0,\"#f0f921\"]]}],\"mesh3d\":[{\"type\":\"mesh3d\",\"colorbar\":{\"outlinewidth\":0,\"ticks\":\"\"}}],\"scatter\":[{\"fillpattern\":{\"fillmode\":\"overlay\",\"size\":10,\"solidity\":0.2},\"type\":\"scatter\"}],\"parcoords\":[{\"type\":\"parcoords\",\"line\":{\"colorbar\":{\"outlinewidth\":0,\"ticks\":\"\"}}}],\"scatterpolargl\":[{\"type\":\"scatterpolargl\",\"marker\":{\"colorbar\":{\"outlinewidth\":0,\"ticks\":\"\"}}}],\"bar\":[{\"error_x\":{\"color\":\"#2a3f5f\"},\"error_y\":{\"color\":\"#2a3f5f\"},\"marker\":{\"line\":{\"color\":\"#E5ECF6\",\"width\":0.5},\"pattern\":{\"fillmode\":\"overlay\",\"size\":10,\"solidity\":0.2}},\"type\":\"bar\"}],\"scattergeo\":[{\"type\":\"scattergeo\",\"marker\":{\"colorbar\":{\"outlinewidth\":0,\"ticks\":\"\"}}}],\"scatterpolar\":[{\"type\":\"scatterpolar\",\"marker\":{\"colorbar\":{\"outlinewidth\":0,\"ticks\":\"\"}}}],\"histogram\":[{\"marker\":{\"pattern\":{\"fillmode\":\"overlay\",\"size\":10,\"solidity\":0.2}},\"type\":\"histogram\"}],\"scattergl\":[{\"type\":\"scattergl\",\"marker\":{\"colorbar\":{\"outlinewidth\":0,\"ticks\":\"\"}}}],\"scatter3d\":[{\"type\":\"scatter3d\",\"line\":{\"colorbar\":{\"outlinewidth\":0,\"ticks\":\"\"}},\"marker\":{\"colorbar\":{\"outlinewidth\":0,\"ticks\":\"\"}}}],\"scattermapbox\":[{\"type\":\"scattermapbox\",\"marker\":{\"colorbar\":{\"outlinewidth\":0,\"ticks\":\"\"}}}],\"scatterternary\":[{\"type\":\"scatterternary\",\"marker\":{\"colorbar\":{\"outlinewidth\":0,\"ticks\":\"\"}}}],\"scattercarpet\":[{\"type\":\"scattercarpet\",\"marker\":{\"colorbar\":{\"outlinewidth\":0,\"ticks\":\"\"}}}],\"carpet\":[{\"aaxis\":{\"endlinecolor\":\"#2a3f5f\",\"gridcolor\":\"white\",\"linecolor\":\"white\",\"minorgridcolor\":\"white\",\"startlinecolor\":\"#2a3f5f\"},\"baxis\":{\"endlinecolor\":\"#2a3f5f\",\"gridcolor\":\"white\",\"linecolor\":\"white\",\"minorgridcolor\":\"white\",\"startlinecolor\":\"#2a3f5f\"},\"type\":\"carpet\"}],\"table\":[{\"cells\":{\"fill\":{\"color\":\"#EBF0F8\"},\"line\":{\"color\":\"white\"}},\"header\":{\"fill\":{\"color\":\"#C8D4E3\"},\"line\":{\"color\":\"white\"}},\"type\":\"table\"}],\"barpolar\":[{\"marker\":{\"line\":{\"color\":\"#E5ECF6\",\"width\":0.5},\"pattern\":{\"fillmode\":\"overlay\",\"size\":10,\"solidity\":0.2}},\"type\":\"barpolar\"}],\"pie\":[{\"automargin\":true,\"type\":\"pie\"}]},\"layout\":{\"autotypenumbers\":\"strict\",\"colorway\":[\"#636efa\",\"#EF553B\",\"#00cc96\",\"#ab63fa\",\"#FFA15A\",\"#19d3f3\",\"#FF6692\",\"#B6E880\",\"#FF97FF\",\"#FECB52\"],\"font\":{\"color\":\"#2a3f5f\"},\"hovermode\":\"closest\",\"hoverlabel\":{\"align\":\"left\"},\"paper_bgcolor\":\"white\",\"plot_bgcolor\":\"#E5ECF6\",\"polar\":{\"bgcolor\":\"#E5ECF6\",\"angularaxis\":{\"gridcolor\":\"white\",\"linecolor\":\"white\",\"ticks\":\"\"},\"radialaxis\":{\"gridcolor\":\"white\",\"linecolor\":\"white\",\"ticks\":\"\"}},\"ternary\":{\"bgcolor\":\"#E5ECF6\",\"aaxis\":{\"gridcolor\":\"white\",\"linecolor\":\"white\",\"ticks\":\"\"},\"baxis\":{\"gridcolor\":\"white\",\"linecolor\":\"white\",\"ticks\":\"\"},\"caxis\":{\"gridcolor\":\"white\",\"linecolor\":\"white\",\"ticks\":\"\"}},\"coloraxis\":{\"colorbar\":{\"outlinewidth\":0,\"ticks\":\"\"}},\"colorscale\":{\"sequential\":[[0.0,\"#0d0887\"],[0.1111111111111111,\"#46039f\"],[0.2222222222222222,\"#7201a8\"],[0.3333333333333333,\"#9c179e\"],[0.4444444444444444,\"#bd3786\"],[0.5555555555555556,\"#d8576b\"],[0.6666666666666666,\"#ed7953\"],[0.7777777777777778,\"#fb9f3a\"],[0.8888888888888888,\"#fdca26\"],[1.0,\"#f0f921\"]],\"sequentialminus\":[[0.0,\"#0d0887\"],[0.1111111111111111,\"#46039f\"],[0.2222222222222222,\"#7201a8\"],[0.3333333333333333,\"#9c179e\"],[0.4444444444444444,\"#bd3786\"],[0.5555555555555556,\"#d8576b\"],[0.6666666666666666,\"#ed7953\"],[0.7777777777777778,\"#fb9f3a\"],[0.8888888888888888,\"#fdca26\"],[1.0,\"#f0f921\"]],\"diverging\":[[0,\"#8e0152\"],[0.1,\"#c51b7d\"],[0.2,\"#de77ae\"],[0.3,\"#f1b6da\"],[0.4,\"#fde0ef\"],[0.5,\"#f7f7f7\"],[0.6,\"#e6f5d0\"],[0.7,\"#b8e186\"],[0.8,\"#7fbc41\"],[0.9,\"#4d9221\"],[1,\"#276419\"]]},\"xaxis\":{\"gridcolor\":\"white\",\"linecolor\":\"white\",\"ticks\":\"\",\"title\":{\"standoff\":15},\"zerolinecolor\":\"white\",\"automargin\":true,\"zerolinewidth\":2},\"yaxis\":{\"gridcolor\":\"white\",\"linecolor\":\"white\",\"ticks\":\"\",\"title\":{\"standoff\":15},\"zerolinecolor\":\"white\",\"automargin\":true,\"zerolinewidth\":2},\"scene\":{\"xaxis\":{\"backgroundcolor\":\"#E5ECF6\",\"gridcolor\":\"white\",\"linecolor\":\"white\",\"showbackground\":true,\"ticks\":\"\",\"zerolinecolor\":\"white\",\"gridwidth\":2},\"yaxis\":{\"backgroundcolor\":\"#E5ECF6\",\"gridcolor\":\"white\",\"linecolor\":\"white\",\"showbackground\":true,\"ticks\":\"\",\"zerolinecolor\":\"white\",\"gridwidth\":2},\"zaxis\":{\"backgroundcolor\":\"#E5ECF6\",\"gridcolor\":\"white\",\"linecolor\":\"white\",\"showbackground\":true,\"ticks\":\"\",\"zerolinecolor\":\"white\",\"gridwidth\":2}},\"shapedefaults\":{\"line\":{\"color\":\"#2a3f5f\"}},\"annotationdefaults\":{\"arrowcolor\":\"#2a3f5f\",\"arrowhead\":0,\"arrowwidth\":1},\"geo\":{\"bgcolor\":\"white\",\"landcolor\":\"#E5ECF6\",\"subunitcolor\":\"white\",\"showland\":true,\"showlakes\":true,\"lakecolor\":\"white\"},\"title\":{\"x\":0.05},\"mapbox\":{\"style\":\"light\"}}},\"xaxis\":{\"anchor\":\"y\",\"domain\":[0.0,1.0],\"title\":{\"text\":\"product_category\"}},\"yaxis\":{\"anchor\":\"x\",\"domain\":[0.0,1.0],\"title\":{\"text\":\"counts\"}},\"legend\":{\"title\":{\"text\":\"sentiment\"},\"tracegroupgap\":0},\"margin\":{\"t\":60},\"barmode\":\"group\"},                        {\"responsive\": true}                    )                };                            </script>        </div>"
      ],
      "text/plain": [
       "Figure({\n",
       "    'data': [{'alignmentgroup': 'True',\n",
       "              'hovertemplate': 'sentiment=Neutral<br>product_category=%{x}<br>counts=%{y}<extra></extra>',\n",
       "              'legendgroup': 'Neutral',\n",
       "              'marker': {'color': '#636efa', 'pattern': {'shape': ''}},\n",
       "              'name': 'Neutral',\n",
       "              'offsetgroup': 'Neutral',\n",
       "              'orientation': 'v',\n",
       "              'showlegend': True,\n",
       "              'textposition': 'auto',\n",
       "              'type': 'bar',\n",
       "              'x': array(['Bottoms', 'Dresses', 'Intimate', 'Jackets', 'Tops'], dtype=object),\n",
       "              'xaxis': 'x',\n",
       "              'y': array([ 28, 194,  71,  31,  23]),\n",
       "              'yaxis': 'y'},\n",
       "             {'alignmentgroup': 'True',\n",
       "              'hovertemplate': 'sentiment=Positive<br>product_category=%{x}<br>counts=%{y}<extra></extra>',\n",
       "              'legendgroup': 'Positive',\n",
       "              'marker': {'color': '#EF553B', 'pattern': {'shape': ''}},\n",
       "              'name': 'Positive',\n",
       "              'offsetgroup': 'Positive',\n",
       "              'orientation': 'v',\n",
       "              'showlegend': True,\n",
       "              'textposition': 'auto',\n",
       "              'type': 'bar',\n",
       "              'x': array(['Bottoms', 'Dresses', 'Intimate', 'Jackets', 'Tops'], dtype=object),\n",
       "              'xaxis': 'x',\n",
       "              'y': array([657, 454, 578, 649, 656]),\n",
       "              'yaxis': 'y'},\n",
       "             {'alignmentgroup': 'True',\n",
       "              'hovertemplate': 'sentiment=Negative<br>product_category=%{x}<br>counts=%{y}<extra></extra>',\n",
       "              'legendgroup': 'Negative',\n",
       "              'marker': {'color': '#00cc96', 'pattern': {'shape': ''}},\n",
       "              'name': 'Negative',\n",
       "              'offsetgroup': 'Negative',\n",
       "              'orientation': 'v',\n",
       "              'showlegend': True,\n",
       "              'textposition': 'auto',\n",
       "              'type': 'bar',\n",
       "              'x': array(['Dresses', 'Intimate', 'Tops'], dtype=object),\n",
       "              'xaxis': 'x',\n",
       "              'y': array([33,  1,  1]),\n",
       "              'yaxis': 'y'}],\n",
       "    'layout': {'barmode': 'group',\n",
       "               'legend': {'title': {'text': 'sentiment'}, 'tracegroupgap': 0},\n",
       "               'margin': {'t': 60},\n",
       "               'template': '...',\n",
       "               'xaxis': {'anchor': 'y', 'domain': [0.0, 1.0], 'title': {'text': 'product_category'}},\n",
       "               'yaxis': {'anchor': 'x', 'domain': [0.0, 1.0], 'title': {'text': 'counts'}}}\n",
       "})"
      ]
     },
     "execution_count": 58,
     "metadata": {},
     "output_type": "execute_result"
    }
   ],
   "source": [
    "px.bar(df, \"product_category\", \"counts\", \"sentiment\", barmode = \"group\")"
   ]
  }
 ],
 "metadata": {
  "kernelspec": {
   "display_name": "Python 3",
   "language": "python",
   "name": "python3"
  },
  "language_info": {
   "codemirror_mode": {
    "name": "ipython",
    "version": 3
   },
   "file_extension": ".py",
   "mimetype": "text/x-python",
   "name": "python",
   "nbconvert_exporter": "python",
   "pygments_lexer": "ipython3",
   "version": "3.12.3"
  }
 },
 "nbformat": 4,
 "nbformat_minor": 2
}
