{
 "cells": [
  {
   "cell_type": "markdown",
   "metadata": {},
   "source": [
    "# Práctica 2"
   ]
  },
  {
   "cell_type": "markdown",
   "metadata": {},
   "source": [
    "## Nombre del equipo:\n",
    "    Master Parsers\n",
    "\n",
    "## Miembros del equipo:\n",
    "    - José Gabriel Hernández Castresana\n",
    "    - Alejandro Guerrero Alvarez\n",
    "    - Juan Pablo Jiménez Salazar\n",
    "    - Carlos Flores Vara\n",
    "    - Armando Guzmán Ramírez"
   ]
  },
  {
   "cell_type": "markdown",
   "metadata": {},
   "source": [
    "Objetivo: \n",
    "    Construir una matriz a partir de los datos obtenidos de la operación"
   ]
  },
  {
   "cell_type": "markdown",
   "metadata": {},
   "source": [
    "---"
   ]
  },
  {
   "cell_type": "markdown",
   "metadata": {},
   "source": [
    "A continuación se importan las librerías que vamos a utilizar las cuales son las siguientes:\n",
    "- NLTK\n",
    "- re\n",
    "- numpy\n",
    "- Pandas\n",
    "- math\n",
    "- Counter\n",
    "- Stopwords"
   ]
  },
  {
   "cell_type": "code",
   "execution_count": 9,
   "metadata": {},
   "outputs": [],
   "source": [
    "import nltk\n",
    "import re\n",
    "import pandas as pd\n",
    "from collections import Counter\n",
    "import math\n",
    "import numpy as np"
   ]
  },
  {
   "cell_type": "markdown",
   "metadata": {},
   "source": [
    "Crea un diccionario de frequencia de palabras en el texto, tambien lo uso como vocab en el resto del codigo"
   ]
  },
  {
   "cell_type": "code",
   "execution_count": 10,
   "metadata": {},
   "outputs": [],
   "source": [
    "def makeDicc(og):\n",
    "    og = og.lower()\n",
    "    og = re.sub(r\"\\W\",\" \",og) # Se usan regular expresions para limpiar el texto de caracteres especiales\n",
    "    og = re.sub(r\"\\s+\", \" \", og)\n",
    "    toked = nltk.word_tokenize(og)\n",
    "    from nltk.corpus import stopwords\n",
    "    p_v = stopwords.words(\"spanish\")\n",
    "    toked = [w for w in toked if w not in p_v]\n",
    "    vocab = set(toked)\n",
    "    vocab = list(vocab)\n",
    "    return Counter(toked) #counter es una funcion de python para contar la frecuencia de elementos en una lista"
   ]
  },
  {
   "cell_type": "markdown",
   "metadata": {},
   "source": [
    "Transforma el texto orginal (con ayuda del diccionario) en listas, cada lista es una de las sentences y en la lista estan las palabras de esa linea ya limpiadas"
   ]
  },
  {
   "cell_type": "code",
   "execution_count": 11,
   "metadata": {},
   "outputs": [],
   "source": [
    "def makeDocsIntoList(dicc,og):\n",
    "    sentences = nltk.sent_tokenize(og)\n",
    "    docs = []\n",
    "    for sentence in sentences:\n",
    "        rSent = re.sub(r\"\\W\",\" \",sentence)\n",
    "        rSent = re.sub(r\"\\s+\", \" \", rSent)\n",
    "        dn = []\n",
    "        for word in nltk.word_tokenize(rSent):\n",
    "            if word in list(dicc.keys()):\n",
    "                dn.append(word)\n",
    "        docs.append(dn)\n",
    "    return docs\n"
   ]
  },
  {
   "cell_type": "markdown",
   "metadata": {},
   "source": [
    "Crea la tabla de TF, usando la lista de las sentences y el diccionario"
   ]
  },
  {
   "cell_type": "code",
   "execution_count": 12,
   "metadata": {},
   "outputs": [],
   "source": [
    "def makeTF(dicc, docsN):\n",
    "    Tf = pd.DataFrame(index=list(dicc.keys()))\n",
    "    for i in range (len(docsN)):\n",
    "        Tf[f\"d{i}\"] = np.float64(0) # Este np.float64 es necesario ya que la conversion int float no sera automatica en un futuro en pandas\n",
    "        freqN = Counter(docsN[i])\n",
    "        freqN = dict(freqN)\n",
    "        for key, val in freqN.items():\n",
    "            Tf.loc[key, f\"d{i}\"] = val/len(docsN[i])\n",
    "        \n",
    "    return Tf"
   ]
  },
  {
   "cell_type": "markdown",
   "metadata": {},
   "source": [
    "Crea tabla IDF"
   ]
  },
  {
   "cell_type": "code",
   "execution_count": 13,
   "metadata": {},
   "outputs": [],
   "source": [
    "def makeIDF(dicc, docsN):\n",
    "    IDf = pd.DataFrame(index=list(dicc.keys()))\n",
    "    IDf['N'] = len(docsN)\n",
    "    IDf['n(t)'] = 0\n",
    "    for word in dicc.keys():\n",
    "        countN = 0\n",
    "        for doc in docsN:\n",
    "            if word in doc:\n",
    "                countN +=1\n",
    "        IDf.loc[word, 'n(t)'] = countN\n",
    "    \n",
    "    IDf['IDF'] = ((IDf['N']/IDf['n(t)']) + 1).apply(math.log)\n",
    "        \n",
    "    return IDf"
   ]
  },
  {
   "cell_type": "markdown",
   "metadata": {},
   "source": [
    "Crea la tabla final idf tf, usando esas dos"
   ]
  },
  {
   "cell_type": "code",
   "execution_count": 14,
   "metadata": {},
   "outputs": [],
   "source": [
    "def makeIDFTF(tf, idf):\n",
    "    full = pd.DataFrame(index=list(tf.index.values))\n",
    "    for i in range (len(tf.columns)):\n",
    "        full[f\"d{i}\"] = tf[f\"d{i}\"] * idf['IDF']\n",
    "\n",
    "    return full"
   ]
  },
  {
   "cell_type": "markdown",
   "metadata": {},
   "source": [
    "La operacion se realiza de manera completa"
   ]
  },
  {
   "cell_type": "code",
   "execution_count": 18,
   "metadata": {},
   "outputs": [
    {
     "name": "stdout",
     "output_type": "stream",
     "text": [
      "**** Tf ****\n",
      "               d0        d1        d2\n",
      "gato     0.333333  0.000000  0.333333\n",
      "come     0.333333  0.333333  0.000000\n",
      "pescado  0.333333  0.000000  0.000000\n",
      "perro    0.000000  0.333333  0.333333\n",
      "carne    0.000000  0.333333  0.000000\n",
      "amigos   0.000000  0.000000  0.333333\n",
      "\n",
      "**** IDF ****\n",
      "         N  n(t)       IDF\n",
      "gato     3     2  0.916291\n",
      "come     3     2  0.916291\n",
      "pescado  3     1  1.386294\n",
      "perro    3     2  0.916291\n",
      "carne    3     1  1.386294\n",
      "amigos   3     1  1.386294\n",
      "\n",
      "**** Full ****\n",
      "               d0        d1        d2\n",
      "gato     0.305430  0.000000  0.305430\n",
      "come     0.305430  0.305430  0.000000\n",
      "pescado  0.462098  0.000000  0.000000\n",
      "perro    0.000000  0.305430  0.305430\n",
      "carne    0.000000  0.462098  0.000000\n",
      "amigos   0.000000  0.000000  0.462098\n"
     ]
    },
    {
     "data": {
      "text/plain": [
       "[               d0        d1        d2\n",
       " gato     0.333333  0.000000  0.333333\n",
       " come     0.333333  0.333333  0.000000\n",
       " pescado  0.333333  0.000000  0.000000\n",
       " perro    0.000000  0.333333  0.333333\n",
       " carne    0.000000  0.333333  0.000000\n",
       " amigos   0.000000  0.000000  0.333333,\n",
       "          N  n(t)       IDF\n",
       " gato     3     2  0.916291\n",
       " come     3     2  0.916291\n",
       " pescado  3     1  1.386294\n",
       " perro    3     2  0.916291\n",
       " carne    3     1  1.386294\n",
       " amigos   3     1  1.386294,\n",
       "                d0        d1        d2\n",
       " gato     0.305430  0.000000  0.305430\n",
       " come     0.305430  0.305430  0.000000\n",
       " pescado  0.462098  0.000000  0.000000\n",
       " perro    0.000000  0.305430  0.305430\n",
       " carne    0.000000  0.462098  0.000000\n",
       " amigos   0.000000  0.000000  0.462098]"
      ]
     },
     "execution_count": 18,
     "metadata": {},
     "output_type": "execute_result"
    }
   ],
   "source": [
    "def main(og):\n",
    "    dicc = makeDicc(og)\n",
    "    docs = makeDocsIntoList(dicc, og)\n",
    "    Tf = makeTF(dicc, docs)\n",
    "    idf = makeIDF(dicc, docs)\n",
    "    full = makeIDFTF(Tf, idf)\n",
    "\n",
    "    print (\"**** Tf ****\")\n",
    "    print(Tf)\n",
    "    print()\n",
    "    print(\"**** IDF ****\")\n",
    "    print(idf)\n",
    "    print()\n",
    "    print(\"**** Full ****\")\n",
    "    print(full)\n",
    "\n",
    "    return [Tf, idf, full]\n",
    "\n",
    "lacosa = \"\"\"El gato come pescado.\n",
    "El perro come carne.\n",
    "El gato y el perro son amigos.\"\"\"\n",
    "\n",
    "main(lacosa)"
   ]
  }
 ],
 "metadata": {
  "kernelspec": {
   "display_name": "Python 3",
   "language": "python",
   "name": "python3"
  },
  "language_info": {
   "codemirror_mode": {
    "name": "ipython",
    "version": 3
   },
   "file_extension": ".py",
   "mimetype": "text/x-python",
   "name": "python",
   "nbconvert_exporter": "python",
   "pygments_lexer": "ipython3",
   "version": "3.12.3"
  }
 },
 "nbformat": 4,
 "nbformat_minor": 2
}
