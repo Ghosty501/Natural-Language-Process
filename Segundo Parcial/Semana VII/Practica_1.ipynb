{
 "cells": [
  {
   "cell_type": "code",
   "execution_count": 132,
   "metadata": {},
   "outputs": [],
   "source": [
    "import nltk\n",
    "import re\n",
    "import numpy as np \n",
    "import pandas as pd\n",
    "from nltk.corpus import stopwords\n"
   ]
  },
  {
   "cell_type": "code",
   "execution_count": 133,
   "metadata": {},
   "outputs": [],
   "source": [
    "text_original = '''Helen is unhappy with her mother. Her mother is unhappy with Helen. They are both unhappy with each other. Helen has a boyfriend. His name is Peter. Her mother doesn't like Peter. Her mother said that Peter is rude. Why did she say that? Because Peter didn't take his hat off in the house. Helen's mother says that is rude. A man should take his hat off in the house. \"Your father always took his hat off in the house,\" Helen's mother said. \"But, Mom, times are different now,\" Helen said. \"I promise you, Peter will take his hat off next time.\" Helen's mother said it was too late - rude is rude.'''"
   ]
  },
  {
   "cell_type": "code",
   "execution_count": 134,
   "metadata": {},
   "outputs": [],
   "source": [
    "min_text= text_original.lower()"
   ]
  },
  {
   "cell_type": "code",
   "execution_count": 147,
   "metadata": {},
   "outputs": [],
   "source": [
    "cl_txt = re.sub(r\"\\W\",\" \",min_text)\n"
   ]
  },
  {
   "cell_type": "code",
   "execution_count": 157,
   "metadata": {},
   "outputs": [],
   "source": [
    "cl_txt = re.sub(r\"\\s+\", \" \",min_text)"
   ]
  },
  {
   "cell_type": "code",
   "execution_count": 156,
   "metadata": {},
   "outputs": [
    {
     "data": {
      "text/plain": [
       "'helen is unhappy with her mother. her mother is unhappy with helen. they are both unhappy with each other. helen has a boyfriend. his name is peter. her mother doesn\\'t like peter. her mother said that peter is rude. why did she say that? because peter didn\\'t take his hat off in the house. helen\\'s mother says that is rude. a man should take his hat off in the house. \"your father always took his hat off in the house,\" helen\\'s mother said. \"but, mom, times are different now,\" helen said. \"i promise you, peter will take his hat off next time.\" helen\\'s mother said it was too late - rude is rude.'"
      ]
     },
     "execution_count": 156,
     "metadata": {},
     "output_type": "execute_result"
    }
   ],
   "source": [
    "cl_txt"
   ]
  },
  {
   "cell_type": "code",
   "execution_count": 149,
   "metadata": {},
   "outputs": [],
   "source": [
    "tk_text= nltk.word_tokenize(cl_txt)"
   ]
  },
  {
   "cell_type": "code",
   "execution_count": 150,
   "metadata": {},
   "outputs": [
    {
     "data": {
      "text/plain": [
       "['helen',\n",
       " 'is',\n",
       " 'unhappy',\n",
       " 'with',\n",
       " 'her',\n",
       " 'mother',\n",
       " 'her',\n",
       " 'mother',\n",
       " 'is',\n",
       " 'unhappy',\n",
       " 'with',\n",
       " 'helen',\n",
       " 'they',\n",
       " 'are',\n",
       " 'both',\n",
       " 'unhappy',\n",
       " 'with',\n",
       " 'each',\n",
       " 'other',\n",
       " 'helen',\n",
       " 'has',\n",
       " 'a',\n",
       " 'boyfriend',\n",
       " 'his',\n",
       " 'name',\n",
       " 'is',\n",
       " 'peter',\n",
       " 'her',\n",
       " 'mother',\n",
       " 'doesn',\n",
       " 't',\n",
       " 'like',\n",
       " 'peter',\n",
       " 'her',\n",
       " 'mother',\n",
       " 'said',\n",
       " 'that',\n",
       " 'peter',\n",
       " 'is',\n",
       " 'rude',\n",
       " 'why',\n",
       " 'did',\n",
       " 'she',\n",
       " 'say',\n",
       " 'that',\n",
       " 'because',\n",
       " 'peter',\n",
       " 'didn',\n",
       " 't',\n",
       " 'take',\n",
       " 'his',\n",
       " 'hat',\n",
       " 'off',\n",
       " 'in',\n",
       " 'the',\n",
       " 'house',\n",
       " 'helen',\n",
       " 's',\n",
       " 'mother',\n",
       " 'says',\n",
       " 'that',\n",
       " 'is',\n",
       " 'rude',\n",
       " 'a',\n",
       " 'man',\n",
       " 'should',\n",
       " 'take',\n",
       " 'his',\n",
       " 'hat',\n",
       " 'off',\n",
       " 'in',\n",
       " 'the',\n",
       " 'house',\n",
       " 'your',\n",
       " 'father',\n",
       " 'always',\n",
       " 'took',\n",
       " 'his',\n",
       " 'hat',\n",
       " 'off',\n",
       " 'in',\n",
       " 'the',\n",
       " 'house',\n",
       " 'helen',\n",
       " 's',\n",
       " 'mother',\n",
       " 'said',\n",
       " 'but',\n",
       " 'mom',\n",
       " 'times',\n",
       " 'are',\n",
       " 'different',\n",
       " 'now',\n",
       " 'helen',\n",
       " 'said',\n",
       " 'i',\n",
       " 'promise',\n",
       " 'you',\n",
       " 'peter',\n",
       " 'will',\n",
       " 'take',\n",
       " 'his',\n",
       " 'hat',\n",
       " 'off',\n",
       " 'next',\n",
       " 'time',\n",
       " 'helen',\n",
       " 's',\n",
       " 'mother',\n",
       " 'said',\n",
       " 'it',\n",
       " 'was',\n",
       " 'too',\n",
       " 'late',\n",
       " 'rude',\n",
       " 'is',\n",
       " 'rude']"
      ]
     },
     "execution_count": 150,
     "metadata": {},
     "output_type": "execute_result"
    }
   ],
   "source": [
    "tk_text"
   ]
  },
  {
   "cell_type": "code",
   "execution_count": 151,
   "metadata": {},
   "outputs": [],
   "source": [
    "stp_wds= stopwords.words('english')"
   ]
  },
  {
   "cell_type": "code",
   "execution_count": 152,
   "metadata": {},
   "outputs": [],
   "source": [
    "flt_wds=[]\n",
    "for word in tk_text:\n",
    "    if word not in stp_wds:\n",
    "        flt_wds.append(word)"
   ]
  },
  {
   "cell_type": "code",
   "execution_count": 153,
   "metadata": {},
   "outputs": [
    {
     "data": {
      "text/plain": [
       "56"
      ]
     },
     "execution_count": 153,
     "metadata": {},
     "output_type": "execute_result"
    }
   ],
   "source": [
    "len( flt_wds)"
   ]
  }
 ],
 "metadata": {
  "kernelspec": {
   "display_name": "Python 3",
   "language": "python",
   "name": "python3"
  },
  "language_info": {
   "codemirror_mode": {
    "name": "ipython",
    "version": 3
   },
   "file_extension": ".py",
   "mimetype": "text/x-python",
   "name": "python",
   "nbconvert_exporter": "python",
   "pygments_lexer": "ipython3",
   "version": "3.12.3"
  }
 },
 "nbformat": 4,
 "nbformat_minor": 2
}
