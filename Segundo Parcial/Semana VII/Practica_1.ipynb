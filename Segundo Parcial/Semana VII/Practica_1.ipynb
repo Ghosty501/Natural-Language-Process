{
 "cells": [
  {
   "cell_type": "markdown",
   "metadata": {},
   "source": [
    "# Práctica 1"
   ]
  },
  {
   "cell_type": "markdown",
   "metadata": {},
   "source": [
    "## Nombre del equipo:\n",
    "    Master Parsers\n",
    "\n",
    "## Miembros del equipo:\n",
    "    - José Gabriel Hernández Castresana\n",
    "    - Alejandro Guerrero Alvarez\n",
    "    - Juan Pablo Jiménez Salazar\n",
    "    - Carlos Flores Vara\n",
    "    - Armando Guzmán Ramírez"
   ]
  },
  {
   "cell_type": "markdown",
   "metadata": {},
   "source": [
    "Objetivo: \n",
    "    Construir una matriz booleana a partir de la bolsa de palabras generada del texto original.\n",
    "    Para esto vamos a verificar si las palabras que se encuentran en la bolsa de palabras, también se encuentra en cada una de las oraciones.\n",
    "    Si se encuentra en la oración, es 1, de lo contrario es 0"
   ]
  },
  {
   "cell_type": "markdown",
   "metadata": {},
   "source": [
    "---"
   ]
  },
  {
   "cell_type": "markdown",
   "metadata": {},
   "source": [
    "A continuación se importan las librerías que vamos a utilizar las cuales son las siguientes:\n",
    "- NLTK\n",
    "- re\n",
    "- numpy\n",
    "- Pandas\n",
    "- Stopwords"
   ]
  },
  {
   "cell_type": "code",
   "execution_count": 2,
   "metadata": {},
   "outputs": [],
   "source": [
    "import nltk\n",
    "import re\n",
    "import numpy as np \n",
    "import pandas as pd\n",
    "from nltk.corpus import stopwords\n"
   ]
  },
  {
   "cell_type": "markdown",
   "metadata": {},
   "source": [
    "En la siguiente línea lo que realizamos guardar el texto original a trabajar en la variable \"text_original\""
   ]
  },
  {
   "cell_type": "code",
   "execution_count": 3,
   "metadata": {},
   "outputs": [],
   "source": [
    "text_original = '''Helen is unhappy with her mother. Her mother is unhappy with Helen. They are both unhappy with each other. Helen has a boyfriend. His name is Peter. Her mother doesn't like Peter. Her mother said that Peter is rude. Why did she say that? Because Peter didn't take his hat off in the house. Helen's mother says that is rude. A man should take his hat off in the house. \"Your father always took his hat off in the house,\" Helen's mother said. \"But, Mom, times are different now,\" Helen said. \"I promise you, Peter will take his hat off next time.\" Helen's mother said it was too late - rude is rude.'''"
   ]
  },
  {
   "cell_type": "markdown",
   "metadata": {},
   "source": [
    "En la siguiente línea se convierten a minúsculas todas las letras del texto"
   ]
  },
  {
   "cell_type": "code",
   "execution_count": 4,
   "metadata": {},
   "outputs": [],
   "source": [
    "min_text= text_original.lower()"
   ]
  },
  {
   "cell_type": "markdown",
   "metadata": {},
   "source": [
    "En la siguiente línea se elimina los signos de puntuación del texto original para dejar sólo las palabras"
   ]
  },
  {
   "cell_type": "code",
   "execution_count": 5,
   "metadata": {},
   "outputs": [],
   "source": [
    "cl_txt = re.sub(r\"\\W\",\" \",min_text)\n"
   ]
  },
  {
   "cell_type": "markdown",
   "metadata": {},
   "source": [
    "Se imprime el texto con las puras palabras, sin los signos de puntuación"
   ]
  },
  {
   "cell_type": "code",
   "execution_count": 6,
   "metadata": {},
   "outputs": [
    {
     "data": {
      "text/plain": [
       "'helen is unhappy with her mother  her mother is unhappy with helen  they are both unhappy with each other  helen has a boyfriend  his name is peter  her mother doesn t like peter  her mother said that peter is rude  why did she say that  because peter didn t take his hat off in the house  helen s mother says that is rude  a man should take his hat off in the house   your father always took his hat off in the house   helen s mother said   but  mom  times are different now   helen said   i promise you  peter will take his hat off next time   helen s mother said it was too late   rude is rude '"
      ]
     },
     "execution_count": 6,
     "metadata": {},
     "output_type": "execute_result"
    }
   ],
   "source": [
    "cl_txt"
   ]
  },
  {
   "cell_type": "markdown",
   "metadata": {},
   "source": [
    "En la siguiente línea se tokeniza el texto ya limpio de todos los signos de puntuación"
   ]
  },
  {
   "cell_type": "code",
   "execution_count": 7,
   "metadata": {},
   "outputs": [],
   "source": [
    "tk_text= nltk.word_tokenize(cl_txt)"
   ]
  },
  {
   "cell_type": "markdown",
   "metadata": {},
   "source": [
    "Se imprime la lista de palabras ya tokenizadas"
   ]
  },
  {
   "cell_type": "code",
   "execution_count": 8,
   "metadata": {},
   "outputs": [
    {
     "data": {
      "text/plain": [
       "['helen',\n",
       " 'is',\n",
       " 'unhappy',\n",
       " 'with',\n",
       " 'her',\n",
       " 'mother',\n",
       " 'her',\n",
       " 'mother',\n",
       " 'is',\n",
       " 'unhappy',\n",
       " 'with',\n",
       " 'helen',\n",
       " 'they',\n",
       " 'are',\n",
       " 'both',\n",
       " 'unhappy',\n",
       " 'with',\n",
       " 'each',\n",
       " 'other',\n",
       " 'helen',\n",
       " 'has',\n",
       " 'a',\n",
       " 'boyfriend',\n",
       " 'his',\n",
       " 'name',\n",
       " 'is',\n",
       " 'peter',\n",
       " 'her',\n",
       " 'mother',\n",
       " 'doesn',\n",
       " 't',\n",
       " 'like',\n",
       " 'peter',\n",
       " 'her',\n",
       " 'mother',\n",
       " 'said',\n",
       " 'that',\n",
       " 'peter',\n",
       " 'is',\n",
       " 'rude',\n",
       " 'why',\n",
       " 'did',\n",
       " 'she',\n",
       " 'say',\n",
       " 'that',\n",
       " 'because',\n",
       " 'peter',\n",
       " 'didn',\n",
       " 't',\n",
       " 'take',\n",
       " 'his',\n",
       " 'hat',\n",
       " 'off',\n",
       " 'in',\n",
       " 'the',\n",
       " 'house',\n",
       " 'helen',\n",
       " 's',\n",
       " 'mother',\n",
       " 'says',\n",
       " 'that',\n",
       " 'is',\n",
       " 'rude',\n",
       " 'a',\n",
       " 'man',\n",
       " 'should',\n",
       " 'take',\n",
       " 'his',\n",
       " 'hat',\n",
       " 'off',\n",
       " 'in',\n",
       " 'the',\n",
       " 'house',\n",
       " 'your',\n",
       " 'father',\n",
       " 'always',\n",
       " 'took',\n",
       " 'his',\n",
       " 'hat',\n",
       " 'off',\n",
       " 'in',\n",
       " 'the',\n",
       " 'house',\n",
       " 'helen',\n",
       " 's',\n",
       " 'mother',\n",
       " 'said',\n",
       " 'but',\n",
       " 'mom',\n",
       " 'times',\n",
       " 'are',\n",
       " 'different',\n",
       " 'now',\n",
       " 'helen',\n",
       " 'said',\n",
       " 'i',\n",
       " 'promise',\n",
       " 'you',\n",
       " 'peter',\n",
       " 'will',\n",
       " 'take',\n",
       " 'his',\n",
       " 'hat',\n",
       " 'off',\n",
       " 'next',\n",
       " 'time',\n",
       " 'helen',\n",
       " 's',\n",
       " 'mother',\n",
       " 'said',\n",
       " 'it',\n",
       " 'was',\n",
       " 'too',\n",
       " 'late',\n",
       " 'rude',\n",
       " 'is',\n",
       " 'rude']"
      ]
     },
     "execution_count": 8,
     "metadata": {},
     "output_type": "execute_result"
    }
   ],
   "source": [
    "tk_text"
   ]
  },
  {
   "cell_type": "markdown",
   "metadata": {},
   "source": [
    "Se mandan a llamar la lista en inglés de palabras vacías"
   ]
  },
  {
   "cell_type": "code",
   "execution_count": 9,
   "metadata": {},
   "outputs": [],
   "source": [
    "stp_wds= stopwords.words('english')"
   ]
  },
  {
   "cell_type": "markdown",
   "metadata": {},
   "source": [
    "Se hace la busqueda de la lista de palabras vaacías en la lista de tokens.\n",
    "Una vez que se encuentren las palabras vacías, las demás palabras se van a agregar a una nueva lista con el nombre: \"flt_words\""
   ]
  },
  {
   "cell_type": "code",
   "execution_count": 10,
   "metadata": {},
   "outputs": [],
   "source": [
    "flt_words = [w for w in tk_text if w not in stp_wds]"
   ]
  },
  {
   "cell_type": "markdown",
   "metadata": {},
   "source": [
    "Se hace el conteo de las palabras filtradas"
   ]
  },
  {
   "cell_type": "code",
   "execution_count": 11,
   "metadata": {},
   "outputs": [
    {
     "data": {
      "text/plain": [
       "56"
      ]
     },
     "execution_count": 11,
     "metadata": {},
     "output_type": "execute_result"
    }
   ],
   "source": [
    "len(flt_words)"
   ]
  },
  {
   "cell_type": "markdown",
   "metadata": {},
   "source": [
    "Se crea un diccionario con el nombre de \"vocabulary\", en el cuál se eliminan las palabras repetidas"
   ]
  },
  {
   "cell_type": "code",
   "execution_count": 12,
   "metadata": {},
   "outputs": [],
   "source": [
    "vocabulary = set(flt_words)"
   ]
  },
  {
   "cell_type": "markdown",
   "metadata": {},
   "source": [
    "Se cuentan el número de elementos en el diccionario vocabulary"
   ]
  },
  {
   "cell_type": "code",
   "execution_count": 13,
   "metadata": {},
   "outputs": [
    {
     "data": {
      "text/plain": [
       "25"
      ]
     },
     "execution_count": 13,
     "metadata": {},
     "output_type": "execute_result"
    }
   ],
   "source": [
    "len(vocabulary)"
   ]
  },
  {
   "cell_type": "markdown",
   "metadata": {},
   "source": [
    "Se crea un diccionario con el nombre de frecs"
   ]
  },
  {
   "cell_type": "code",
   "execution_count": 14,
   "metadata": {},
   "outputs": [],
   "source": [
    "frecs = {}"
   ]
  },
  {
   "cell_type": "markdown",
   "metadata": {},
   "source": [
    "En el siguiente ciclo se cuenta el número de veces que aparecen las palabras en la lista \"flt_words\".\n",
    "Para hacer el conteo de palabras se utiliza como llave la palabra, y después se agrega la palabra con su frecuencia en el diccionario de frecuencias."
   ]
  },
  {
   "cell_type": "code",
   "execution_count": 15,
   "metadata": {},
   "outputs": [],
   "source": [
    "for word in flt_words: \n",
    "    if word not in frecs.keys():\n",
    "        frecs[word] = 1\n",
    "    else:\n",
    "        frecs[word] += 1"
   ]
  },
  {
   "cell_type": "markdown",
   "metadata": {},
   "source": [
    "Se imprime el contenido del diccionario"
   ]
  },
  {
   "cell_type": "code",
   "execution_count": 16,
   "metadata": {},
   "outputs": [
    {
     "data": {
      "text/plain": [
       "{'helen': 7,\n",
       " 'unhappy': 3,\n",
       " 'mother': 7,\n",
       " 'boyfriend': 1,\n",
       " 'name': 1,\n",
       " 'peter': 5,\n",
       " 'like': 1,\n",
       " 'said': 4,\n",
       " 'rude': 4,\n",
       " 'say': 1,\n",
       " 'take': 3,\n",
       " 'hat': 4,\n",
       " 'house': 3,\n",
       " 'says': 1,\n",
       " 'man': 1,\n",
       " 'father': 1,\n",
       " 'always': 1,\n",
       " 'took': 1,\n",
       " 'mom': 1,\n",
       " 'times': 1,\n",
       " 'different': 1,\n",
       " 'promise': 1,\n",
       " 'next': 1,\n",
       " 'time': 1,\n",
       " 'late': 1}"
      ]
     },
     "execution_count": 16,
     "metadata": {},
     "output_type": "execute_result"
    }
   ],
   "source": [
    "frecs"
   ]
  },
  {
   "cell_type": "markdown",
   "metadata": {},
   "source": [
    "Se declara de nuevo el texto un otra variable de nombre \"text_2\""
   ]
  },
  {
   "cell_type": "code",
   "execution_count": 17,
   "metadata": {},
   "outputs": [],
   "source": [
    "text_2='''Helen is unhappy with her mother. Her mother is unhappy with Helen. They are both unhappy with each other. Helen has a boyfriend. His name is Peter. Her mother doesn't like Peter. Her mother said that Peter is rude. Why did she say that? Because Peter didn't take his hat off in the house. Helen's mother says that is rude. A man should take his hat off in the house. \"Your father always took his hat off in the house,\" Helen's mother said. \"But, Mom, times are different now,\" Helen said. \"I promise you, Peter will take his hat off next time.\" Helen's mother said it was too late - rude is rude.'''"
   ]
  },
  {
   "cell_type": "markdown",
   "metadata": {},
   "source": [
    "Se convierten en minúsculas todas las letras del texto a trabajar"
   ]
  },
  {
   "cell_type": "code",
   "execution_count": 18,
   "metadata": {},
   "outputs": [],
   "source": [
    "text2_min = text_2.lower()"
   ]
  },
  {
   "cell_type": "markdown",
   "metadata": {},
   "source": [
    "El texto se tokeniza en oraciones para poder hacer la comparación con la bolsa de palabras ya establecida"
   ]
  },
  {
   "cell_type": "code",
   "execution_count": 19,
   "metadata": {},
   "outputs": [],
   "source": [
    "tk_text2 = nltk. sent_tokenize(text2_min)"
   ]
  },
  {
   "cell_type": "markdown",
   "metadata": {},
   "source": [
    "Se imprimen las oraciones tokenizadas"
   ]
  },
  {
   "cell_type": "code",
   "execution_count": 20,
   "metadata": {},
   "outputs": [
    {
     "data": {
      "text/plain": [
       "['helen is unhappy with her mother.',\n",
       " 'her mother is unhappy with helen.',\n",
       " 'they are both unhappy with each other.',\n",
       " 'helen has a boyfriend.',\n",
       " 'his name is peter.',\n",
       " \"her mother doesn't like peter.\",\n",
       " 'her mother said that peter is rude.',\n",
       " 'why did she say that?',\n",
       " \"because peter didn't take his hat off in the house.\",\n",
       " \"helen's mother says that is rude.\",\n",
       " 'a man should take his hat off in the house.',\n",
       " '\"your father always took his hat off in the house,\" helen\\'s mother said.',\n",
       " '\"but, mom, times are different now,\" helen said.',\n",
       " '\"i promise you, peter will take his hat off next time.\"',\n",
       " \"helen's mother said it was too late - rude is rude.\"]"
      ]
     },
     "execution_count": 20,
     "metadata": {},
     "output_type": "execute_result"
    }
   ],
   "source": [
    "tk_text2"
   ]
  },
  {
   "cell_type": "markdown",
   "metadata": {},
   "source": [
    "Se crea una lista con el nombre matriz.\n",
    "En el ciclo for para las oraciones que se encuentran en la lista de oraciones tokenizadas, se tokenizan en palabras.\n",
    "Se declara una nuvea lista, en la que las palabras en el diccionario de fecuencia, se comparan con la lista recientemente creada.\n",
    "Para eso se utiliza el nombre como llave para hacer la comparación.\n",
    "En caso de que se encuentre se agrega 1 a la lista, si no es un 0.\n",
    "Después esa lista se agrega a la lista de matriz."
   ]
  },
  {
   "cell_type": "code",
   "execution_count": 21,
   "metadata": {},
   "outputs": [],
   "source": [
    "matriz=[]\n",
    "for sen in tk_text2:\n",
    "    wd_sen_tk=nltk.word_tokenize(sen)\n",
    "    lista=[]\n",
    "    for word in frecs.keys():\n",
    "        \n",
    "        if word in wd_sen_tk:\n",
    "            lista.append(1)\n",
    "        else:\n",
    "            lista.append(0)\n",
    "\n",
    "    matriz.append(lista)"
   ]
  },
  {
   "cell_type": "markdown",
   "metadata": {},
   "source": [
    "Se imprima la matriz"
   ]
  },
  {
   "cell_type": "code",
   "execution_count": 22,
   "metadata": {},
   "outputs": [
    {
     "name": "stdout",
     "output_type": "stream",
     "text": [
      "[[1, 1, 1, 0, 0, 0, 0, 0, 0, 0, 0, 0, 0, 0, 0, 0, 0, 0, 0, 0, 0, 0, 0, 0, 0], [1, 1, 1, 0, 0, 0, 0, 0, 0, 0, 0, 0, 0, 0, 0, 0, 0, 0, 0, 0, 0, 0, 0, 0, 0], [0, 1, 0, 0, 0, 0, 0, 0, 0, 0, 0, 0, 0, 0, 0, 0, 0, 0, 0, 0, 0, 0, 0, 0, 0], [1, 0, 0, 1, 0, 0, 0, 0, 0, 0, 0, 0, 0, 0, 0, 0, 0, 0, 0, 0, 0, 0, 0, 0, 0], [0, 0, 0, 0, 1, 1, 0, 0, 0, 0, 0, 0, 0, 0, 0, 0, 0, 0, 0, 0, 0, 0, 0, 0, 0], [0, 0, 1, 0, 0, 1, 1, 0, 0, 0, 0, 0, 0, 0, 0, 0, 0, 0, 0, 0, 0, 0, 0, 0, 0], [0, 0, 1, 0, 0, 1, 0, 1, 1, 0, 0, 0, 0, 0, 0, 0, 0, 0, 0, 0, 0, 0, 0, 0, 0], [0, 0, 0, 0, 0, 0, 0, 0, 0, 1, 0, 0, 0, 0, 0, 0, 0, 0, 0, 0, 0, 0, 0, 0, 0], [0, 0, 0, 0, 0, 1, 0, 0, 0, 0, 1, 1, 1, 0, 0, 0, 0, 0, 0, 0, 0, 0, 0, 0, 0], [1, 0, 1, 0, 0, 0, 0, 0, 1, 0, 0, 0, 0, 1, 0, 0, 0, 0, 0, 0, 0, 0, 0, 0, 0], [0, 0, 0, 0, 0, 0, 0, 0, 0, 0, 1, 1, 1, 0, 1, 0, 0, 0, 0, 0, 0, 0, 0, 0, 0], [1, 0, 1, 0, 0, 0, 0, 1, 0, 0, 0, 1, 1, 0, 0, 1, 1, 1, 0, 0, 0, 0, 0, 0, 0], [1, 0, 0, 0, 0, 0, 0, 1, 0, 0, 0, 0, 0, 0, 0, 0, 0, 0, 1, 1, 1, 0, 0, 0, 0], [0, 0, 0, 0, 0, 1, 0, 0, 0, 0, 1, 1, 0, 0, 0, 0, 0, 0, 0, 0, 0, 1, 1, 1, 0], [1, 0, 1, 0, 0, 0, 0, 1, 1, 0, 0, 0, 0, 0, 0, 0, 0, 0, 0, 0, 0, 0, 0, 0, 1]]\n"
     ]
    }
   ],
   "source": [
    "print(matriz)"
   ]
  },
  {
   "cell_type": "markdown",
   "metadata": {},
   "source": [
    "La matriz ya creada se utiliza numpy para transformarlo como un arreglo de numpy"
   ]
  },
  {
   "cell_type": "code",
   "execution_count": 23,
   "metadata": {},
   "outputs": [],
   "source": [
    "np_matriz=np.array(matriz)"
   ]
  },
  {
   "cell_type": "markdown",
   "metadata": {},
   "source": [
    "Se imprime el arreglo de numpy"
   ]
  },
  {
   "cell_type": "code",
   "execution_count": 26,
   "metadata": {},
   "outputs": [
    {
     "name": "stdout",
     "output_type": "stream",
     "text": [
      "[[1 1 1 0 0 0 0 0 0 0 0 0 0 0 0 0 0 0 0 0 0 0 0 0 0]\n",
      " [1 1 1 0 0 0 0 0 0 0 0 0 0 0 0 0 0 0 0 0 0 0 0 0 0]\n",
      " [0 1 0 0 0 0 0 0 0 0 0 0 0 0 0 0 0 0 0 0 0 0 0 0 0]\n",
      " [1 0 0 1 0 0 0 0 0 0 0 0 0 0 0 0 0 0 0 0 0 0 0 0 0]\n",
      " [0 0 0 0 1 1 0 0 0 0 0 0 0 0 0 0 0 0 0 0 0 0 0 0 0]\n",
      " [0 0 1 0 0 1 1 0 0 0 0 0 0 0 0 0 0 0 0 0 0 0 0 0 0]\n",
      " [0 0 1 0 0 1 0 1 1 0 0 0 0 0 0 0 0 0 0 0 0 0 0 0 0]\n",
      " [0 0 0 0 0 0 0 0 0 1 0 0 0 0 0 0 0 0 0 0 0 0 0 0 0]\n",
      " [0 0 0 0 0 1 0 0 0 0 1 1 1 0 0 0 0 0 0 0 0 0 0 0 0]\n",
      " [1 0 1 0 0 0 0 0 1 0 0 0 0 1 0 0 0 0 0 0 0 0 0 0 0]\n",
      " [0 0 0 0 0 0 0 0 0 0 1 1 1 0 1 0 0 0 0 0 0 0 0 0 0]\n",
      " [1 0 1 0 0 0 0 1 0 0 0 1 1 0 0 1 1 1 0 0 0 0 0 0 0]\n",
      " [1 0 0 0 0 0 0 1 0 0 0 0 0 0 0 0 0 0 1 1 1 0 0 0 0]\n",
      " [0 0 0 0 0 1 0 0 0 0 1 1 0 0 0 0 0 0 0 0 0 1 1 1 0]\n",
      " [1 0 1 0 0 0 0 1 1 0 0 0 0 0 0 0 0 0 0 0 0 0 0 0 1]]\n"
     ]
    }
   ],
   "source": [
    "print(np_matriz)"
   ]
  }
 ],
 "metadata": {
  "kernelspec": {
   "display_name": "Python 3",
   "language": "python",
   "name": "python3"
  },
  "language_info": {
   "codemirror_mode": {
    "name": "ipython",
    "version": 3
   },
   "file_extension": ".py",
   "mimetype": "text/x-python",
   "name": "python",
   "nbconvert_exporter": "python",
   "pygments_lexer": "ipython3",
   "version": "3.12.3"
  }
 },
 "nbformat": 4,
 "nbformat_minor": 2
}
